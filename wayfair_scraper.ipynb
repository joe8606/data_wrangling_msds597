{
 "cells": [
  {
   "cell_type": "code",
   "execution_count": 24,
   "id": "8bd770ba",
   "metadata": {},
   "outputs": [],
   "source": [
    "import requests\n",
    "import json\n",
    "import pandas as pd\n",
    "from bs4 import BeautifulSoup"
   ]
  },
  {
   "cell_type": "code",
   "execution_count": 16,
   "id": "090353ce",
   "metadata": {},
   "outputs": [],
   "source": [
    "df = pd.read_csv('Products.csv')"
   ]
  },
  {
   "cell_type": "code",
   "execution_count": 18,
   "id": "cac946d3",
   "metadata": {},
   "outputs": [
    {
     "data": {
      "text/plain": [
       "'https://www.wayfair.com/furniture/pdp/hokku-designs-63-l-shaped-office-executive-standing-desk-with-file-cabinet-w112715089.html?piid=1702143331&auctionId=9bdbad2e-226f-4574-890f-49c7ace6183d&adTypeId=1'"
      ]
     },
     "execution_count": 18,
     "metadata": {},
     "output_type": "execute_result"
    }
   ],
   "source": [
    "df['url'][0]"
   ]
  },
  {
   "cell_type": "code",
   "execution_count": 43,
   "id": "294ce294",
   "metadata": {},
   "outputs": [],
   "source": [
    "url = df['url'][3]\n",
    "response = requests.request(\"GET\", url, headers=headers, data=payload)"
   ]
  },
  {
   "cell_type": "code",
   "execution_count": 44,
   "id": "484be720",
   "metadata": {},
   "outputs": [],
   "source": [
    "soup = BeautifulSoup(response.text, 'html.parser')"
   ]
  },
  {
   "cell_type": "code",
   "execution_count": 45,
   "id": "baf44696",
   "metadata": {},
   "outputs": [
    {
     "name": "stdout",
     "output_type": "stream",
     "text": [
      "Good quality. Desk surface is smooth. Great colored finish.  The legs are good but I wish they were a little more solid. But overall a nice piece for the price.\n",
      "---\n",
      "This desk is the perfect size and was easy to put together. It’s durable and is a perfect addition for my spare bedroom.\n",
      "---\n",
      "The desk is so beautiful! It fits perfectly in my space. The assembly couldn’t be easier. Highly recommend.\n",
      "---\n",
      "The finishing isnt great. I had to take some sandpaper to a few parts of the underside so my pants wouldn’t get damaged on the raw wood, and one of the legs was messed up.\n",
      "---\n",
      "Exactly as pictured. Top section with drawers came already put together so assembly was a breeze!\n",
      "---\n",
      "Perfect study space for my kids to do home work\n",
      "---\n",
      "This simple little desk was very easy to assemble and looks perfect with the black wainscoting in my office.\n",
      "---\n",
      "It went together really easily and looks good from a distance but it came with a scratch and a weird dirt patch. But for the price it’s solid. Also I could have returned it and decided it was good enough.\n",
      "---\n",
      "Super easy to assemble. The cabinet is not perfectly aligned.\n",
      "---\n",
      "I like the desk but when\n",
      "the box was delivered to my house it looked like it had been dropped and dragged all the way through the delivery process. The bottom of one  drawer was cracked. See pictures.\n",
      "---\n"
     ]
    }
   ],
   "source": [
    "# reviews = soup.find_all('p', class_='_6o3atzbl _6o3atz174')\n",
    "# for review in reviews:\n",
    "#     print(review.text)\n",
    "#     print('---')\n",
    "    \n",
    "    # Filter out unwanted information by selecting the correct div\n",
    "review_divs = soup.find_all('div', {'data-hb-id': 'BoxV3', 'data-rtl-id': lambda x: x and x.startswith('reviewCard-')})\n",
    "for div in review_divs:\n",
    "    review_text = div.find('p', class_='_6o3atzbl _6o3atz174')\n",
    "    if review_text:\n",
    "        print(review_text.text)\n",
    "        print('---')"
   ]
  },
  {
   "cell_type": "code",
   "execution_count": 42,
   "id": "06d18d76",
   "metadata": {},
   "outputs": [
    {
     "data": {
      "text/plain": [
       "[]"
      ]
     },
     "execution_count": 42,
     "metadata": {},
     "output_type": "execute_result"
    }
   ],
   "source": [
    "review_div = soup.find_all('p', _class = '_6o3atzbl _6o3atz174')\n",
    "review_div"
   ]
  },
  {
   "cell_type": "code",
   "execution_count": null,
   "id": "a387fec7",
   "metadata": {},
   "outputs": [],
   "source": [
    "def get_reviews(url):\n",
    "    all_reviews = []\n",
    "    try:\n",
    "        response = requests.get(url)\n",
    "        soup = BeautifulSoup(response.text, 'html.parser')\n",
    "        \n",
    "    except Exception as e:\n",
    "        print(f\"Error fetching reviews from {url}: {e}\")"
   ]
  }
 ],
 "metadata": {
  "kernelspec": {
   "display_name": "Python 3",
   "language": "python",
   "name": "python3"
  },
  "language_info": {
   "codemirror_mode": {
    "name": "ipython",
    "version": 3
   },
   "file_extension": ".py",
   "mimetype": "text/x-python",
   "name": "python",
   "nbconvert_exporter": "python",
   "pygments_lexer": "ipython3",
   "version": "3.12.8"
  }
 },
 "nbformat": 4,
 "nbformat_minor": 5
}
