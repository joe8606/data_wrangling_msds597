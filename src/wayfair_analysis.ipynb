{
 "cells": [
  {
   "cell_type": "code",
   "execution_count": 1,
   "id": "613b617d",
   "metadata": {},
   "outputs": [
    {
     "data": {
      "text/plain": [
       "'/Users/premthakkar/lilnope/Data Wrangling/Project/data_wrangling_msds597/src'"
      ]
     },
     "execution_count": 1,
     "metadata": {},
     "output_type": "execute_result"
    }
   ],
   "source": [
    "import os\n",
    "os.getcwd()  # Ensure the current working directory is set correctly"
   ]
  },
  {
   "cell_type": "markdown",
   "id": "d3f75df2",
   "metadata": {},
   "source": [
    "### Step 1: Load and clean product data from CSV"
   ]
  },
  {
   "cell_type": "code",
   "execution_count": 2,
   "id": "190f5394",
   "metadata": {},
   "outputs": [
    {
     "data": {
      "text/html": [
       "<div>\n",
       "<style scoped>\n",
       "    .dataframe tbody tr th:only-of-type {\n",
       "        vertical-align: middle;\n",
       "    }\n",
       "\n",
       "    .dataframe tbody tr th {\n",
       "        vertical-align: top;\n",
       "    }\n",
       "\n",
       "    .dataframe thead th {\n",
       "        text-align: right;\n",
       "    }\n",
       "</style>\n",
       "<table border=\"1\" class=\"dataframe\">\n",
       "  <thead>\n",
       "    <tr style=\"text-align: right;\">\n",
       "      <th></th>\n",
       "      <th>title</th>\n",
       "      <th>price</th>\n",
       "      <th>reviews</th>\n",
       "      <th>star_rating</th>\n",
       "      <th>url</th>\n",
       "    </tr>\n",
       "  </thead>\n",
       "  <tbody>\n",
       "    <tr>\n",
       "      <th>0</th>\n",
       "      <td>63\" L Shaped Office Executive Standing Desk wi...</td>\n",
       "      <td>$231.99</td>\n",
       "      <td>(239)</td>\n",
       "      <td>4.0</td>\n",
       "      <td>https://www.wayfair.com/furniture/pdp/hokku-de...</td>\n",
       "    </tr>\n",
       "    <tr>\n",
       "      <th>1</th>\n",
       "      <td>Dediu Farmhouse Computer Desk With Charging St...</td>\n",
       "      <td>$183.99</td>\n",
       "      <td>(173)</td>\n",
       "      <td>4.5</td>\n",
       "      <td>https://www.wayfair.com/furniture/pdp/august-g...</td>\n",
       "    </tr>\n",
       "    <tr>\n",
       "      <th>2</th>\n",
       "      <td>Koree Standing &amp; Height-Adjustable Desks</td>\n",
       "      <td>$131.99</td>\n",
       "      <td>(64)</td>\n",
       "      <td>5.0</td>\n",
       "      <td>https://www.wayfair.com/furniture/pdp/inbox-ze...</td>\n",
       "    </tr>\n",
       "    <tr>\n",
       "      <th>3</th>\n",
       "      <td>Caidence Computer Desk</td>\n",
       "      <td>$699.99</td>\n",
       "      <td>(11)</td>\n",
       "      <td>3.5</td>\n",
       "      <td>https://www.wayfair.com/furniture/pdp/george-o...</td>\n",
       "    </tr>\n",
       "    <tr>\n",
       "      <th>4</th>\n",
       "      <td>Channay Writing Desk</td>\n",
       "      <td>$309.99</td>\n",
       "      <td>(2)</td>\n",
       "      <td>4.0</td>\n",
       "      <td>https://www.wayfair.com/furniture/pdp/wade-log...</td>\n",
       "    </tr>\n",
       "  </tbody>\n",
       "</table>\n",
       "</div>"
      ],
      "text/plain": [
       "                                               title    price reviews  \\\n",
       "0  63\" L Shaped Office Executive Standing Desk wi...  $231.99   (239)   \n",
       "1  Dediu Farmhouse Computer Desk With Charging St...  $183.99   (173)   \n",
       "2           Koree Standing & Height-Adjustable Desks  $131.99    (64)   \n",
       "3                             Caidence Computer Desk  $699.99    (11)   \n",
       "4                               Channay Writing Desk  $309.99     (2)   \n",
       "\n",
       "   star_rating                                                url  \n",
       "0          4.0  https://www.wayfair.com/furniture/pdp/hokku-de...  \n",
       "1          4.5  https://www.wayfair.com/furniture/pdp/august-g...  \n",
       "2          5.0  https://www.wayfair.com/furniture/pdp/inbox-ze...  \n",
       "3          3.5  https://www.wayfair.com/furniture/pdp/george-o...  \n",
       "4          4.0  https://www.wayfair.com/furniture/pdp/wade-log...  "
      ]
     },
     "execution_count": 2,
     "metadata": {},
     "output_type": "execute_result"
    }
   ],
   "source": [
    "import pandas as pd\n",
    "import matplotlib.pyplot as plt\n",
    "import seaborn as sns\n",
    "\n",
    "# Load the dataset\n",
    "df = pd.read_csv(\"../dat/wayfair_bs4_products.csv\")\n",
    "\n",
    "df.head()"
   ]
  },
  {
   "cell_type": "code",
   "execution_count": 3,
   "id": "1e63aeae",
   "metadata": {},
   "outputs": [
    {
     "name": "stderr",
     "output_type": "stream",
     "text": [
      "<>:2: SyntaxWarning: invalid escape sequence '\\$'\n",
      "<>:2: SyntaxWarning: invalid escape sequence '\\$'\n",
      "/var/folders/r2/cp8kvql56lj6nt9f91f925tm0000gn/T/ipykernel_10202/1086219840.py:2: SyntaxWarning: invalid escape sequence '\\$'\n",
      "  df['price'] = df['price'].replace('[\\$,]', '', regex=True).astype(float)\n"
     ]
    },
    {
     "data": {
      "text/html": [
       "<div>\n",
       "<style scoped>\n",
       "    .dataframe tbody tr th:only-of-type {\n",
       "        vertical-align: middle;\n",
       "    }\n",
       "\n",
       "    .dataframe tbody tr th {\n",
       "        vertical-align: top;\n",
       "    }\n",
       "\n",
       "    .dataframe thead th {\n",
       "        text-align: right;\n",
       "    }\n",
       "</style>\n",
       "<table border=\"1\" class=\"dataframe\">\n",
       "  <thead>\n",
       "    <tr style=\"text-align: right;\">\n",
       "      <th></th>\n",
       "      <th>title</th>\n",
       "      <th>price</th>\n",
       "      <th>reviews</th>\n",
       "      <th>star_rating</th>\n",
       "      <th>url</th>\n",
       "      <th>page</th>\n",
       "    </tr>\n",
       "  </thead>\n",
       "  <tbody>\n",
       "    <tr>\n",
       "      <th>0</th>\n",
       "      <td>63\" L Shaped Office Executive Standing Desk wi...</td>\n",
       "      <td>231.99</td>\n",
       "      <td>239</td>\n",
       "      <td>4.0</td>\n",
       "      <td>https://www.wayfair.com/furniture/pdp/hokku-de...</td>\n",
       "      <td>1</td>\n",
       "    </tr>\n",
       "    <tr>\n",
       "      <th>1</th>\n",
       "      <td>Dediu Farmhouse Computer Desk With Charging St...</td>\n",
       "      <td>183.99</td>\n",
       "      <td>173</td>\n",
       "      <td>4.5</td>\n",
       "      <td>https://www.wayfair.com/furniture/pdp/august-g...</td>\n",
       "      <td>1</td>\n",
       "    </tr>\n",
       "    <tr>\n",
       "      <th>2</th>\n",
       "      <td>Koree Standing &amp; Height-Adjustable Desks</td>\n",
       "      <td>131.99</td>\n",
       "      <td>64</td>\n",
       "      <td>5.0</td>\n",
       "      <td>https://www.wayfair.com/furniture/pdp/inbox-ze...</td>\n",
       "      <td>1</td>\n",
       "    </tr>\n",
       "    <tr>\n",
       "      <th>3</th>\n",
       "      <td>Caidence Computer Desk</td>\n",
       "      <td>699.99</td>\n",
       "      <td>11</td>\n",
       "      <td>3.5</td>\n",
       "      <td>https://www.wayfair.com/furniture/pdp/george-o...</td>\n",
       "      <td>1</td>\n",
       "    </tr>\n",
       "    <tr>\n",
       "      <th>4</th>\n",
       "      <td>Channay Writing Desk</td>\n",
       "      <td>309.99</td>\n",
       "      <td>2</td>\n",
       "      <td>4.0</td>\n",
       "      <td>https://www.wayfair.com/furniture/pdp/wade-log...</td>\n",
       "      <td>1</td>\n",
       "    </tr>\n",
       "  </tbody>\n",
       "</table>\n",
       "</div>"
      ],
      "text/plain": [
       "                                               title   price  reviews  \\\n",
       "0  63\" L Shaped Office Executive Standing Desk wi...  231.99      239   \n",
       "1  Dediu Farmhouse Computer Desk With Charging St...  183.99      173   \n",
       "2           Koree Standing & Height-Adjustable Desks  131.99       64   \n",
       "3                             Caidence Computer Desk  699.99       11   \n",
       "4                               Channay Writing Desk  309.99        2   \n",
       "\n",
       "   star_rating                                                url  page  \n",
       "0          4.0  https://www.wayfair.com/furniture/pdp/hokku-de...     1  \n",
       "1          4.5  https://www.wayfair.com/furniture/pdp/august-g...     1  \n",
       "2          5.0  https://www.wayfair.com/furniture/pdp/inbox-ze...     1  \n",
       "3          3.5  https://www.wayfair.com/furniture/pdp/george-o...     1  \n",
       "4          4.0  https://www.wayfair.com/furniture/pdp/wade-log...     1  "
      ]
     },
     "execution_count": 3,
     "metadata": {},
     "output_type": "execute_result"
    }
   ],
   "source": [
    "# Clean the 'price' column: remove dollar signs and convert to float\n",
    "df['price'] = df['price'].replace('[\\$,]', '', regex=True).astype(float)\n",
    "\n",
    "# Remove parentheses and drop NaN before converting to int\n",
    "df['reviews'] = df['reviews'].astype(str).str.replace('[()]', '', regex=True)\n",
    "df = df[df['reviews'].str.lower() != 'nan']\n",
    "df['reviews'] = df['reviews'].astype(int)\n",
    "\n",
    "\n",
    "# Add a 'page' column to indicate which page the product came from (6 items per page)\n",
    "df['page'] = df.index // 6 + 1\n",
    "\n",
    "df.head()"
   ]
  },
  {
   "cell_type": "code",
   "execution_count": 4,
   "id": "e9cab6a3",
   "metadata": {},
   "outputs": [
    {
     "data": {
      "application/vnd.plotly.v1+json": {
       "config": {
        "plotlyServerURL": "https://plot.ly"
       },
       "data": [
        {
         "bingroup": "x",
         "hovertemplate": "Price ($)=%{x}<br>count=%{y}<extra></extra>",
         "legendgroup": "",
         "marker": {
          "color": "#636efa",
          "pattern": {
           "shape": ""
          }
         },
         "name": "",
         "nbinsx": 20,
         "orientation": "v",
         "showlegend": false,
         "type": "histogram",
         "x": {
          "bdata": "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",
          "dtype": "f8"
         },
         "xaxis": "x",
         "yaxis": "y"
        },
        {
         "hovertemplate": "Price ($)=%{x}<extra></extra>",
         "legendgroup": "",
         "marker": {
          "color": "#636efa"
         },
         "name": "",
         "notched": true,
         "showlegend": false,
         "type": "box",
         "x": {
          "bdata": "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",
          "dtype": "f8"
         },
         "xaxis": "x2",
         "yaxis": "y2"
        }
       ],
       "layout": {
        "bargap": 0.1,
        "barmode": "relative",
        "legend": {
         "tracegroupgap": 0
        },
        "template": {
         "data": {
          "bar": [
           {
            "error_x": {
             "color": "#2a3f5f"
            },
            "error_y": {
             "color": "#2a3f5f"
            },
            "marker": {
             "line": {
              "color": "#E5ECF6",
              "width": 0.5
             },
             "pattern": {
              "fillmode": "overlay",
              "size": 10,
              "solidity": 0.2
             }
            },
            "type": "bar"
           }
          ],
          "barpolar": [
           {
            "marker": {
             "line": {
              "color": "#E5ECF6",
              "width": 0.5
             },
             "pattern": {
              "fillmode": "overlay",
              "size": 10,
              "solidity": 0.2
             }
            },
            "type": "barpolar"
           }
          ],
          "carpet": [
           {
            "aaxis": {
             "endlinecolor": "#2a3f5f",
             "gridcolor": "white",
             "linecolor": "white",
             "minorgridcolor": "white",
             "startlinecolor": "#2a3f5f"
            },
            "baxis": {
             "endlinecolor": "#2a3f5f",
             "gridcolor": "white",
             "linecolor": "white",
             "minorgridcolor": "white",
             "startlinecolor": "#2a3f5f"
            },
            "type": "carpet"
           }
          ],
          "choropleth": [
           {
            "colorbar": {
             "outlinewidth": 0,
             "ticks": ""
            },
            "type": "choropleth"
           }
          ],
          "contour": [
           {
            "colorbar": {
             "outlinewidth": 0,
             "ticks": ""
            },
            "colorscale": [
             [
              0,
              "#0d0887"
             ],
             [
              0.1111111111111111,
              "#46039f"
             ],
             [
              0.2222222222222222,
              "#7201a8"
             ],
             [
              0.3333333333333333,
              "#9c179e"
             ],
             [
              0.4444444444444444,
              "#bd3786"
             ],
             [
              0.5555555555555556,
              "#d8576b"
             ],
             [
              0.6666666666666666,
              "#ed7953"
             ],
             [
              0.7777777777777778,
              "#fb9f3a"
             ],
             [
              0.8888888888888888,
              "#fdca26"
             ],
             [
              1,
              "#f0f921"
             ]
            ],
            "type": "contour"
           }
          ],
          "contourcarpet": [
           {
            "colorbar": {
             "outlinewidth": 0,
             "ticks": ""
            },
            "type": "contourcarpet"
           }
          ],
          "heatmap": [
           {
            "colorbar": {
             "outlinewidth": 0,
             "ticks": ""
            },
            "colorscale": [
             [
              0,
              "#0d0887"
             ],
             [
              0.1111111111111111,
              "#46039f"
             ],
             [
              0.2222222222222222,
              "#7201a8"
             ],
             [
              0.3333333333333333,
              "#9c179e"
             ],
             [
              0.4444444444444444,
              "#bd3786"
             ],
             [
              0.5555555555555556,
              "#d8576b"
             ],
             [
              0.6666666666666666,
              "#ed7953"
             ],
             [
              0.7777777777777778,
              "#fb9f3a"
             ],
             [
              0.8888888888888888,
              "#fdca26"
             ],
             [
              1,
              "#f0f921"
             ]
            ],
            "type": "heatmap"
           }
          ],
          "histogram": [
           {
            "marker": {
             "pattern": {
              "fillmode": "overlay",
              "size": 10,
              "solidity": 0.2
             }
            },
            "type": "histogram"
           }
          ],
          "histogram2d": [
           {
            "colorbar": {
             "outlinewidth": 0,
             "ticks": ""
            },
            "colorscale": [
             [
              0,
              "#0d0887"
             ],
             [
              0.1111111111111111,
              "#46039f"
             ],
             [
              0.2222222222222222,
              "#7201a8"
             ],
             [
              0.3333333333333333,
              "#9c179e"
             ],
             [
              0.4444444444444444,
              "#bd3786"
             ],
             [
              0.5555555555555556,
              "#d8576b"
             ],
             [
              0.6666666666666666,
              "#ed7953"
             ],
             [
              0.7777777777777778,
              "#fb9f3a"
             ],
             [
              0.8888888888888888,
              "#fdca26"
             ],
             [
              1,
              "#f0f921"
             ]
            ],
            "type": "histogram2d"
           }
          ],
          "histogram2dcontour": [
           {
            "colorbar": {
             "outlinewidth": 0,
             "ticks": ""
            },
            "colorscale": [
             [
              0,
              "#0d0887"
             ],
             [
              0.1111111111111111,
              "#46039f"
             ],
             [
              0.2222222222222222,
              "#7201a8"
             ],
             [
              0.3333333333333333,
              "#9c179e"
             ],
             [
              0.4444444444444444,
              "#bd3786"
             ],
             [
              0.5555555555555556,
              "#d8576b"
             ],
             [
              0.6666666666666666,
              "#ed7953"
             ],
             [
              0.7777777777777778,
              "#fb9f3a"
             ],
             [
              0.8888888888888888,
              "#fdca26"
             ],
             [
              1,
              "#f0f921"
             ]
            ],
            "type": "histogram2dcontour"
           }
          ],
          "mesh3d": [
           {
            "colorbar": {
             "outlinewidth": 0,
             "ticks": ""
            },
            "type": "mesh3d"
           }
          ],
          "parcoords": [
           {
            "line": {
             "colorbar": {
              "outlinewidth": 0,
              "ticks": ""
             }
            },
            "type": "parcoords"
           }
          ],
          "pie": [
           {
            "automargin": true,
            "type": "pie"
           }
          ],
          "scatter": [
           {
            "fillpattern": {
             "fillmode": "overlay",
             "size": 10,
             "solidity": 0.2
            },
            "type": "scatter"
           }
          ],
          "scatter3d": [
           {
            "line": {
             "colorbar": {
              "outlinewidth": 0,
              "ticks": ""
             }
            },
            "marker": {
             "colorbar": {
              "outlinewidth": 0,
              "ticks": ""
             }
            },
            "type": "scatter3d"
           }
          ],
          "scattercarpet": [
           {
            "marker": {
             "colorbar": {
              "outlinewidth": 0,
              "ticks": ""
             }
            },
            "type": "scattercarpet"
           }
          ],
          "scattergeo": [
           {
            "marker": {
             "colorbar": {
              "outlinewidth": 0,
              "ticks": ""
             }
            },
            "type": "scattergeo"
           }
          ],
          "scattergl": [
           {
            "marker": {
             "colorbar": {
              "outlinewidth": 0,
              "ticks": ""
             }
            },
            "type": "scattergl"
           }
          ],
          "scattermap": [
           {
            "marker": {
             "colorbar": {
              "outlinewidth": 0,
              "ticks": ""
             }
            },
            "type": "scattermap"
           }
          ],
          "scattermapbox": [
           {
            "marker": {
             "colorbar": {
              "outlinewidth": 0,
              "ticks": ""
             }
            },
            "type": "scattermapbox"
           }
          ],
          "scatterpolar": [
           {
            "marker": {
             "colorbar": {
              "outlinewidth": 0,
              "ticks": ""
             }
            },
            "type": "scatterpolar"
           }
          ],
          "scatterpolargl": [
           {
            "marker": {
             "colorbar": {
              "outlinewidth": 0,
              "ticks": ""
             }
            },
            "type": "scatterpolargl"
           }
          ],
          "scatterternary": [
           {
            "marker": {
             "colorbar": {
              "outlinewidth": 0,
              "ticks": ""
             }
            },
            "type": "scatterternary"
           }
          ],
          "surface": [
           {
            "colorbar": {
             "outlinewidth": 0,
             "ticks": ""
            },
            "colorscale": [
             [
              0,
              "#0d0887"
             ],
             [
              0.1111111111111111,
              "#46039f"
             ],
             [
              0.2222222222222222,
              "#7201a8"
             ],
             [
              0.3333333333333333,
              "#9c179e"
             ],
             [
              0.4444444444444444,
              "#bd3786"
             ],
             [
              0.5555555555555556,
              "#d8576b"
             ],
             [
              0.6666666666666666,
              "#ed7953"
             ],
             [
              0.7777777777777778,
              "#fb9f3a"
             ],
             [
              0.8888888888888888,
              "#fdca26"
             ],
             [
              1,
              "#f0f921"
             ]
            ],
            "type": "surface"
           }
          ],
          "table": [
           {
            "cells": {
             "fill": {
              "color": "#EBF0F8"
             },
             "line": {
              "color": "white"
             }
            },
            "header": {
             "fill": {
              "color": "#C8D4E3"
             },
             "line": {
              "color": "white"
             }
            },
            "type": "table"
           }
          ]
         },
         "layout": {
          "annotationdefaults": {
           "arrowcolor": "#2a3f5f",
           "arrowhead": 0,
           "arrowwidth": 1
          },
          "autotypenumbers": "strict",
          "coloraxis": {
           "colorbar": {
            "outlinewidth": 0,
            "ticks": ""
           }
          },
          "colorscale": {
           "diverging": [
            [
             0,
             "#8e0152"
            ],
            [
             0.1,
             "#c51b7d"
            ],
            [
             0.2,
             "#de77ae"
            ],
            [
             0.3,
             "#f1b6da"
            ],
            [
             0.4,
             "#fde0ef"
            ],
            [
             0.5,
             "#f7f7f7"
            ],
            [
             0.6,
             "#e6f5d0"
            ],
            [
             0.7,
             "#b8e186"
            ],
            [
             0.8,
             "#7fbc41"
            ],
            [
             0.9,
             "#4d9221"
            ],
            [
             1,
             "#276419"
            ]
           ],
           "sequential": [
            [
             0,
             "#0d0887"
            ],
            [
             0.1111111111111111,
             "#46039f"
            ],
            [
             0.2222222222222222,
             "#7201a8"
            ],
            [
             0.3333333333333333,
             "#9c179e"
            ],
            [
             0.4444444444444444,
             "#bd3786"
            ],
            [
             0.5555555555555556,
             "#d8576b"
            ],
            [
             0.6666666666666666,
             "#ed7953"
            ],
            [
             0.7777777777777778,
             "#fb9f3a"
            ],
            [
             0.8888888888888888,
             "#fdca26"
            ],
            [
             1,
             "#f0f921"
            ]
           ],
           "sequentialminus": [
            [
             0,
             "#0d0887"
            ],
            [
             0.1111111111111111,
             "#46039f"
            ],
            [
             0.2222222222222222,
             "#7201a8"
            ],
            [
             0.3333333333333333,
             "#9c179e"
            ],
            [
             0.4444444444444444,
             "#bd3786"
            ],
            [
             0.5555555555555556,
             "#d8576b"
            ],
            [
             0.6666666666666666,
             "#ed7953"
            ],
            [
             0.7777777777777778,
             "#fb9f3a"
            ],
            [
             0.8888888888888888,
             "#fdca26"
            ],
            [
             1,
             "#f0f921"
            ]
           ]
          },
          "colorway": [
           "#636efa",
           "#EF553B",
           "#00cc96",
           "#ab63fa",
           "#FFA15A",
           "#19d3f3",
           "#FF6692",
           "#B6E880",
           "#FF97FF",
           "#FECB52"
          ],
          "font": {
           "color": "#2a3f5f"
          },
          "geo": {
           "bgcolor": "white",
           "lakecolor": "white",
           "landcolor": "#E5ECF6",
           "showlakes": true,
           "showland": true,
           "subunitcolor": "white"
          },
          "hoverlabel": {
           "align": "left"
          },
          "hovermode": "closest",
          "mapbox": {
           "style": "light"
          },
          "paper_bgcolor": "white",
          "plot_bgcolor": "#E5ECF6",
          "polar": {
           "angularaxis": {
            "gridcolor": "white",
            "linecolor": "white",
            "ticks": ""
           },
           "bgcolor": "#E5ECF6",
           "radialaxis": {
            "gridcolor": "white",
            "linecolor": "white",
            "ticks": ""
           }
          },
          "scene": {
           "xaxis": {
            "backgroundcolor": "#E5ECF6",
            "gridcolor": "white",
            "gridwidth": 2,
            "linecolor": "white",
            "showbackground": true,
            "ticks": "",
            "zerolinecolor": "white"
           },
           "yaxis": {
            "backgroundcolor": "#E5ECF6",
            "gridcolor": "white",
            "gridwidth": 2,
            "linecolor": "white",
            "showbackground": true,
            "ticks": "",
            "zerolinecolor": "white"
           },
           "zaxis": {
            "backgroundcolor": "#E5ECF6",
            "gridcolor": "white",
            "gridwidth": 2,
            "linecolor": "white",
            "showbackground": true,
            "ticks": "",
            "zerolinecolor": "white"
           }
          },
          "shapedefaults": {
           "line": {
            "color": "#2a3f5f"
           }
          },
          "ternary": {
           "aaxis": {
            "gridcolor": "white",
            "linecolor": "white",
            "ticks": ""
           },
           "baxis": {
            "gridcolor": "white",
            "linecolor": "white",
            "ticks": ""
           },
           "bgcolor": "#E5ECF6",
           "caxis": {
            "gridcolor": "white",
            "linecolor": "white",
            "ticks": ""
           }
          },
          "title": {
           "x": 0.05
          },
          "xaxis": {
           "automargin": true,
           "gridcolor": "white",
           "linecolor": "white",
           "ticks": "",
           "title": {
            "standoff": 15
           },
           "zerolinecolor": "white",
           "zerolinewidth": 2
          },
          "yaxis": {
           "automargin": true,
           "gridcolor": "white",
           "linecolor": "white",
           "ticks": "",
           "title": {
            "standoff": 15
           },
           "zerolinecolor": "white",
           "zerolinewidth": 2
          }
         }
        },
        "title": {
         "text": "Price Distribution"
        },
        "xaxis": {
         "anchor": "y",
         "domain": [
          0,
          1
         ],
         "title": {
          "text": "Price ($)"
         }
        },
        "xaxis2": {
         "anchor": "y2",
         "domain": [
          0,
          1
         ],
         "matches": "x",
         "showgrid": true,
         "showticklabels": false
        },
        "yaxis": {
         "anchor": "x",
         "domain": [
          0,
          0.8316
         ],
         "title": {
          "text": "count"
         }
        },
        "yaxis2": {
         "anchor": "x2",
         "domain": [
          0.8416,
          1
         ],
         "matches": "y2",
         "showgrid": false,
         "showline": false,
         "showticklabels": false,
         "ticks": ""
        }
       }
      }
     },
     "metadata": {},
     "output_type": "display_data"
    }
   ],
   "source": [
    "import plotly.express as px\n",
    "\n",
    "fig = px.histogram(\n",
    "    df,\n",
    "    x=\"price\",\n",
    "    nbins=20,\n",
    "    title=\"Price Distribution\",\n",
    "    labels={\"price\": \"Price ($)\"},\n",
    "    marginal=\"box\"  # Optional: adds box plot on side\n",
    ")\n",
    "fig.update_layout(bargap=0.1)\n",
    "fig.show()\n"
   ]
  },
  {
   "cell_type": "code",
   "execution_count": 5,
   "id": "f9a3f8e1",
   "metadata": {},
   "outputs": [
    {
     "data": {
      "application/vnd.plotly.v1+json": {
       "config": {
        "plotlyServerURL": "https://plot.ly"
       },
       "data": [
        {
         "bingroup": "x",
         "hovertemplate": "Star Rating=%{x}<br>count=%{y}<extra></extra>",
         "legendgroup": "",
         "marker": {
          "color": "#636efa",
          "pattern": {
           "shape": ""
          }
         },
         "name": "",
         "orientation": "v",
         "showlegend": false,
         "type": "histogram",
         "x": {
          "bdata": "AAAAAAAAEEAAAAAAAAASQAAAAAAAABRAAAAAAAAADEAAAAAAAAAQQAAAAAAAABJAAAAAAAAAEEAAAAAAAAASQAAAAAAAABRAAAAAAAAADEAAAAAAAAAUQAAAAAAAABRAAAAAAAAAEEAAAAAAAAASQAAAAAAAABRAAAAAAAAADEAAAAAAAAAQQAAAAAAAABJAAAAAAAAAEEAAAAAAAAASQAAAAAAAABRAAAAAAAAADEAAAAAAAAAQQAAAAAAAABJAAAAAAAAAEEAAAAAAAAASQAAAAAAAABRAAAAAAAAADEAAAAAAAAAQQAAAAAAAABJAAAAAAAAAEEAAAAAAAAASQAAAAAAAABRAAAAAAAAADEAAAAAAAAAQQAAAAAAAABJAAAAAAAAAEEAAAAAAAAASQAAAAAAAABRAAAAAAAAADEAAAAAAAAAQQAAAAAAAABJAAAAAAAAAEEAAAAAAAAASQAAAAAAAABRAAAAAAAAADEAAAAAAAAAQQAAAAAAAABBAAAAAAAAAEEAAAAAAAAASQAAAAAAAABRAAAAAAAAADEAAAAAAAAAQQAAAAAAAABJAAAAAAAAAEEAAAAAAAAASQAAAAAAAABRAAAAAAAAADEAAAAAAAAAQQAAAAAAAABBAAAAAAAAAEEAAAAAAAAASQAAAAAAAABRAAAAAAAAAEkAAAAAAAAASQAAAAAAAABRAAAAAAAAAEEAAAAAAAAASQAAAAAAAABRAAAAAAAAAEkAAAAAAAAASQAAAAAAAABBAAAAAAAAAEEAAAAAAAAASQAAAAAAAABRAAAAAAAAAEkAAAAAAAAAQQAAAAAAAABJAAAAAAAAAEEAAAAAAAAASQAAAAAAAABRAAAAAAAAAFEAAAAAAAAASQAAAAAAAABJAAAAAAAAAEEAAAAAAAAASQAAAAAAAABRAAAAAAAAAFEAAAAAAAAAUQAAAAAAAABJAAAAAAAAAEEAAAAAAAAASQAAAAAAAABRAAAAAAAAAEkAAAAAAAAAQQAAAAAAAABRAAAAAAAAAEEAAAAAAAAASQAAAAAAAABRAAAAAAAAAFEAAAAAAAAAUQAAAAAAAABJAAAAAAAAAEEAAAAAAAAASQAAAAAAAABRAAAAAAAAAEkAAAAAAAAASQAAAAAAAABJAAAAAAAAAEEAAAAAAAAASQAAAAAAAABRAAAAAAAAAEkAAAAAAAAAUQAAAAAAAABJAAAAAAAAAEEAAAAAAAAASQAAAAAAAABRAAAAAAAAAEkAAAAAAAAASQAAAAAAAABJAAAAAAAAAEEAAAAAAAAASQAAAAAAAABJAAAAAAAAAEkAAAAAAAAAMQAAAAAAAABJAAAAAAAAAEEAAAAAAAAASQAAAAAAAABRAAAAAAAAAFEAAAAAAAAASQAAAAAAAABJAAAAAAAAAEEAAAAAAAAASQAAAAAAAABRAAAAAAAAAEkAAAAAAAAASQAAAAAAAAAhAAAAAAAAAEEAAAAAAAAASQAAAAAAAABRAAAAAAAAAEkAAAAAAAAASQAAAAAAAABJAAAAAAAAAEEAAAAAAAAASQAAAAAAAABRAAAAAAAAAEEAAAAAAAAASQAAAAAAAABRAAAAAAAAAEEAAAAAAAAAUQAAAAAAAABBAAAAAAAAAEkAAAAAAAAAUQAAAAAAAABJAAAAAAAAAEEAAAAAAAAASQAAAAAAAABJAAAAAAAAAEEAAAAAAAAASQAAAAAAAABJAAAAAAAAAFEAAAAAAAAAQQAAAAAAAABJAAAAAAAAAFEAAAAAAAAAUQAAAAAAAABBAAAAAAAAAFEAAAAAAAAAQQAAAAAAAABJAAAAAAAAAFEAAAAAAAAASQAAAAAAAABJAAAAAAAAAEkAAAAAAAAAQQAAAAAAAABJAAAAAAAAAFEAAAAAAAAASQAAAAAAAABJAAAAAAAAAEkAAAAAAAAAQQAAAAAAAABJAAAAAAAAAFEAAAAAAAAASQAAAAAAAABJAAAAAAAAACEAAAAAAAAASQAAAAAAAABJAAAAAAAAAFEAAAAAAAAAUQAAAAAAAABJAAAAAAAAAEkAAAAAAAAAQQAAAAAAAABJAAAAAAAAAFEAAAAAAAAAUQAAAAAAAABJAAAAAAAAAEkAAAAAAAAAQQAAAAAAAABJAAAAAAAAAFEAAAAAAAAASQAAAAAAAABJAAAAAAAAAEEAAAAAAAAAQQAAAAAAAABJAAAAAAAAAFEAAAAAAAAAQQAAAAAAAABRAAAAAAAAAEkAAAAAAAAAQQAAAAAAAABJAAAAAAAAAFEAAAAAAAAASQAAAAAAAABRAAAAAAAAAEkAAAAAAAAAQQAAAAAAAABJAAAAAAAAAFEAAAAAAAAAUQAAAAAAAABBAAAAAAAAAFEAAAAAAAAAQQAAAAAAAABJAAAAAAAAAFEAAAAAAAAAQQAAAAAAAABJAAAAAAAAAFEAAAAAAAAAQQAAAAAAAABJAAAAAAAAAFEAAAAAAAAASQAAAAAAAABJAAAAAAAAAEEAAAAAAAAAQQAAAAAAAABJAAAAAAAAAFEAAAAAAAAASQAAAAAAAAARAAAAAAAAADEAAAAAAAAAQQAAAAAAAABJAAAAAAAAAFEAAAAAAAAASQAAAAAAAAAxAAAAAAAAAEEAAAAAAAAASQAAAAAAAABRAAAAAAAAAEkAAAAAAAAAIQAAAAAAAABRAAAAAAAAAEEAAAAAAAAASQAAAAAAAABRAAAAAAAAAEEAAAAAAAAAUQAAAAAAAABJAAAAAAAAAEEAAAAAAAAASQAAAAAAAABRAAAAAAAAAEkAAAAAAAAASQAAAAAAAABBAAAAAAAAAEkAAAAAAAAAUQAAAAAAAABJAAAAAAAAAFEAAAAAAAAAQQAAAAAAAABJAAAAAAAAAFEAAAAAAAAAUQAAAAAAAABRAAAAAAAAAFEAAAAAAAAAQQAAAAAAAABJAAAAAAAAAFEAAAAAAAAASQAAAAAAAABJAAAAAAAAAEkAAAAAAAAAQQAAAAAAAABJAAAAAAAAAFEAAAAAAAAAIQAAAAAAAABBAAAAAAAAAEkAAAAAAAAAQQAAAAAAAABJAAAAAAAAAFEAAAAAAAAASQAAAAAAAABJAAAAAAAAAEkAAAAAAAAAQQAAAAAAAABJAAAAAAAAAFEAAAAAAAAAMQAAAAAAAABJAAAAAAAAAEkAAAAAAAAAQQAAAAAAAABJAAAAAAAAAFEAAAAAAAAAUQAAAAAAAABRAAAAAAAAAEEAAAAAAAAAQQAAAAAAAABJAAAAAAAAAFEAAAAAAAAASQAAAAAAAABJAAAAAAAAAEEAAAAAAAAASQAAAAAAAABRAAAAAAAAAEkAAAAAAAAAUQAAAAAAAAPA/AAAAAAAAEEAAAAAAAAASQAAAAAAAABRAAAAAAAAAEkAAAAAAAAAUQAAAAAAAABJAAAAAAAAAEEAAAAAAAAASQAAAAAAAABRAAAAAAAAA8D8AAAAAAAAUQAAAAAAAABRAAAAAAAAAEEAAAAAAAAASQAAAAAAAABRAAAAAAAAAEEAAAAAAAAAQQAAAAAAAABJAAAAAAAAAFEAAAAAAAAAQQAAAAAAAAAxAAAAAAAAAEEAAAAAAAAASQAAAAAAAABRAAAAAAAAAEkAAAAAAAAAMQAAAAAAAABRAAAAAAAAAEEAAAAAAAAASQAAAAAAAABRAAAAAAAAAEkAAAAAAAAASQAAAAAAAABJAAAAAAAAAEEAAAAAAAAASQAAAAAAAABRAAAAAAAAAEEAAAAAAAAASQAAAAAAAABRAAAAAAAAAEkAAAAAAAAAQQAAAAAAAABJAAAAAAAAAEEAAAAAAAAASQAAAAAAAABRAAAAAAAAAFEAAAAAAAAASQAAAAAAAABJAAAAAAAAAEEAAAAAAAAASQAAAAAAAABRAAAAAAAAAEEAAAAAAAAASQAAAAAAAABRAAAAAAAAAFEAAAAAAAAAQQAAAAAAAABJAAAAAAAAAFEAAAAAAAAASQAAAAAAAABJAAAAAAAAAEkAAAAAAAAAQQAAAAAAAABJAAAAAAAAAFEAAAAAAAAAQQAAAAAAAABJAAAAAAAAAFEAAAAAAAAASQAAAAAAAABRAAAAAAAAAEkAAAAAAAAAQQAAAAAAAABJAAAAAAAAAFEAAAAAAAAAIQAAAAAAAABJAAAAAAAAAEEAAAAAAAAASQAAAAAAAABRAAAAAAAAAEEAAAAAAAAASQAAAAAAAABRAAAAAAAAAFEAAAAAAAAASQAAAAAAAABBAAAAAAAAAEkAAAAAAAAAUQAAAAAAAABJAAAAAAAAAEEAAAAAAAAASQAAAAAAAABRAAAAAAAAAEEAAAAAAAAASQAAAAAAAABRAAAAAAAAAEEAAAAAAAAASQAAAAAAAABRAAAAAAAAAEEAAAAAAAAASQAAAAAAAABRAAAAAAAAA8D8AAAAAAAASQAAAAAAAABBAAAAAAAAAEkAAAAAAAAAUQAAAAAAAABRAAAAAAAAAEEAAAAAAAAASQAAAAAAAABRAAAAAAAAAEEAAAAAAAAASQAAAAAAAABRAAAAAAAAAEEAAAAAAAAASQAAAAAAAABRAAAAAAAAAFEAAAAAAAAAQQAAAAAAAABJAAAAAAAAAFEAAAAAAAAASQAAAAAAAABJAAAAAAAAAFEAAAAAAAAAQQAAAAAAAABJAAAAAAAAAFEAAAAAAAAASQAAAAAAAABBAAAAAAAAAEkAAAAAAAAAUQAAAAAAAABBAAAAAAAAAEkAAAAAAAAAUQAAAAAAAABBAAAAAAAAAEkAAAAAAAAAUQAAAAAAAAAxAAAAAAAAAFEAAAAAAAAAQQAAAAAAAABJAAAAAAAAAFEAAAAAAAAAQQAAAAAAAABJAAAAAAAAAFEAAAAAAAAAQQAAAAAAAABJAAAAAAAAAFEAAAAAAAAAIQAAAAAAAABBAAAAAAAAAEkAAAAAAAAAUQAAAAAAAABBAAAAAAAAAEkAAAAAAAAAUQAAAAAAAAAxAAAAAAAAAEEAAAAAAAAASQAAAAAAAABRAAAAAAAAAEkAAAAAAAAAQQAAAAAAAABJAAAAAAAAAFEAAAAAAAAAQQAAAAAAAABBAAAAAAAAAEkAAAAAAAAAUQAAAAAAAABJAAAAAAAAAEkAAAAAAAAAQQAAAAAAAABJAAAAAAAAAFEAAAAAAAAASQAAAAAAAABBAAAAAAAAAEkAAAAAAAAAUQAAAAAAAABJAAAAAAAAAEEAAAAAAAAASQAAAAAAAABRAAAAAAAAACEAAAAAAAAAQQAAAAAAAABJAAAAAAAAAFEAAAAAAAAAUQAAAAAAAABJAAAAAAAAAFEAAAAAAAAAQQAAAAAAAABJAAAAAAAAAFEAAAAAAAAAQQAAAAAAAABJAAAAAAAAAFEAAAAAAAAAUQAAAAAAAABBAAAAAAAAAEkAAAAAAAAAUQAAAAAAAABJAAAAAAAAAEkAAAAAAAAAQQAAAAAAAABJAAAAAAAAAFEAAAAAAAAASQAAAAAAAABJAAAAAAAAAEkAAAAAAAAAQQAAAAAAAABJAAAAAAAAAFEAAAAAAAAAUQAAAAAAAABRAAAAAAAAAEEAAAAAAAAAQQAAAAAAAABJAAAAAAAAAFEAAAAAAAAAUQAAAAAAAAAxAAAAAAAAAFEAAAAAAAAAQQAAAAAAAABJAAAAAAAAAFEAAAAAAAAAQQAAAAAAAABRAAAAAAAAAFEAAAAAAAAAQQAAAAAAAABJAAAAAAAAAFEAAAAAAAAASQAAAAAAAABBAAAAAAAAAEkAAAAAAAAAQQAAAAAAAABJAAAAAAAAAFEAAAAAAAAASQAAAAAAAABRAAAAAAAAAEkAAAAAAAAAQQAAAAAAAABJAAAAAAAAAFEAAAAAAAAASQAAAAAAAABRAAAAAAAAAEkAAAAAAAAAQQAAAAAAAABJAAAAAAAAAFEAAAAAAAAAUQAAAAAAAABJAAAAAAAAAEkAAAAAAAAAQQAAAAAAAABJAAAAAAAAAFEAAAAAAAADwPwAAAAAAABBAAAAAAAAAFEAAAAAAAAAQQAAAAAAAABJAAAAAAAAAFEAAAAAAAAASQAAAAAAAABJAAAAAAAAAFEAAAAAAAAAQQAAAAAAAABJAAAAAAAAAFEAAAAAAAAAUQAAAAAAAABJAAAAAAAAAEkAAAAAAAAAQQAAAAAAAABJAAAAAAAAAFEAAAAAAAAAUQAAAAAAAABJAAAAAAAAAEEAAAAAAAAASQAAAAAAAABRAAAAAAAAAEkAAAAAAAAAAQAAAAAAAABRAAAAAAAAAEEAAAAAAAAASQAAAAAAAABRAAAAAAAAAFEAAAAAAAAASQAAAAAAAABJAAAAAAAAAEEAAAAAAAAASQAAAAAAAABRAAAAAAAAAEkAAAAAAAAAIQAAAAAAAABJAAAAAAAAAEEAAAAAAAAASQAAAAAAAABRAAAAAAAAAEkAAAAAAAAAMQAAAAAAAABBAAAAAAAAAEEAAAAAAAAASQAAAAAAAABRAAAAAAAAAFEAAAAAAAAASQAAAAAAAAAhAAAAAAAAAEEAAAAAAAAASQAAAAAAAABRAAAAAAAAAEkAAAAAAAAASQAAAAAAAABRAAAAAAAAAEkAAAAAAAAASQAAAAAAAABJAAAAAAAAAEkAAAAAAAAAQQAAAAAAAABJAAAAAAAAAFEAAAAAAAAASQAAAAAAAABJAAAAAAAAAEEAAAAAAAAAQQAAAAAAAABJAAAAAAAAAFEAAAAAAAAASQAAAAAAAABRAAAAAAAAAEkAAAAAAAAAQQAAAAAAAABJAAAAAAAAAFEAAAAAAAAAUQAAAAAAAABBAAAAAAAAAEkAAAAAAAAAQQAAAAAAAABJAAAAAAAAAFEAAAAAAAAAQQAAAAAAAABJAAAAAAAAAEEAAAAAAAAASQAAAAAAAABRAAAAAAAAAFEAAAAAAAAASQAAAAAAAABBAAAAAAAAAEEAAAAAAAAASQAAAAAAAABRAAAAAAAAAEEAAAAAAAAASQAAAAAAAABRAAAAAAAAAEkAAAAAAAAASQAAAAAAAABBAAAAAAAAAEkAAAAAAAAAUQAAAAAAAABBAAAAAAAAAEkAAAAAAAAAQQAAAAAAAABJAAAAAAAAAFEAAAAAAAAAUQAAAAAAAABJAAAAAAAAAEEAAAAAAAAASQAAAAAAAABRAAAAAAAAABEAAAAAAAAASQAAAAAAAABBAAAAAAAAAEEAAAAAAAAASQAAAAAAAABRAAAAAAAAAFEAAAAAAAAAQQAAAAAAAABJAAAAAAAAAFEAAAAAAAAAQQAAAAAAAABJAAAAAAAAAFEAAAAAAAAAUQAAAAAAAABJAAAAAAAAAEEAAAAAAAAASQAAAAAAAABRAAAAAAAAAEEAAAAAAAAASQAAAAAAAABRAAAAAAAAAEkAAAAAAAAAQQAAAAAAAABBAAAAAAAAAEkAAAAAAAAAUQAAAAAAAABBAAAAAAAAAEkAAAAAAAAAUQAAAAAAAABJAAAAAAAAAEkAAAAAAAAAUQAAAAAAAABBAAAAAAAAAEkAAAAAAAAAUQAAAAAAAABBAAAAAAAAAEkAAAAAAAAAUQAAAAAAAABRAAAAAAAAAFEAAAAAAAAAQQAAAAAAAABJAAAAAAAAAFEAAAAAAAAAUQAAAAAAAABJAAAAAAAAAEEAAAAAAAAASQAAAAAAAABRAAAAAAAAAEkAAAAAAAAAQQAAAAAAAABJAAAAAAAAAFEAAAAAAAAAQQAAAAAAAABBAAAAAAAAAEkAAAAAAAAAUQAAAAAAAABBAAAAAAAAAEkAAAAAAAAAUQAAAAAAAABJAAAAAAAAAFEAAAAAAAAASQAAAAAAAABBAAAAAAAAAEkAAAAAAAAAUQAAAAAAAABRAAAAAAAAAEEAAAAAAAAASQAAAAAAAABRAAAAAAAAAEkAAAAAAAAAQQAAAAAAAABJAAAAAAAAAFEAAAAAAAAAEQAAAAAAAABRAAAAAAAAAEEAAAAAAAAASQAAAAAAAABRAAAAAAAAAAEAAAAAAAAAUQAAAAAAAABJAAAAAAAAAEEAAAAAAAAASQAAAAAAAABRAAAAAAAAAEkAAAAAAAAASQAAAAAAAABJAAAAAAAAAEEAAAAAAAAASQAAAAAAAABRAAAAAAAAAFEAAAAAAAAASQAAAAAAAABJAAAAAAAAAEEAAAAAAAAASQAAAAAAAABRAAAAAAAAAFEAAAAAAAAASQAAAAAAAABBAAAAAAAAAEEAAAAAAAAASQAAAAAAAABRAAAAAAAAAEkAAAAAAAAASQAAAAAAAABJAAAAAAAAAEEAAAAAAAAASQAAAAAAAABRAAAAAAAAAEkAAAAAAAAAEQAAAAAAAABBAAAAAAAAAEEAAAAAAAAASQAAAAAAAABRAAAAAAAAAEkAAAAAAAAAQQAAAAAAAABJAAAAAAAAAEEAAAAAAAAASQAAAAAAAABRAAAAAAAAAEEAAAAAAAAAIQAAAAAAAABBAAAAAAAAAEkAAAAAAAAAUQAAAAAAAABJAAAAAAAAAEEAAAAAAAAAUQAAAAAAAABBAAAAAAAAAEkAAAAAAAAAUQAAAAAAAABRAAAAAAAAAFEAAAAAAAAASQAAAAAAAABBAAAAAAAAAEkAAAAAAAAAUQAAAAAAAABBAAAAAAAAAEEAAAAAAAAAUQAAAAAAAABBAAAAAAAAAEkAAAAAAAAAUQAAAAAAAABRAAAAAAAAAFEAAAAAAAAAUQAAAAAAAABBAAAAAAAAAEkAAAAAAAAAUQAAAAAAAABBAAAAAAAAAEkAAAAAAAAAIQAAAAAAAABJAAAAAAAAA8D8AAAAAAAAQQAAAAAAAABRAAAAAAAAAEEAAAAAAAAASQAAAAAAAABRAAAAAAAAAFEAAAAAAAAAMQAAAAAAAABJAAAAAAAAAEEAAAAAAAAASQAAAAAAAABRAAAAAAAAADEAAAAAAAAASQAAAAAAAABBAAAAAAAAAEkAAAAAAAAAUQAAAAAAAABJAAAAAAAAAFEAAAAAAAAASQAAAAAAAABBAAAAAAAAAEkAAAAAAAAAUQAAAAAAAABJAAAAAAAAAEEAAAAAAAAASQAAAAAAAABRAAAAAAAAAEEAAAAAAAAAQQAAAAAAAABJAAAAAAAAAFEAAAAAAAAASQAAAAAAAABRAAAAAAAAAFEAAAAAAAAAQQAAAAAAAABJAAAAAAAAAFEAAAAAAAAAQQAAAAAAAABJAAAAAAAAAFEAAAAAAAAAMQAAAAAAAABBAAAAAAAAAEkAAAAAAAAAUQAAAAAAAABRAAAAAAAAAEkAAAAAAAAAQQAAAAAAAABJAAAAAAAAAFEAAAAAAAAAUQAAAAAAAABBAAAAAAAAAEkAAAAAAAAAUQAAAAAAAABJAAAAAAAAAEEAAAAAAAAASQAAAAAAAABRAAAAAAAAADEAAAAAAAAAQQAAAAAAAABJAAAAAAAAAFEAAAAAAAAAQQAAAAAAAABJAAAAAAAAAFEAAAAAAAAAQQAAAAAAAABBAAAAAAAAAEkAAAAAAAAAUQAAAAAAAABBAAAAAAAAAEkAAAAAAAAAUQAAAAAAAABBAAAAAAAAAEkAAAAAAAAAUQAAAAAAAABRAAAAAAAAAEEAAAAAAAAASQAAAAAAAABRAAAAAAAAADEAAAAAAAAAQQAAAAAAAABJAAAAAAAAAFEAAAAAAAAAUQAAAAAAAABBAAAAAAAAAEkAAAAAAAAAUQAAAAAAAABBAAAAAAAAAEkAAAAAAAAAUQAAAAAAAABBAAAAAAAAAEkAAAAAAAAAUQAAAAAAAABJAAAAAAAAAEEAAAAAAAAASQAAAAAAAABRAAAAAAAAAFEAAAAAAAAAQQAAAAAAAABJAAAAAAAAAFEAAAAAAAAAQQAAAAAAAABJAAAAAAAAAFEAAAAAAAAAQQAAAAAAAABJAAAAAAAAAFEAAAAAAAAAQQAAAAAAAABJAAAAAAAAAFEAAAAAAAAAQQAAAAAAAABJAAAAAAAAAFEAAAAAAAAAQQAAAAAAAABJAAAAAAAAAFEAAAAAAAAAQQAAAAAAAABJAAAAAAAAAFEAAAAAAAAAQQAAAAAAAABJAAAAAAAAAFEAAAAAAAAAQQAAAAAAAABJAAAAAAAAAFEAAAAAAAAAQQAAAAAAAABJAAAAAAAAAFEAAAAAAAAAQQAAAAAAAABJAAAAAAAAAFEAAAAAAAAASQAAAAAAAABBAAAAAAAAAEkAAAAAAAAAUQAAAAAAAABBAAAAAAAAAEkAAAAAAAAAUQAAAAAAAABBAAAAAAAAAEkAAAAAAAAAUQAAAAAAAABRA",
          "dtype": "f8"
         },
         "xaxis": "x",
         "yaxis": "y"
        }
       ],
       "layout": {
        "bargap": 0.2,
        "barmode": "relative",
        "legend": {
         "tracegroupgap": 0
        },
        "template": {
         "data": {
          "bar": [
           {
            "error_x": {
             "color": "#2a3f5f"
            },
            "error_y": {
             "color": "#2a3f5f"
            },
            "marker": {
             "line": {
              "color": "#E5ECF6",
              "width": 0.5
             },
             "pattern": {
              "fillmode": "overlay",
              "size": 10,
              "solidity": 0.2
             }
            },
            "type": "bar"
           }
          ],
          "barpolar": [
           {
            "marker": {
             "line": {
              "color": "#E5ECF6",
              "width": 0.5
             },
             "pattern": {
              "fillmode": "overlay",
              "size": 10,
              "solidity": 0.2
             }
            },
            "type": "barpolar"
           }
          ],
          "carpet": [
           {
            "aaxis": {
             "endlinecolor": "#2a3f5f",
             "gridcolor": "white",
             "linecolor": "white",
             "minorgridcolor": "white",
             "startlinecolor": "#2a3f5f"
            },
            "baxis": {
             "endlinecolor": "#2a3f5f",
             "gridcolor": "white",
             "linecolor": "white",
             "minorgridcolor": "white",
             "startlinecolor": "#2a3f5f"
            },
            "type": "carpet"
           }
          ],
          "choropleth": [
           {
            "colorbar": {
             "outlinewidth": 0,
             "ticks": ""
            },
            "type": "choropleth"
           }
          ],
          "contour": [
           {
            "colorbar": {
             "outlinewidth": 0,
             "ticks": ""
            },
            "colorscale": [
             [
              0,
              "#0d0887"
             ],
             [
              0.1111111111111111,
              "#46039f"
             ],
             [
              0.2222222222222222,
              "#7201a8"
             ],
             [
              0.3333333333333333,
              "#9c179e"
             ],
             [
              0.4444444444444444,
              "#bd3786"
             ],
             [
              0.5555555555555556,
              "#d8576b"
             ],
             [
              0.6666666666666666,
              "#ed7953"
             ],
             [
              0.7777777777777778,
              "#fb9f3a"
             ],
             [
              0.8888888888888888,
              "#fdca26"
             ],
             [
              1,
              "#f0f921"
             ]
            ],
            "type": "contour"
           }
          ],
          "contourcarpet": [
           {
            "colorbar": {
             "outlinewidth": 0,
             "ticks": ""
            },
            "type": "contourcarpet"
           }
          ],
          "heatmap": [
           {
            "colorbar": {
             "outlinewidth": 0,
             "ticks": ""
            },
            "colorscale": [
             [
              0,
              "#0d0887"
             ],
             [
              0.1111111111111111,
              "#46039f"
             ],
             [
              0.2222222222222222,
              "#7201a8"
             ],
             [
              0.3333333333333333,
              "#9c179e"
             ],
             [
              0.4444444444444444,
              "#bd3786"
             ],
             [
              0.5555555555555556,
              "#d8576b"
             ],
             [
              0.6666666666666666,
              "#ed7953"
             ],
             [
              0.7777777777777778,
              "#fb9f3a"
             ],
             [
              0.8888888888888888,
              "#fdca26"
             ],
             [
              1,
              "#f0f921"
             ]
            ],
            "type": "heatmap"
           }
          ],
          "histogram": [
           {
            "marker": {
             "pattern": {
              "fillmode": "overlay",
              "size": 10,
              "solidity": 0.2
             }
            },
            "type": "histogram"
           }
          ],
          "histogram2d": [
           {
            "colorbar": {
             "outlinewidth": 0,
             "ticks": ""
            },
            "colorscale": [
             [
              0,
              "#0d0887"
             ],
             [
              0.1111111111111111,
              "#46039f"
             ],
             [
              0.2222222222222222,
              "#7201a8"
             ],
             [
              0.3333333333333333,
              "#9c179e"
             ],
             [
              0.4444444444444444,
              "#bd3786"
             ],
             [
              0.5555555555555556,
              "#d8576b"
             ],
             [
              0.6666666666666666,
              "#ed7953"
             ],
             [
              0.7777777777777778,
              "#fb9f3a"
             ],
             [
              0.8888888888888888,
              "#fdca26"
             ],
             [
              1,
              "#f0f921"
             ]
            ],
            "type": "histogram2d"
           }
          ],
          "histogram2dcontour": [
           {
            "colorbar": {
             "outlinewidth": 0,
             "ticks": ""
            },
            "colorscale": [
             [
              0,
              "#0d0887"
             ],
             [
              0.1111111111111111,
              "#46039f"
             ],
             [
              0.2222222222222222,
              "#7201a8"
             ],
             [
              0.3333333333333333,
              "#9c179e"
             ],
             [
              0.4444444444444444,
              "#bd3786"
             ],
             [
              0.5555555555555556,
              "#d8576b"
             ],
             [
              0.6666666666666666,
              "#ed7953"
             ],
             [
              0.7777777777777778,
              "#fb9f3a"
             ],
             [
              0.8888888888888888,
              "#fdca26"
             ],
             [
              1,
              "#f0f921"
             ]
            ],
            "type": "histogram2dcontour"
           }
          ],
          "mesh3d": [
           {
            "colorbar": {
             "outlinewidth": 0,
             "ticks": ""
            },
            "type": "mesh3d"
           }
          ],
          "parcoords": [
           {
            "line": {
             "colorbar": {
              "outlinewidth": 0,
              "ticks": ""
             }
            },
            "type": "parcoords"
           }
          ],
          "pie": [
           {
            "automargin": true,
            "type": "pie"
           }
          ],
          "scatter": [
           {
            "fillpattern": {
             "fillmode": "overlay",
             "size": 10,
             "solidity": 0.2
            },
            "type": "scatter"
           }
          ],
          "scatter3d": [
           {
            "line": {
             "colorbar": {
              "outlinewidth": 0,
              "ticks": ""
             }
            },
            "marker": {
             "colorbar": {
              "outlinewidth": 0,
              "ticks": ""
             }
            },
            "type": "scatter3d"
           }
          ],
          "scattercarpet": [
           {
            "marker": {
             "colorbar": {
              "outlinewidth": 0,
              "ticks": ""
             }
            },
            "type": "scattercarpet"
           }
          ],
          "scattergeo": [
           {
            "marker": {
             "colorbar": {
              "outlinewidth": 0,
              "ticks": ""
             }
            },
            "type": "scattergeo"
           }
          ],
          "scattergl": [
           {
            "marker": {
             "colorbar": {
              "outlinewidth": 0,
              "ticks": ""
             }
            },
            "type": "scattergl"
           }
          ],
          "scattermap": [
           {
            "marker": {
             "colorbar": {
              "outlinewidth": 0,
              "ticks": ""
             }
            },
            "type": "scattermap"
           }
          ],
          "scattermapbox": [
           {
            "marker": {
             "colorbar": {
              "outlinewidth": 0,
              "ticks": ""
             }
            },
            "type": "scattermapbox"
           }
          ],
          "scatterpolar": [
           {
            "marker": {
             "colorbar": {
              "outlinewidth": 0,
              "ticks": ""
             }
            },
            "type": "scatterpolar"
           }
          ],
          "scatterpolargl": [
           {
            "marker": {
             "colorbar": {
              "outlinewidth": 0,
              "ticks": ""
             }
            },
            "type": "scatterpolargl"
           }
          ],
          "scatterternary": [
           {
            "marker": {
             "colorbar": {
              "outlinewidth": 0,
              "ticks": ""
             }
            },
            "type": "scatterternary"
           }
          ],
          "surface": [
           {
            "colorbar": {
             "outlinewidth": 0,
             "ticks": ""
            },
            "colorscale": [
             [
              0,
              "#0d0887"
             ],
             [
              0.1111111111111111,
              "#46039f"
             ],
             [
              0.2222222222222222,
              "#7201a8"
             ],
             [
              0.3333333333333333,
              "#9c179e"
             ],
             [
              0.4444444444444444,
              "#bd3786"
             ],
             [
              0.5555555555555556,
              "#d8576b"
             ],
             [
              0.6666666666666666,
              "#ed7953"
             ],
             [
              0.7777777777777778,
              "#fb9f3a"
             ],
             [
              0.8888888888888888,
              "#fdca26"
             ],
             [
              1,
              "#f0f921"
             ]
            ],
            "type": "surface"
           }
          ],
          "table": [
           {
            "cells": {
             "fill": {
              "color": "#EBF0F8"
             },
             "line": {
              "color": "white"
             }
            },
            "header": {
             "fill": {
              "color": "#C8D4E3"
             },
             "line": {
              "color": "white"
             }
            },
            "type": "table"
           }
          ]
         },
         "layout": {
          "annotationdefaults": {
           "arrowcolor": "#2a3f5f",
           "arrowhead": 0,
           "arrowwidth": 1
          },
          "autotypenumbers": "strict",
          "coloraxis": {
           "colorbar": {
            "outlinewidth": 0,
            "ticks": ""
           }
          },
          "colorscale": {
           "diverging": [
            [
             0,
             "#8e0152"
            ],
            [
             0.1,
             "#c51b7d"
            ],
            [
             0.2,
             "#de77ae"
            ],
            [
             0.3,
             "#f1b6da"
            ],
            [
             0.4,
             "#fde0ef"
            ],
            [
             0.5,
             "#f7f7f7"
            ],
            [
             0.6,
             "#e6f5d0"
            ],
            [
             0.7,
             "#b8e186"
            ],
            [
             0.8,
             "#7fbc41"
            ],
            [
             0.9,
             "#4d9221"
            ],
            [
             1,
             "#276419"
            ]
           ],
           "sequential": [
            [
             0,
             "#0d0887"
            ],
            [
             0.1111111111111111,
             "#46039f"
            ],
            [
             0.2222222222222222,
             "#7201a8"
            ],
            [
             0.3333333333333333,
             "#9c179e"
            ],
            [
             0.4444444444444444,
             "#bd3786"
            ],
            [
             0.5555555555555556,
             "#d8576b"
            ],
            [
             0.6666666666666666,
             "#ed7953"
            ],
            [
             0.7777777777777778,
             "#fb9f3a"
            ],
            [
             0.8888888888888888,
             "#fdca26"
            ],
            [
             1,
             "#f0f921"
            ]
           ],
           "sequentialminus": [
            [
             0,
             "#0d0887"
            ],
            [
             0.1111111111111111,
             "#46039f"
            ],
            [
             0.2222222222222222,
             "#7201a8"
            ],
            [
             0.3333333333333333,
             "#9c179e"
            ],
            [
             0.4444444444444444,
             "#bd3786"
            ],
            [
             0.5555555555555556,
             "#d8576b"
            ],
            [
             0.6666666666666666,
             "#ed7953"
            ],
            [
             0.7777777777777778,
             "#fb9f3a"
            ],
            [
             0.8888888888888888,
             "#fdca26"
            ],
            [
             1,
             "#f0f921"
            ]
           ]
          },
          "colorway": [
           "#636efa",
           "#EF553B",
           "#00cc96",
           "#ab63fa",
           "#FFA15A",
           "#19d3f3",
           "#FF6692",
           "#B6E880",
           "#FF97FF",
           "#FECB52"
          ],
          "font": {
           "color": "#2a3f5f"
          },
          "geo": {
           "bgcolor": "white",
           "lakecolor": "white",
           "landcolor": "#E5ECF6",
           "showlakes": true,
           "showland": true,
           "subunitcolor": "white"
          },
          "hoverlabel": {
           "align": "left"
          },
          "hovermode": "closest",
          "mapbox": {
           "style": "light"
          },
          "paper_bgcolor": "white",
          "plot_bgcolor": "#E5ECF6",
          "polar": {
           "angularaxis": {
            "gridcolor": "white",
            "linecolor": "white",
            "ticks": ""
           },
           "bgcolor": "#E5ECF6",
           "radialaxis": {
            "gridcolor": "white",
            "linecolor": "white",
            "ticks": ""
           }
          },
          "scene": {
           "xaxis": {
            "backgroundcolor": "#E5ECF6",
            "gridcolor": "white",
            "gridwidth": 2,
            "linecolor": "white",
            "showbackground": true,
            "ticks": "",
            "zerolinecolor": "white"
           },
           "yaxis": {
            "backgroundcolor": "#E5ECF6",
            "gridcolor": "white",
            "gridwidth": 2,
            "linecolor": "white",
            "showbackground": true,
            "ticks": "",
            "zerolinecolor": "white"
           },
           "zaxis": {
            "backgroundcolor": "#E5ECF6",
            "gridcolor": "white",
            "gridwidth": 2,
            "linecolor": "white",
            "showbackground": true,
            "ticks": "",
            "zerolinecolor": "white"
           }
          },
          "shapedefaults": {
           "line": {
            "color": "#2a3f5f"
           }
          },
          "ternary": {
           "aaxis": {
            "gridcolor": "white",
            "linecolor": "white",
            "ticks": ""
           },
           "baxis": {
            "gridcolor": "white",
            "linecolor": "white",
            "ticks": ""
           },
           "bgcolor": "#E5ECF6",
           "caxis": {
            "gridcolor": "white",
            "linecolor": "white",
            "ticks": ""
           }
          },
          "title": {
           "x": 0.05
          },
          "xaxis": {
           "automargin": true,
           "gridcolor": "white",
           "linecolor": "white",
           "ticks": "",
           "title": {
            "standoff": 15
           },
           "zerolinecolor": "white",
           "zerolinewidth": 2
          },
          "yaxis": {
           "automargin": true,
           "gridcolor": "white",
           "linecolor": "white",
           "ticks": "",
           "title": {
            "standoff": 15
           },
           "zerolinecolor": "white",
           "zerolinewidth": 2
          }
         }
        },
        "title": {
         "text": "Star Rating Distribution"
        },
        "xaxis": {
         "anchor": "y",
         "categoryarray": [
          1,
          2,
          2.5,
          3,
          3.5,
          4,
          4.5,
          5
         ],
         "categoryorder": "array",
         "domain": [
          0,
          1
         ],
         "title": {
          "text": "Star Rating"
         }
        },
        "yaxis": {
         "anchor": "x",
         "domain": [
          0,
          1
         ],
         "title": {
          "text": "count"
         }
        }
       }
      }
     },
     "metadata": {},
     "output_type": "display_data"
    }
   ],
   "source": [
    "fig = px.histogram(\n",
    "    df,\n",
    "    x=\"star_rating\",\n",
    "    title=\"Star Rating Distribution\",\n",
    "    labels={\"star_rating\": \"Star Rating\"},\n",
    "    category_orders={\"star_rating\": sorted(df[\"star_rating\"].dropna().unique())}\n",
    ")\n",
    "fig.update_layout(bargap=0.2)\n",
    "fig.show()\n"
   ]
  },
  {
   "cell_type": "code",
   "execution_count": 6,
   "id": "90df6fcb",
   "metadata": {},
   "outputs": [
    {
     "data": {
      "application/vnd.plotly.v1+json": {
       "config": {
        "plotlyServerURL": "https://plot.ly"
       },
       "data": [
        {
         "bingroup": "x",
         "hovertemplate": "Number of Reviews=%{x}<br>count=%{y}<extra></extra>",
         "legendgroup": "",
         "marker": {
          "color": "#636efa",
          "pattern": {
           "shape": ""
          }
         },
         "name": "",
         "nbinsx": 100,
         "orientation": "v",
         "showlegend": false,
         "type": "histogram",
         "x": {
          "bdata": "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",
          "dtype": "i2"
         },
         "xaxis": "x",
         "yaxis": "y"
        }
       ],
       "layout": {
        "bargap": 0.01,
        "barmode": "relative",
        "legend": {
         "tracegroupgap": 0
        },
        "template": {
         "data": {
          "bar": [
           {
            "error_x": {
             "color": "#2a3f5f"
            },
            "error_y": {
             "color": "#2a3f5f"
            },
            "marker": {
             "line": {
              "color": "#E5ECF6",
              "width": 0.5
             },
             "pattern": {
              "fillmode": "overlay",
              "size": 10,
              "solidity": 0.2
             }
            },
            "type": "bar"
           }
          ],
          "barpolar": [
           {
            "marker": {
             "line": {
              "color": "#E5ECF6",
              "width": 0.5
             },
             "pattern": {
              "fillmode": "overlay",
              "size": 10,
              "solidity": 0.2
             }
            },
            "type": "barpolar"
           }
          ],
          "carpet": [
           {
            "aaxis": {
             "endlinecolor": "#2a3f5f",
             "gridcolor": "white",
             "linecolor": "white",
             "minorgridcolor": "white",
             "startlinecolor": "#2a3f5f"
            },
            "baxis": {
             "endlinecolor": "#2a3f5f",
             "gridcolor": "white",
             "linecolor": "white",
             "minorgridcolor": "white",
             "startlinecolor": "#2a3f5f"
            },
            "type": "carpet"
           }
          ],
          "choropleth": [
           {
            "colorbar": {
             "outlinewidth": 0,
             "ticks": ""
            },
            "type": "choropleth"
           }
          ],
          "contour": [
           {
            "colorbar": {
             "outlinewidth": 0,
             "ticks": ""
            },
            "colorscale": [
             [
              0,
              "#0d0887"
             ],
             [
              0.1111111111111111,
              "#46039f"
             ],
             [
              0.2222222222222222,
              "#7201a8"
             ],
             [
              0.3333333333333333,
              "#9c179e"
             ],
             [
              0.4444444444444444,
              "#bd3786"
             ],
             [
              0.5555555555555556,
              "#d8576b"
             ],
             [
              0.6666666666666666,
              "#ed7953"
             ],
             [
              0.7777777777777778,
              "#fb9f3a"
             ],
             [
              0.8888888888888888,
              "#fdca26"
             ],
             [
              1,
              "#f0f921"
             ]
            ],
            "type": "contour"
           }
          ],
          "contourcarpet": [
           {
            "colorbar": {
             "outlinewidth": 0,
             "ticks": ""
            },
            "type": "contourcarpet"
           }
          ],
          "heatmap": [
           {
            "colorbar": {
             "outlinewidth": 0,
             "ticks": ""
            },
            "colorscale": [
             [
              0,
              "#0d0887"
             ],
             [
              0.1111111111111111,
              "#46039f"
             ],
             [
              0.2222222222222222,
              "#7201a8"
             ],
             [
              0.3333333333333333,
              "#9c179e"
             ],
             [
              0.4444444444444444,
              "#bd3786"
             ],
             [
              0.5555555555555556,
              "#d8576b"
             ],
             [
              0.6666666666666666,
              "#ed7953"
             ],
             [
              0.7777777777777778,
              "#fb9f3a"
             ],
             [
              0.8888888888888888,
              "#fdca26"
             ],
             [
              1,
              "#f0f921"
             ]
            ],
            "type": "heatmap"
           }
          ],
          "histogram": [
           {
            "marker": {
             "pattern": {
              "fillmode": "overlay",
              "size": 10,
              "solidity": 0.2
             }
            },
            "type": "histogram"
           }
          ],
          "histogram2d": [
           {
            "colorbar": {
             "outlinewidth": 0,
             "ticks": ""
            },
            "colorscale": [
             [
              0,
              "#0d0887"
             ],
             [
              0.1111111111111111,
              "#46039f"
             ],
             [
              0.2222222222222222,
              "#7201a8"
             ],
             [
              0.3333333333333333,
              "#9c179e"
             ],
             [
              0.4444444444444444,
              "#bd3786"
             ],
             [
              0.5555555555555556,
              "#d8576b"
             ],
             [
              0.6666666666666666,
              "#ed7953"
             ],
             [
              0.7777777777777778,
              "#fb9f3a"
             ],
             [
              0.8888888888888888,
              "#fdca26"
             ],
             [
              1,
              "#f0f921"
             ]
            ],
            "type": "histogram2d"
           }
          ],
          "histogram2dcontour": [
           {
            "colorbar": {
             "outlinewidth": 0,
             "ticks": ""
            },
            "colorscale": [
             [
              0,
              "#0d0887"
             ],
             [
              0.1111111111111111,
              "#46039f"
             ],
             [
              0.2222222222222222,
              "#7201a8"
             ],
             [
              0.3333333333333333,
              "#9c179e"
             ],
             [
              0.4444444444444444,
              "#bd3786"
             ],
             [
              0.5555555555555556,
              "#d8576b"
             ],
             [
              0.6666666666666666,
              "#ed7953"
             ],
             [
              0.7777777777777778,
              "#fb9f3a"
             ],
             [
              0.8888888888888888,
              "#fdca26"
             ],
             [
              1,
              "#f0f921"
             ]
            ],
            "type": "histogram2dcontour"
           }
          ],
          "mesh3d": [
           {
            "colorbar": {
             "outlinewidth": 0,
             "ticks": ""
            },
            "type": "mesh3d"
           }
          ],
          "parcoords": [
           {
            "line": {
             "colorbar": {
              "outlinewidth": 0,
              "ticks": ""
             }
            },
            "type": "parcoords"
           }
          ],
          "pie": [
           {
            "automargin": true,
            "type": "pie"
           }
          ],
          "scatter": [
           {
            "fillpattern": {
             "fillmode": "overlay",
             "size": 10,
             "solidity": 0.2
            },
            "type": "scatter"
           }
          ],
          "scatter3d": [
           {
            "line": {
             "colorbar": {
              "outlinewidth": 0,
              "ticks": ""
             }
            },
            "marker": {
             "colorbar": {
              "outlinewidth": 0,
              "ticks": ""
             }
            },
            "type": "scatter3d"
           }
          ],
          "scattercarpet": [
           {
            "marker": {
             "colorbar": {
              "outlinewidth": 0,
              "ticks": ""
             }
            },
            "type": "scattercarpet"
           }
          ],
          "scattergeo": [
           {
            "marker": {
             "colorbar": {
              "outlinewidth": 0,
              "ticks": ""
             }
            },
            "type": "scattergeo"
           }
          ],
          "scattergl": [
           {
            "marker": {
             "colorbar": {
              "outlinewidth": 0,
              "ticks": ""
             }
            },
            "type": "scattergl"
           }
          ],
          "scattermap": [
           {
            "marker": {
             "colorbar": {
              "outlinewidth": 0,
              "ticks": ""
             }
            },
            "type": "scattermap"
           }
          ],
          "scattermapbox": [
           {
            "marker": {
             "colorbar": {
              "outlinewidth": 0,
              "ticks": ""
             }
            },
            "type": "scattermapbox"
           }
          ],
          "scatterpolar": [
           {
            "marker": {
             "colorbar": {
              "outlinewidth": 0,
              "ticks": ""
             }
            },
            "type": "scatterpolar"
           }
          ],
          "scatterpolargl": [
           {
            "marker": {
             "colorbar": {
              "outlinewidth": 0,
              "ticks": ""
             }
            },
            "type": "scatterpolargl"
           }
          ],
          "scatterternary": [
           {
            "marker": {
             "colorbar": {
              "outlinewidth": 0,
              "ticks": ""
             }
            },
            "type": "scatterternary"
           }
          ],
          "surface": [
           {
            "colorbar": {
             "outlinewidth": 0,
             "ticks": ""
            },
            "colorscale": [
             [
              0,
              "#0d0887"
             ],
             [
              0.1111111111111111,
              "#46039f"
             ],
             [
              0.2222222222222222,
              "#7201a8"
             ],
             [
              0.3333333333333333,
              "#9c179e"
             ],
             [
              0.4444444444444444,
              "#bd3786"
             ],
             [
              0.5555555555555556,
              "#d8576b"
             ],
             [
              0.6666666666666666,
              "#ed7953"
             ],
             [
              0.7777777777777778,
              "#fb9f3a"
             ],
             [
              0.8888888888888888,
              "#fdca26"
             ],
             [
              1,
              "#f0f921"
             ]
            ],
            "type": "surface"
           }
          ],
          "table": [
           {
            "cells": {
             "fill": {
              "color": "#EBF0F8"
             },
             "line": {
              "color": "white"
             }
            },
            "header": {
             "fill": {
              "color": "#C8D4E3"
             },
             "line": {
              "color": "white"
             }
            },
            "type": "table"
           }
          ]
         },
         "layout": {
          "annotationdefaults": {
           "arrowcolor": "#2a3f5f",
           "arrowhead": 0,
           "arrowwidth": 1
          },
          "autotypenumbers": "strict",
          "coloraxis": {
           "colorbar": {
            "outlinewidth": 0,
            "ticks": ""
           }
          },
          "colorscale": {
           "diverging": [
            [
             0,
             "#8e0152"
            ],
            [
             0.1,
             "#c51b7d"
            ],
            [
             0.2,
             "#de77ae"
            ],
            [
             0.3,
             "#f1b6da"
            ],
            [
             0.4,
             "#fde0ef"
            ],
            [
             0.5,
             "#f7f7f7"
            ],
            [
             0.6,
             "#e6f5d0"
            ],
            [
             0.7,
             "#b8e186"
            ],
            [
             0.8,
             "#7fbc41"
            ],
            [
             0.9,
             "#4d9221"
            ],
            [
             1,
             "#276419"
            ]
           ],
           "sequential": [
            [
             0,
             "#0d0887"
            ],
            [
             0.1111111111111111,
             "#46039f"
            ],
            [
             0.2222222222222222,
             "#7201a8"
            ],
            [
             0.3333333333333333,
             "#9c179e"
            ],
            [
             0.4444444444444444,
             "#bd3786"
            ],
            [
             0.5555555555555556,
             "#d8576b"
            ],
            [
             0.6666666666666666,
             "#ed7953"
            ],
            [
             0.7777777777777778,
             "#fb9f3a"
            ],
            [
             0.8888888888888888,
             "#fdca26"
            ],
            [
             1,
             "#f0f921"
            ]
           ],
           "sequentialminus": [
            [
             0,
             "#0d0887"
            ],
            [
             0.1111111111111111,
             "#46039f"
            ],
            [
             0.2222222222222222,
             "#7201a8"
            ],
            [
             0.3333333333333333,
             "#9c179e"
            ],
            [
             0.4444444444444444,
             "#bd3786"
            ],
            [
             0.5555555555555556,
             "#d8576b"
            ],
            [
             0.6666666666666666,
             "#ed7953"
            ],
            [
             0.7777777777777778,
             "#fb9f3a"
            ],
            [
             0.8888888888888888,
             "#fdca26"
            ],
            [
             1,
             "#f0f921"
            ]
           ]
          },
          "colorway": [
           "#636efa",
           "#EF553B",
           "#00cc96",
           "#ab63fa",
           "#FFA15A",
           "#19d3f3",
           "#FF6692",
           "#B6E880",
           "#FF97FF",
           "#FECB52"
          ],
          "font": {
           "color": "#2a3f5f"
          },
          "geo": {
           "bgcolor": "white",
           "lakecolor": "white",
           "landcolor": "#E5ECF6",
           "showlakes": true,
           "showland": true,
           "subunitcolor": "white"
          },
          "hoverlabel": {
           "align": "left"
          },
          "hovermode": "closest",
          "mapbox": {
           "style": "light"
          },
          "paper_bgcolor": "white",
          "plot_bgcolor": "#E5ECF6",
          "polar": {
           "angularaxis": {
            "gridcolor": "white",
            "linecolor": "white",
            "ticks": ""
           },
           "bgcolor": "#E5ECF6",
           "radialaxis": {
            "gridcolor": "white",
            "linecolor": "white",
            "ticks": ""
           }
          },
          "scene": {
           "xaxis": {
            "backgroundcolor": "#E5ECF6",
            "gridcolor": "white",
            "gridwidth": 2,
            "linecolor": "white",
            "showbackground": true,
            "ticks": "",
            "zerolinecolor": "white"
           },
           "yaxis": {
            "backgroundcolor": "#E5ECF6",
            "gridcolor": "white",
            "gridwidth": 2,
            "linecolor": "white",
            "showbackground": true,
            "ticks": "",
            "zerolinecolor": "white"
           },
           "zaxis": {
            "backgroundcolor": "#E5ECF6",
            "gridcolor": "white",
            "gridwidth": 2,
            "linecolor": "white",
            "showbackground": true,
            "ticks": "",
            "zerolinecolor": "white"
           }
          },
          "shapedefaults": {
           "line": {
            "color": "#2a3f5f"
           }
          },
          "ternary": {
           "aaxis": {
            "gridcolor": "white",
            "linecolor": "white",
            "ticks": ""
           },
           "baxis": {
            "gridcolor": "white",
            "linecolor": "white",
            "ticks": ""
           },
           "bgcolor": "#E5ECF6",
           "caxis": {
            "gridcolor": "white",
            "linecolor": "white",
            "ticks": ""
           }
          },
          "title": {
           "x": 0.05
          },
          "xaxis": {
           "automargin": true,
           "gridcolor": "white",
           "linecolor": "white",
           "ticks": "",
           "title": {
            "standoff": 15
           },
           "zerolinecolor": "white",
           "zerolinewidth": 2
          },
          "yaxis": {
           "automargin": true,
           "gridcolor": "white",
           "linecolor": "white",
           "ticks": "",
           "title": {
            "standoff": 15
           },
           "zerolinecolor": "white",
           "zerolinewidth": 2
          }
         }
        },
        "title": {
         "text": "Reviews Distribution (Fine-grained)"
        },
        "xaxis": {
         "anchor": "y",
         "domain": [
          0,
          1
         ],
         "title": {
          "text": "Number of Reviews"
         }
        },
        "yaxis": {
         "anchor": "x",
         "domain": [
          0,
          1
         ],
         "title": {
          "text": "count"
         }
        }
       }
      }
     },
     "metadata": {},
     "output_type": "display_data"
    }
   ],
   "source": [
    "fig = px.histogram(\n",
    "    df,\n",
    "    x=\"reviews\",\n",
    "    nbins=100,  # more bins = finer histogram\n",
    "    title=\"Reviews Distribution (Fine-grained)\",\n",
    "    labels={\"reviews\": \"Number of Reviews\"}\n",
    ")\n",
    "fig.update_layout(bargap=0.01)  # reduce gap between bars\n",
    "fig.show()\n"
   ]
  },
  {
   "cell_type": "code",
   "execution_count": 7,
   "id": "31b2e1c9",
   "metadata": {},
   "outputs": [],
   "source": [
    "page_summary = df.groupby('page').agg({\n",
    "    'price': 'mean',\n",
    "    'reviews': 'mean',\n",
    "    'star_rating': 'mean'\n",
    "}).reset_index()\n"
   ]
  },
  {
   "cell_type": "code",
   "execution_count": 8,
   "id": "cf8c3f98",
   "metadata": {},
   "outputs": [
    {
     "data": {
      "application/vnd.plotly.v1+json": {
       "config": {
        "plotlyServerURL": "https://plot.ly"
       },
       "data": [
        {
         "hovertemplate": "Page Number=%{x}<br>Average Price ($)=%{y}<extra></extra>",
         "legendgroup": "",
         "line": {
          "color": "#636efa",
          "dash": "solid"
         },
         "marker": {
          "symbol": "circle"
         },
         "mode": "lines+markers",
         "name": "",
         "orientation": "v",
         "showlegend": false,
         "type": "scatter",
         "x": {
          "bdata": "AQACAAMABAAFAAYABwAIAAkACgALAAwADQAOAA8AEAARABIAEwAUABUAFgAXABgAGQAaABsAHAAdAB4AHwAgACEAIgAjACQAJQAmACcAKAApACoAKwAsAC0ALgAvADAAMQAyADMANAA1ADYANwA4ADkAOgA7ADwAPQA+AD8AQABBAEIAQwBEAEUARgBHAEgASQBKAEsATABNAE8AUABRAFIAUwBUAFUAVgBXAFgAWQBaAFsAXABdAF4AXwBgAGEAYgBjAGQAZQBmAGcAaABpAGoAawBsAG0AbgBvAHAAcQByAHMAdAB1AHYAdwB4AHkAegB7AHwAfQB+AH8AgACBAIIAgwCEAIUAhgCHAIgAiQCKAIsAjACNAI4AjwCQAJEAkgCTAJQAlQCWAJcAmACZAJoAmwCcAJ0AngCfAKAAoQCiAKMApAClAKYApwCoAKkAqgCrAKwArQCuAK8AsACyALMAtAC1ALYAtwC4ALkAugC7ALwAvQC+AL8AwADBAMIAwwDEAMUAxgDHAMgA",
          "dtype": "i2"
         },
         "xaxis": "x",
         "y": {
          "bdata": "pHA9Ctd3cUCkcD0K1/9yQKRwPQrX93FApHA9CtefckBPG+i0gSpxQN7d3d3dL3RApHA9CtdXcUCkcD0K1w9yQPnFkl8sTXFATxvotIHScEDziyW/WHpmQPOLJb9YKmVAERERERHlaEDD9Shcj85uQImIiIiIonFAw/UoXI+ic0DziyW/WApsQBERERERhW9AiYiIiIhac0DziyW/WDprQCz5xZJfcnJAGEt+seQ3fkCbmZmZmXlqQJ020GkDRWhAnTbQaQPVZkB7FK5H4XJpQL9Y8oslW2BAL90kBoEpdkAzMzMzMx1zQPOLJb9YemhAJb9Y8ovtYkBtoNMGOmV2QG2g0wY6HX1ASOF6FK4/ZkBPG+i0gUZnQPOLJb9Y2mlASOF6FK7PbUCkcD0K189wQN3d3d3dJ3xApHA9CtdzcECdNtBpA4VpQK5H4XoUBm5ApHA9CtdXc0AzMzMzMyV5QEjhehSuP2dArkfhehTGY0D5xZJfLH1zQLy7u7u7f2VAiIiIiIjadkD8YskvljKBQPnFkl8sLXFAUrgehevbhEBjEFg5tMx8QPnFkl8sFXxA3t3d3d0XcUBI4XoUro9oQEjhehSur2JAHoXrUbjchUDe3d3d3Y9zQPOLJb9YKmZAnTbQaQPVZkAzMzMzM2V0QKRwPQrXN3hAnTbQaQPVZkBI4XoUridpQDMzMzMzBXVAnTbQaQPVZkBI4XoUrr9oQOJ6FK5HuWNAnTbQaQPVZkA+CtejcFlzQEjhehSuR2dAnTbQaQPVZkCdNtBpA9VmQJ020GkD1WZASOF6FK4fbEBI4XoUrqdmQJ020GkD1WZAnTbQaQPVZkBSuB6F65eDQPnFkl8s5XFASOF6FK6fZkCdNtBpA9VmQJ020GkD1WZAcT0K16PsdECdNtBpA9VmQJ020GkD1WZASOF6FK6HZECdNtBpA9VmQKRwPQrXp3NApHA9Ctd3dkBI4XoUru9mQHsUrkfhEm9ASOF6FK7vaECkcD0K1399QEjhehSuf29AMzMzMzOVckCdNtBpA9VmQEjhehSuT2hAPgrXo3A5dEBI4XoUrj9oQAAAAAAA6HlASOF6FK4/a0D5xZJfLI15QOF6FK5HYYJAq6qqqqqof0CkcD0K1y9zQPnFkl8snXNA7+7u7u7PgkD5xZJfLEVxQPnFkl8shXJAHoXrUbgMgkCdNtBpAyVvQN3d3d3dR3hATxvotIFKeUDf3d3d3Wd/QPnFkl8sXX1AiYiIiIiqc0CF61G4Hl6aQN7d3d3d/3BA/GLJL5ZqiECIiIiIiKp8QAaBlUOLrGtApHA9CteneUCdNtBpA9VmQB6F61G47INAHoXrUbjcgEAK16NwPWZxQFK4HoXrR4FApHA9Ctcvc0CdNtBpA9VmQNejcD0Kg3VAnTbQaQPVZkBxPQrXo4x4QJ020GkD1WZAzczMzEzPnUCdNtBpA9VmQNv5fmq8HIxAPgrXo3AZc0BI4XoUrk9tQEjhehSuP2lAnTbQaQPVZkCIiIiIiNp4QEjhehSur2VAUrgehetfiUBANV66STSBQPnFkl8szXJA84slv1gqbUAzMzMzM+V2QPxiyS+WdodA84slv1iKa0BFRERERO2LQE8b6LSBOnVAdZMYBFY2hkCkcD0K1297QPnFkl8sr4NAnTbQaQN1bkAHOm2g03B/QDMzMzMzBXtAPgrXo/BtjECIiIiIiAJ9QOtRuB6FwYRAgU4b6LQGjEBSuB6F6z+GQFK4HoXr74pAmZmZmZlehkCdNtBpA9VmQFK4HoXr041APQrXo3BZfkBSuB6F66eHQFK4HoXrR4hAUrgehesHh0CdNtBpA9VmQFK4HoXrx4BAnTbQaQPVZkCdNtBpA9VmQFK4HoXrX4lAUrgehes3hEBSuB6F68+HQJ020GkD1WZAnTbQaQPVZkCkcD0K1795QJ020GkD1WZAUrgehesPg0CdNtBpA9VmQJ020GkD1WZAnTbQaQPVZkCdNtBpA9VmQJ020GkD1WZAnTbQaQPVZkCdNtBpA9VmQJ020GkD1WZAnTbQaQPVZkCdNtBpA9VmQFK4HoXrr4RAnTbQaQPVZkCdNtBpA9VmQFK4HoXr74pA",
          "dtype": "f8"
         },
         "yaxis": "y"
        }
       ],
       "layout": {
        "hovermode": "x unified",
        "legend": {
         "tracegroupgap": 0
        },
        "template": {
         "data": {
          "bar": [
           {
            "error_x": {
             "color": "#2a3f5f"
            },
            "error_y": {
             "color": "#2a3f5f"
            },
            "marker": {
             "line": {
              "color": "#E5ECF6",
              "width": 0.5
             },
             "pattern": {
              "fillmode": "overlay",
              "size": 10,
              "solidity": 0.2
             }
            },
            "type": "bar"
           }
          ],
          "barpolar": [
           {
            "marker": {
             "line": {
              "color": "#E5ECF6",
              "width": 0.5
             },
             "pattern": {
              "fillmode": "overlay",
              "size": 10,
              "solidity": 0.2
             }
            },
            "type": "barpolar"
           }
          ],
          "carpet": [
           {
            "aaxis": {
             "endlinecolor": "#2a3f5f",
             "gridcolor": "white",
             "linecolor": "white",
             "minorgridcolor": "white",
             "startlinecolor": "#2a3f5f"
            },
            "baxis": {
             "endlinecolor": "#2a3f5f",
             "gridcolor": "white",
             "linecolor": "white",
             "minorgridcolor": "white",
             "startlinecolor": "#2a3f5f"
            },
            "type": "carpet"
           }
          ],
          "choropleth": [
           {
            "colorbar": {
             "outlinewidth": 0,
             "ticks": ""
            },
            "type": "choropleth"
           }
          ],
          "contour": [
           {
            "colorbar": {
             "outlinewidth": 0,
             "ticks": ""
            },
            "colorscale": [
             [
              0,
              "#0d0887"
             ],
             [
              0.1111111111111111,
              "#46039f"
             ],
             [
              0.2222222222222222,
              "#7201a8"
             ],
             [
              0.3333333333333333,
              "#9c179e"
             ],
             [
              0.4444444444444444,
              "#bd3786"
             ],
             [
              0.5555555555555556,
              "#d8576b"
             ],
             [
              0.6666666666666666,
              "#ed7953"
             ],
             [
              0.7777777777777778,
              "#fb9f3a"
             ],
             [
              0.8888888888888888,
              "#fdca26"
             ],
             [
              1,
              "#f0f921"
             ]
            ],
            "type": "contour"
           }
          ],
          "contourcarpet": [
           {
            "colorbar": {
             "outlinewidth": 0,
             "ticks": ""
            },
            "type": "contourcarpet"
           }
          ],
          "heatmap": [
           {
            "colorbar": {
             "outlinewidth": 0,
             "ticks": ""
            },
            "colorscale": [
             [
              0,
              "#0d0887"
             ],
             [
              0.1111111111111111,
              "#46039f"
             ],
             [
              0.2222222222222222,
              "#7201a8"
             ],
             [
              0.3333333333333333,
              "#9c179e"
             ],
             [
              0.4444444444444444,
              "#bd3786"
             ],
             [
              0.5555555555555556,
              "#d8576b"
             ],
             [
              0.6666666666666666,
              "#ed7953"
             ],
             [
              0.7777777777777778,
              "#fb9f3a"
             ],
             [
              0.8888888888888888,
              "#fdca26"
             ],
             [
              1,
              "#f0f921"
             ]
            ],
            "type": "heatmap"
           }
          ],
          "histogram": [
           {
            "marker": {
             "pattern": {
              "fillmode": "overlay",
              "size": 10,
              "solidity": 0.2
             }
            },
            "type": "histogram"
           }
          ],
          "histogram2d": [
           {
            "colorbar": {
             "outlinewidth": 0,
             "ticks": ""
            },
            "colorscale": [
             [
              0,
              "#0d0887"
             ],
             [
              0.1111111111111111,
              "#46039f"
             ],
             [
              0.2222222222222222,
              "#7201a8"
             ],
             [
              0.3333333333333333,
              "#9c179e"
             ],
             [
              0.4444444444444444,
              "#bd3786"
             ],
             [
              0.5555555555555556,
              "#d8576b"
             ],
             [
              0.6666666666666666,
              "#ed7953"
             ],
             [
              0.7777777777777778,
              "#fb9f3a"
             ],
             [
              0.8888888888888888,
              "#fdca26"
             ],
             [
              1,
              "#f0f921"
             ]
            ],
            "type": "histogram2d"
           }
          ],
          "histogram2dcontour": [
           {
            "colorbar": {
             "outlinewidth": 0,
             "ticks": ""
            },
            "colorscale": [
             [
              0,
              "#0d0887"
             ],
             [
              0.1111111111111111,
              "#46039f"
             ],
             [
              0.2222222222222222,
              "#7201a8"
             ],
             [
              0.3333333333333333,
              "#9c179e"
             ],
             [
              0.4444444444444444,
              "#bd3786"
             ],
             [
              0.5555555555555556,
              "#d8576b"
             ],
             [
              0.6666666666666666,
              "#ed7953"
             ],
             [
              0.7777777777777778,
              "#fb9f3a"
             ],
             [
              0.8888888888888888,
              "#fdca26"
             ],
             [
              1,
              "#f0f921"
             ]
            ],
            "type": "histogram2dcontour"
           }
          ],
          "mesh3d": [
           {
            "colorbar": {
             "outlinewidth": 0,
             "ticks": ""
            },
            "type": "mesh3d"
           }
          ],
          "parcoords": [
           {
            "line": {
             "colorbar": {
              "outlinewidth": 0,
              "ticks": ""
             }
            },
            "type": "parcoords"
           }
          ],
          "pie": [
           {
            "automargin": true,
            "type": "pie"
           }
          ],
          "scatter": [
           {
            "fillpattern": {
             "fillmode": "overlay",
             "size": 10,
             "solidity": 0.2
            },
            "type": "scatter"
           }
          ],
          "scatter3d": [
           {
            "line": {
             "colorbar": {
              "outlinewidth": 0,
              "ticks": ""
             }
            },
            "marker": {
             "colorbar": {
              "outlinewidth": 0,
              "ticks": ""
             }
            },
            "type": "scatter3d"
           }
          ],
          "scattercarpet": [
           {
            "marker": {
             "colorbar": {
              "outlinewidth": 0,
              "ticks": ""
             }
            },
            "type": "scattercarpet"
           }
          ],
          "scattergeo": [
           {
            "marker": {
             "colorbar": {
              "outlinewidth": 0,
              "ticks": ""
             }
            },
            "type": "scattergeo"
           }
          ],
          "scattergl": [
           {
            "marker": {
             "colorbar": {
              "outlinewidth": 0,
              "ticks": ""
             }
            },
            "type": "scattergl"
           }
          ],
          "scattermap": [
           {
            "marker": {
             "colorbar": {
              "outlinewidth": 0,
              "ticks": ""
             }
            },
            "type": "scattermap"
           }
          ],
          "scattermapbox": [
           {
            "marker": {
             "colorbar": {
              "outlinewidth": 0,
              "ticks": ""
             }
            },
            "type": "scattermapbox"
           }
          ],
          "scatterpolar": [
           {
            "marker": {
             "colorbar": {
              "outlinewidth": 0,
              "ticks": ""
             }
            },
            "type": "scatterpolar"
           }
          ],
          "scatterpolargl": [
           {
            "marker": {
             "colorbar": {
              "outlinewidth": 0,
              "ticks": ""
             }
            },
            "type": "scatterpolargl"
           }
          ],
          "scatterternary": [
           {
            "marker": {
             "colorbar": {
              "outlinewidth": 0,
              "ticks": ""
             }
            },
            "type": "scatterternary"
           }
          ],
          "surface": [
           {
            "colorbar": {
             "outlinewidth": 0,
             "ticks": ""
            },
            "colorscale": [
             [
              0,
              "#0d0887"
             ],
             [
              0.1111111111111111,
              "#46039f"
             ],
             [
              0.2222222222222222,
              "#7201a8"
             ],
             [
              0.3333333333333333,
              "#9c179e"
             ],
             [
              0.4444444444444444,
              "#bd3786"
             ],
             [
              0.5555555555555556,
              "#d8576b"
             ],
             [
              0.6666666666666666,
              "#ed7953"
             ],
             [
              0.7777777777777778,
              "#fb9f3a"
             ],
             [
              0.8888888888888888,
              "#fdca26"
             ],
             [
              1,
              "#f0f921"
             ]
            ],
            "type": "surface"
           }
          ],
          "table": [
           {
            "cells": {
             "fill": {
              "color": "#EBF0F8"
             },
             "line": {
              "color": "white"
             }
            },
            "header": {
             "fill": {
              "color": "#C8D4E3"
             },
             "line": {
              "color": "white"
             }
            },
            "type": "table"
           }
          ]
         },
         "layout": {
          "annotationdefaults": {
           "arrowcolor": "#2a3f5f",
           "arrowhead": 0,
           "arrowwidth": 1
          },
          "autotypenumbers": "strict",
          "coloraxis": {
           "colorbar": {
            "outlinewidth": 0,
            "ticks": ""
           }
          },
          "colorscale": {
           "diverging": [
            [
             0,
             "#8e0152"
            ],
            [
             0.1,
             "#c51b7d"
            ],
            [
             0.2,
             "#de77ae"
            ],
            [
             0.3,
             "#f1b6da"
            ],
            [
             0.4,
             "#fde0ef"
            ],
            [
             0.5,
             "#f7f7f7"
            ],
            [
             0.6,
             "#e6f5d0"
            ],
            [
             0.7,
             "#b8e186"
            ],
            [
             0.8,
             "#7fbc41"
            ],
            [
             0.9,
             "#4d9221"
            ],
            [
             1,
             "#276419"
            ]
           ],
           "sequential": [
            [
             0,
             "#0d0887"
            ],
            [
             0.1111111111111111,
             "#46039f"
            ],
            [
             0.2222222222222222,
             "#7201a8"
            ],
            [
             0.3333333333333333,
             "#9c179e"
            ],
            [
             0.4444444444444444,
             "#bd3786"
            ],
            [
             0.5555555555555556,
             "#d8576b"
            ],
            [
             0.6666666666666666,
             "#ed7953"
            ],
            [
             0.7777777777777778,
             "#fb9f3a"
            ],
            [
             0.8888888888888888,
             "#fdca26"
            ],
            [
             1,
             "#f0f921"
            ]
           ],
           "sequentialminus": [
            [
             0,
             "#0d0887"
            ],
            [
             0.1111111111111111,
             "#46039f"
            ],
            [
             0.2222222222222222,
             "#7201a8"
            ],
            [
             0.3333333333333333,
             "#9c179e"
            ],
            [
             0.4444444444444444,
             "#bd3786"
            ],
            [
             0.5555555555555556,
             "#d8576b"
            ],
            [
             0.6666666666666666,
             "#ed7953"
            ],
            [
             0.7777777777777778,
             "#fb9f3a"
            ],
            [
             0.8888888888888888,
             "#fdca26"
            ],
            [
             1,
             "#f0f921"
            ]
           ]
          },
          "colorway": [
           "#636efa",
           "#EF553B",
           "#00cc96",
           "#ab63fa",
           "#FFA15A",
           "#19d3f3",
           "#FF6692",
           "#B6E880",
           "#FF97FF",
           "#FECB52"
          ],
          "font": {
           "color": "#2a3f5f"
          },
          "geo": {
           "bgcolor": "white",
           "lakecolor": "white",
           "landcolor": "#E5ECF6",
           "showlakes": true,
           "showland": true,
           "subunitcolor": "white"
          },
          "hoverlabel": {
           "align": "left"
          },
          "hovermode": "closest",
          "mapbox": {
           "style": "light"
          },
          "paper_bgcolor": "white",
          "plot_bgcolor": "#E5ECF6",
          "polar": {
           "angularaxis": {
            "gridcolor": "white",
            "linecolor": "white",
            "ticks": ""
           },
           "bgcolor": "#E5ECF6",
           "radialaxis": {
            "gridcolor": "white",
            "linecolor": "white",
            "ticks": ""
           }
          },
          "scene": {
           "xaxis": {
            "backgroundcolor": "#E5ECF6",
            "gridcolor": "white",
            "gridwidth": 2,
            "linecolor": "white",
            "showbackground": true,
            "ticks": "",
            "zerolinecolor": "white"
           },
           "yaxis": {
            "backgroundcolor": "#E5ECF6",
            "gridcolor": "white",
            "gridwidth": 2,
            "linecolor": "white",
            "showbackground": true,
            "ticks": "",
            "zerolinecolor": "white"
           },
           "zaxis": {
            "backgroundcolor": "#E5ECF6",
            "gridcolor": "white",
            "gridwidth": 2,
            "linecolor": "white",
            "showbackground": true,
            "ticks": "",
            "zerolinecolor": "white"
           }
          },
          "shapedefaults": {
           "line": {
            "color": "#2a3f5f"
           }
          },
          "ternary": {
           "aaxis": {
            "gridcolor": "white",
            "linecolor": "white",
            "ticks": ""
           },
           "baxis": {
            "gridcolor": "white",
            "linecolor": "white",
            "ticks": ""
           },
           "bgcolor": "#E5ECF6",
           "caxis": {
            "gridcolor": "white",
            "linecolor": "white",
            "ticks": ""
           }
          },
          "title": {
           "x": 0.05
          },
          "xaxis": {
           "automargin": true,
           "gridcolor": "white",
           "linecolor": "white",
           "ticks": "",
           "title": {
            "standoff": 15
           },
           "zerolinecolor": "white",
           "zerolinewidth": 2
          },
          "yaxis": {
           "automargin": true,
           "gridcolor": "white",
           "linecolor": "white",
           "ticks": "",
           "title": {
            "standoff": 15
           },
           "zerolinecolor": "white",
           "zerolinewidth": 2
          }
         }
        },
        "title": {
         "text": "Average Price per Page"
        },
        "xaxis": {
         "anchor": "y",
         "domain": [
          0,
          1
         ],
         "tickmode": "array",
         "ticktext": [
          "1",
          "11",
          "21",
          "31",
          "41",
          "51",
          "61",
          "71",
          "82",
          "92",
          "102",
          "112",
          "122",
          "132",
          "142",
          "152",
          "162",
          "172",
          "183",
          "193"
         ],
         "tickvals": {
          "bdata": "AQALABUAHwApADMAPQBHAFIAXABmAHAAegCEAI4AmACiAKwAtwDBAA==",
          "dtype": "i2"
         },
         "title": {
          "text": "Page Number"
         }
        },
        "yaxis": {
         "anchor": "x",
         "domain": [
          0,
          1
         ],
         "title": {
          "text": "Average Price ($)"
         }
        }
       }
      }
     },
     "metadata": {},
     "output_type": "display_data"
    }
   ],
   "source": [
    "fig = px.line(\n",
    "    page_summary,\n",
    "    x=\"page\",\n",
    "    y=\"price\",\n",
    "    markers=True,\n",
    "    title=\"Average Price per Page\",\n",
    "    labels={\"page\": \"Page Number\", \"price\": \"Average Price ($)\"}\n",
    ")\n",
    "\n",
    "\n",
    "tickvals = page_summary['page'].unique()[::10]\n",
    "\n",
    "fig.update_layout(\n",
    "    xaxis=dict(\n",
    "        tickmode=\"array\",\n",
    "        tickvals=tickvals,\n",
    "        ticktext=[str(v) for v in tickvals]\n",
    "    ),\n",
    "    hovermode=\"x unified\"\n",
    ")\n",
    "\n",
    "fig.show()\n"
   ]
  },
  {
   "cell_type": "code",
   "execution_count": 9,
   "id": "56886dff",
   "metadata": {},
   "outputs": [
    {
     "data": {
      "application/vnd.plotly.v1+json": {
       "config": {
        "plotlyServerURL": "https://plot.ly"
       },
       "data": [
        {
         "hovertemplate": "Page Number=%{x}<br>Average Star Rating=%{y}<extra></extra>",
         "legendgroup": "",
         "line": {
          "color": "#636efa",
          "dash": "solid"
         },
         "marker": {
          "symbol": "circle"
         },
         "mode": "lines+markers",
         "name": "",
         "orientation": "v",
         "showlegend": false,
         "type": "scatter",
         "x": {
          "bdata": "AQACAAMABAAFAAYABwAIAAkACgALAAwADQAOAA8AEAARABIAEwAUABUAFgAXABgAGQAaABsAHAAdAB4AHwAgACEAIgAjACQAJQAmACcAKAApACoAKwAsAC0ALgAvADAAMQAyADMANAA1ADYANwA4ADkAOgA7ADwAPQA+AD8AQABBAEIAQwBEAEUARgBHAEgASQBKAEsATABNAE8AUABRAFIAUwBUAFUAVgBXAFgAWQBaAFsAXABdAF4AXwBgAGEAYgBjAGQAZQBmAGcAaABpAGoAawBsAG0AbgBvAHAAcQByAHMAdAB1AHYAdwB4AHkAegB7AHwAfQB+AH8AgACBAIIAgwCEAIUAhgCHAIgAiQCKAIsAjACNAI4AjwCQAJEAkgCTAJQAlQCWAJcAmACZAJoAmwCcAJ0AngCfAKAAoQCiAKMApAClAKYApwCoAKkAqgCrAKwArQCuAK8AsACyALMAtAC1ALYAtwC4ALkAugC7ALwAvQC+AL8AwADBAMIAwwDEAMUAxgDHAMgA",
          "dtype": "i2"
         },
         "xaxis": "x",
         "y": {
          "bdata": "AAAAAAAAEUAAAAAAAAASQAAAAAAAABFAAAAAAAAAEUAAAAAAAAARQAAAAAAAABFAAAAAAAAAEUCrqqqqqqoQQAAAAAAAABFAq6qqqqqqEEBVVVVVVVUSQKuqqqqqqhFAq6qqqqqqEUBVVVVVVVUSQKuqqqqqqhJAAAAAAAAAEkCrqqqqqqoSQAAAAAAAABJAVVVVVVVVEkAAAAAAAAASQAAAAAAAABFAVVVVVVVVEkAAAAAAAAARQAAAAAAAABJAAAAAAAAAEkAAAAAAAAASQKuqqqqqqhFAAAAAAAAAEkBVVVVVVVUSQAAAAAAAABJAAAAAAAAAEkAAAAAAAAARQKuqqqqqqhJAVVVVVVVVEkCrqqqqqqoRQAAAAAAAABJAVVVVVVVVEkBVVVVVVVUSQAAAAAAAABJAq6qqqqqqEUAAAAAAAAAQQDMzMzMzMxFAVVVVVVVVEUAAAAAAAAASQAAAAAAAABJAZmZmZmZmEkAAAAAAAAATQAAAAAAAABJAq6qqqqqqEEAAAAAAAAASQFVVVVVVVRFAVVVVVVVVEkAAAAAAAAASQAAAAAAAABBAVVVVVVVVEkBVVVVVVVUQQAAAAAAAgBFAzczMzMzMEECrqqqqqqoRQAAAAAAAABJAAAAAAAAAEkCrqqqqqqoRQFVVVVVVVRJAAAAAAAAAEkAAAAAAAIASQAAAAAAAABJAAAAAAAAAEkBVVVVVVVUSQM3MzMzMzBBAAAAAAAAAEkBmZmZmZmYSQAAAAAAAABJAAAAAAAAAEkAAAAAAAAASQAAAAAAAABJAZmZmZmZmDkAAAAAAAIASQAAAAAAAABJAAAAAAAAAEkAAAAAAAIASQFVVVVVVVRJAAAAAAAAAEkAAAAAAAAASQAAAAAAAABJAmpmZmZmZEUAAAAAAAAASQAAAAAAAABJAAAAAAACAEEAAAAAAAAASQAAAAAAAABFAAAAAAAAAEkAAAAAAAIARQAAAAAAAABJAAAAAAAAAEkAAAAAAAAASQAAAAAAAgBBAq6qqqqqqEkAAAAAAAAASQAAAAAAAgBJAAAAAAAAAEkAAAAAAAAASQFVVVVVVVRJAAAAAAAAAEkBVVVVVVVUSQKuqqqqqqhFAVVVVVVVVEkBVVVVVVVUSQFVVVVVVVRJAVVVVVVVVD0BVVVVVVVUSQFVVVVVVVRJAZmZmZmZmEkCrqqqqqqoQQFVVVVVVVRJAAAAAAAAAEUAAAAAAAAARQFVVVVVVVRFAVVVVVVVVEkAAAAAAAAASQKuqqqqqqhFAVVVVVVVVEkAAAAAAAAASQJqZmZmZmRFAAAAAAAAAEkAAAAAAAAASQAAAAAAAABJAmpmZmZmZEUBmZmZmZmYSQFVVVVVVVRBAAAAAAACAEkAAAAAAAAASQGZmZmZmZhJAAAAAAAAAEkCamZmZmZkRQAAAAAAAABJAVVVVVVVVEkAAAAAAAAASQM3MzMzMzBJAZmZmZmZmEkAAAAAAAAASQAAAAAAAgBFAAAAAAAAAEkBVVVVVVVUSQAAAAAAAgBJAAAAAAAAAEkDNzMzMzMwQQKuqqqqqqhBAAAAAAAAAEkBVVVVVVVUSQAAAAAAAABJAAAAAAAAAEkBVVVVVVVUQQKuqqqqqqhFAZmZmZmZmEEAAAAAAAAASQKuqqqqqqhJAq6qqqqqqEUAAAAAAAAATQKuqqqqqqhBAAAAAAAAADUCrqqqqqqoRQDMzMzMzMxFAVVVVVVVVEkAAAAAAAAASQAAAAAAAgBFAq6qqqqqqEkAAAAAAAAASQAAAAAAAABFAZmZmZmZmEkAAAAAAAIASQAAAAAAAABJAAAAAAAAAEUAAAAAAAAASQAAAAAAAgBFAAAAAAAAAEkAAAAAAAAASQAAAAAAAgBJAAAAAAAAAEUAAAAAAAIASQAAAAAAAABJAAAAAAAAAEkAAAAAAAAASQAAAAAAAABJAAAAAAAAAFEAAAAAAAAASQAAAAAAAABJAAAAAAAAAEkAAAAAAAAASQAAAAAAAABJAAAAAAAAAEkAAAAAAAAASQAAAAAAAABJAAAAAAAAAEkAAAAAAAAASQAAAAAAAABJAAAAAAAAAEkAAAAAAAAASQAAAAAAAgBJA",
          "dtype": "f8"
         },
         "yaxis": "y"
        }
       ],
       "layout": {
        "hovermode": "x unified",
        "legend": {
         "tracegroupgap": 0
        },
        "template": {
         "data": {
          "bar": [
           {
            "error_x": {
             "color": "#2a3f5f"
            },
            "error_y": {
             "color": "#2a3f5f"
            },
            "marker": {
             "line": {
              "color": "#E5ECF6",
              "width": 0.5
             },
             "pattern": {
              "fillmode": "overlay",
              "size": 10,
              "solidity": 0.2
             }
            },
            "type": "bar"
           }
          ],
          "barpolar": [
           {
            "marker": {
             "line": {
              "color": "#E5ECF6",
              "width": 0.5
             },
             "pattern": {
              "fillmode": "overlay",
              "size": 10,
              "solidity": 0.2
             }
            },
            "type": "barpolar"
           }
          ],
          "carpet": [
           {
            "aaxis": {
             "endlinecolor": "#2a3f5f",
             "gridcolor": "white",
             "linecolor": "white",
             "minorgridcolor": "white",
             "startlinecolor": "#2a3f5f"
            },
            "baxis": {
             "endlinecolor": "#2a3f5f",
             "gridcolor": "white",
             "linecolor": "white",
             "minorgridcolor": "white",
             "startlinecolor": "#2a3f5f"
            },
            "type": "carpet"
           }
          ],
          "choropleth": [
           {
            "colorbar": {
             "outlinewidth": 0,
             "ticks": ""
            },
            "type": "choropleth"
           }
          ],
          "contour": [
           {
            "colorbar": {
             "outlinewidth": 0,
             "ticks": ""
            },
            "colorscale": [
             [
              0,
              "#0d0887"
             ],
             [
              0.1111111111111111,
              "#46039f"
             ],
             [
              0.2222222222222222,
              "#7201a8"
             ],
             [
              0.3333333333333333,
              "#9c179e"
             ],
             [
              0.4444444444444444,
              "#bd3786"
             ],
             [
              0.5555555555555556,
              "#d8576b"
             ],
             [
              0.6666666666666666,
              "#ed7953"
             ],
             [
              0.7777777777777778,
              "#fb9f3a"
             ],
             [
              0.8888888888888888,
              "#fdca26"
             ],
             [
              1,
              "#f0f921"
             ]
            ],
            "type": "contour"
           }
          ],
          "contourcarpet": [
           {
            "colorbar": {
             "outlinewidth": 0,
             "ticks": ""
            },
            "type": "contourcarpet"
           }
          ],
          "heatmap": [
           {
            "colorbar": {
             "outlinewidth": 0,
             "ticks": ""
            },
            "colorscale": [
             [
              0,
              "#0d0887"
             ],
             [
              0.1111111111111111,
              "#46039f"
             ],
             [
              0.2222222222222222,
              "#7201a8"
             ],
             [
              0.3333333333333333,
              "#9c179e"
             ],
             [
              0.4444444444444444,
              "#bd3786"
             ],
             [
              0.5555555555555556,
              "#d8576b"
             ],
             [
              0.6666666666666666,
              "#ed7953"
             ],
             [
              0.7777777777777778,
              "#fb9f3a"
             ],
             [
              0.8888888888888888,
              "#fdca26"
             ],
             [
              1,
              "#f0f921"
             ]
            ],
            "type": "heatmap"
           }
          ],
          "histogram": [
           {
            "marker": {
             "pattern": {
              "fillmode": "overlay",
              "size": 10,
              "solidity": 0.2
             }
            },
            "type": "histogram"
           }
          ],
          "histogram2d": [
           {
            "colorbar": {
             "outlinewidth": 0,
             "ticks": ""
            },
            "colorscale": [
             [
              0,
              "#0d0887"
             ],
             [
              0.1111111111111111,
              "#46039f"
             ],
             [
              0.2222222222222222,
              "#7201a8"
             ],
             [
              0.3333333333333333,
              "#9c179e"
             ],
             [
              0.4444444444444444,
              "#bd3786"
             ],
             [
              0.5555555555555556,
              "#d8576b"
             ],
             [
              0.6666666666666666,
              "#ed7953"
             ],
             [
              0.7777777777777778,
              "#fb9f3a"
             ],
             [
              0.8888888888888888,
              "#fdca26"
             ],
             [
              1,
              "#f0f921"
             ]
            ],
            "type": "histogram2d"
           }
          ],
          "histogram2dcontour": [
           {
            "colorbar": {
             "outlinewidth": 0,
             "ticks": ""
            },
            "colorscale": [
             [
              0,
              "#0d0887"
             ],
             [
              0.1111111111111111,
              "#46039f"
             ],
             [
              0.2222222222222222,
              "#7201a8"
             ],
             [
              0.3333333333333333,
              "#9c179e"
             ],
             [
              0.4444444444444444,
              "#bd3786"
             ],
             [
              0.5555555555555556,
              "#d8576b"
             ],
             [
              0.6666666666666666,
              "#ed7953"
             ],
             [
              0.7777777777777778,
              "#fb9f3a"
             ],
             [
              0.8888888888888888,
              "#fdca26"
             ],
             [
              1,
              "#f0f921"
             ]
            ],
            "type": "histogram2dcontour"
           }
          ],
          "mesh3d": [
           {
            "colorbar": {
             "outlinewidth": 0,
             "ticks": ""
            },
            "type": "mesh3d"
           }
          ],
          "parcoords": [
           {
            "line": {
             "colorbar": {
              "outlinewidth": 0,
              "ticks": ""
             }
            },
            "type": "parcoords"
           }
          ],
          "pie": [
           {
            "automargin": true,
            "type": "pie"
           }
          ],
          "scatter": [
           {
            "fillpattern": {
             "fillmode": "overlay",
             "size": 10,
             "solidity": 0.2
            },
            "type": "scatter"
           }
          ],
          "scatter3d": [
           {
            "line": {
             "colorbar": {
              "outlinewidth": 0,
              "ticks": ""
             }
            },
            "marker": {
             "colorbar": {
              "outlinewidth": 0,
              "ticks": ""
             }
            },
            "type": "scatter3d"
           }
          ],
          "scattercarpet": [
           {
            "marker": {
             "colorbar": {
              "outlinewidth": 0,
              "ticks": ""
             }
            },
            "type": "scattercarpet"
           }
          ],
          "scattergeo": [
           {
            "marker": {
             "colorbar": {
              "outlinewidth": 0,
              "ticks": ""
             }
            },
            "type": "scattergeo"
           }
          ],
          "scattergl": [
           {
            "marker": {
             "colorbar": {
              "outlinewidth": 0,
              "ticks": ""
             }
            },
            "type": "scattergl"
           }
          ],
          "scattermap": [
           {
            "marker": {
             "colorbar": {
              "outlinewidth": 0,
              "ticks": ""
             }
            },
            "type": "scattermap"
           }
          ],
          "scattermapbox": [
           {
            "marker": {
             "colorbar": {
              "outlinewidth": 0,
              "ticks": ""
             }
            },
            "type": "scattermapbox"
           }
          ],
          "scatterpolar": [
           {
            "marker": {
             "colorbar": {
              "outlinewidth": 0,
              "ticks": ""
             }
            },
            "type": "scatterpolar"
           }
          ],
          "scatterpolargl": [
           {
            "marker": {
             "colorbar": {
              "outlinewidth": 0,
              "ticks": ""
             }
            },
            "type": "scatterpolargl"
           }
          ],
          "scatterternary": [
           {
            "marker": {
             "colorbar": {
              "outlinewidth": 0,
              "ticks": ""
             }
            },
            "type": "scatterternary"
           }
          ],
          "surface": [
           {
            "colorbar": {
             "outlinewidth": 0,
             "ticks": ""
            },
            "colorscale": [
             [
              0,
              "#0d0887"
             ],
             [
              0.1111111111111111,
              "#46039f"
             ],
             [
              0.2222222222222222,
              "#7201a8"
             ],
             [
              0.3333333333333333,
              "#9c179e"
             ],
             [
              0.4444444444444444,
              "#bd3786"
             ],
             [
              0.5555555555555556,
              "#d8576b"
             ],
             [
              0.6666666666666666,
              "#ed7953"
             ],
             [
              0.7777777777777778,
              "#fb9f3a"
             ],
             [
              0.8888888888888888,
              "#fdca26"
             ],
             [
              1,
              "#f0f921"
             ]
            ],
            "type": "surface"
           }
          ],
          "table": [
           {
            "cells": {
             "fill": {
              "color": "#EBF0F8"
             },
             "line": {
              "color": "white"
             }
            },
            "header": {
             "fill": {
              "color": "#C8D4E3"
             },
             "line": {
              "color": "white"
             }
            },
            "type": "table"
           }
          ]
         },
         "layout": {
          "annotationdefaults": {
           "arrowcolor": "#2a3f5f",
           "arrowhead": 0,
           "arrowwidth": 1
          },
          "autotypenumbers": "strict",
          "coloraxis": {
           "colorbar": {
            "outlinewidth": 0,
            "ticks": ""
           }
          },
          "colorscale": {
           "diverging": [
            [
             0,
             "#8e0152"
            ],
            [
             0.1,
             "#c51b7d"
            ],
            [
             0.2,
             "#de77ae"
            ],
            [
             0.3,
             "#f1b6da"
            ],
            [
             0.4,
             "#fde0ef"
            ],
            [
             0.5,
             "#f7f7f7"
            ],
            [
             0.6,
             "#e6f5d0"
            ],
            [
             0.7,
             "#b8e186"
            ],
            [
             0.8,
             "#7fbc41"
            ],
            [
             0.9,
             "#4d9221"
            ],
            [
             1,
             "#276419"
            ]
           ],
           "sequential": [
            [
             0,
             "#0d0887"
            ],
            [
             0.1111111111111111,
             "#46039f"
            ],
            [
             0.2222222222222222,
             "#7201a8"
            ],
            [
             0.3333333333333333,
             "#9c179e"
            ],
            [
             0.4444444444444444,
             "#bd3786"
            ],
            [
             0.5555555555555556,
             "#d8576b"
            ],
            [
             0.6666666666666666,
             "#ed7953"
            ],
            [
             0.7777777777777778,
             "#fb9f3a"
            ],
            [
             0.8888888888888888,
             "#fdca26"
            ],
            [
             1,
             "#f0f921"
            ]
           ],
           "sequentialminus": [
            [
             0,
             "#0d0887"
            ],
            [
             0.1111111111111111,
             "#46039f"
            ],
            [
             0.2222222222222222,
             "#7201a8"
            ],
            [
             0.3333333333333333,
             "#9c179e"
            ],
            [
             0.4444444444444444,
             "#bd3786"
            ],
            [
             0.5555555555555556,
             "#d8576b"
            ],
            [
             0.6666666666666666,
             "#ed7953"
            ],
            [
             0.7777777777777778,
             "#fb9f3a"
            ],
            [
             0.8888888888888888,
             "#fdca26"
            ],
            [
             1,
             "#f0f921"
            ]
           ]
          },
          "colorway": [
           "#636efa",
           "#EF553B",
           "#00cc96",
           "#ab63fa",
           "#FFA15A",
           "#19d3f3",
           "#FF6692",
           "#B6E880",
           "#FF97FF",
           "#FECB52"
          ],
          "font": {
           "color": "#2a3f5f"
          },
          "geo": {
           "bgcolor": "white",
           "lakecolor": "white",
           "landcolor": "#E5ECF6",
           "showlakes": true,
           "showland": true,
           "subunitcolor": "white"
          },
          "hoverlabel": {
           "align": "left"
          },
          "hovermode": "closest",
          "mapbox": {
           "style": "light"
          },
          "paper_bgcolor": "white",
          "plot_bgcolor": "#E5ECF6",
          "polar": {
           "angularaxis": {
            "gridcolor": "white",
            "linecolor": "white",
            "ticks": ""
           },
           "bgcolor": "#E5ECF6",
           "radialaxis": {
            "gridcolor": "white",
            "linecolor": "white",
            "ticks": ""
           }
          },
          "scene": {
           "xaxis": {
            "backgroundcolor": "#E5ECF6",
            "gridcolor": "white",
            "gridwidth": 2,
            "linecolor": "white",
            "showbackground": true,
            "ticks": "",
            "zerolinecolor": "white"
           },
           "yaxis": {
            "backgroundcolor": "#E5ECF6",
            "gridcolor": "white",
            "gridwidth": 2,
            "linecolor": "white",
            "showbackground": true,
            "ticks": "",
            "zerolinecolor": "white"
           },
           "zaxis": {
            "backgroundcolor": "#E5ECF6",
            "gridcolor": "white",
            "gridwidth": 2,
            "linecolor": "white",
            "showbackground": true,
            "ticks": "",
            "zerolinecolor": "white"
           }
          },
          "shapedefaults": {
           "line": {
            "color": "#2a3f5f"
           }
          },
          "ternary": {
           "aaxis": {
            "gridcolor": "white",
            "linecolor": "white",
            "ticks": ""
           },
           "baxis": {
            "gridcolor": "white",
            "linecolor": "white",
            "ticks": ""
           },
           "bgcolor": "#E5ECF6",
           "caxis": {
            "gridcolor": "white",
            "linecolor": "white",
            "ticks": ""
           }
          },
          "title": {
           "x": 0.05
          },
          "xaxis": {
           "automargin": true,
           "gridcolor": "white",
           "linecolor": "white",
           "ticks": "",
           "title": {
            "standoff": 15
           },
           "zerolinecolor": "white",
           "zerolinewidth": 2
          },
          "yaxis": {
           "automargin": true,
           "gridcolor": "white",
           "linecolor": "white",
           "ticks": "",
           "title": {
            "standoff": 15
           },
           "zerolinecolor": "white",
           "zerolinewidth": 2
          }
         }
        },
        "title": {
         "text": "Average Star Rating per Page"
        },
        "xaxis": {
         "anchor": "y",
         "domain": [
          0,
          1
         ],
         "tickmode": "array",
         "ticktext": [
          "1",
          "11",
          "21",
          "31",
          "41",
          "51",
          "61",
          "71",
          "82",
          "92",
          "102",
          "112",
          "122",
          "132",
          "142",
          "152",
          "162",
          "172",
          "183",
          "193"
         ],
         "tickvals": {
          "bdata": "AQALABUAHwApADMAPQBHAFIAXABmAHAAegCEAI4AmACiAKwAtwDBAA==",
          "dtype": "i2"
         },
         "title": {
          "text": "Page Number"
         }
        },
        "yaxis": {
         "anchor": "x",
         "domain": [
          0,
          1
         ],
         "range": [
          3.5,
          5
         ],
         "title": {
          "text": "Average Star Rating"
         }
        }
       }
      }
     },
     "metadata": {},
     "output_type": "display_data"
    }
   ],
   "source": [
    "fig = px.line(\n",
    "    page_summary,\n",
    "    x=\"page\",\n",
    "    y=\"star_rating\",\n",
    "    markers=True,\n",
    "    title=\"Average Star Rating per Page\",\n",
    "    labels={\"page\": \"Page Number\", \"star_rating\": \"Average Star Rating\"}\n",
    ")\n",
    "\n",
    "tickvals = page_summary['page'].unique()[::10]\n",
    "\n",
    "fig.update_layout(\n",
    "    xaxis=dict(\n",
    "        tickmode=\"array\",\n",
    "        tickvals=tickvals,\n",
    "        ticktext=[str(v) for v in tickvals]\n",
    "    ),\n",
    "    yaxis=dict(\n",
    "        range=[3.5, 5]  # 👈 focus on the upper rating range\n",
    "    ),\n",
    "    hovermode=\"x unified\"\n",
    ")\n",
    "\n",
    "fig.show()\n"
   ]
  },
  {
   "cell_type": "code",
   "execution_count": 10,
   "id": "a0f7ab6c",
   "metadata": {},
   "outputs": [
    {
     "name": "stdout",
     "output_type": "stream",
     "text": [
      "Loaded 100 rows from 10 files.\n"
     ]
    },
    {
     "data": {
      "text/html": [
       "<div>\n",
       "<style scoped>\n",
       "    .dataframe tbody tr th:only-of-type {\n",
       "        vertical-align: middle;\n",
       "    }\n",
       "\n",
       "    .dataframe tbody tr th {\n",
       "        vertical-align: top;\n",
       "    }\n",
       "\n",
       "    .dataframe thead th {\n",
       "        text-align: right;\n",
       "    }\n",
       "</style>\n",
       "<table border=\"1\" class=\"dataframe\">\n",
       "  <thead>\n",
       "    <tr style=\"text-align: right;\">\n",
       "      <th></th>\n",
       "      <th>timestamp</th>\n",
       "      <th>url</th>\n",
       "      <th>price</th>\n",
       "      <th>time_spent_sec</th>\n",
       "      <th>source_file</th>\n",
       "    </tr>\n",
       "  </thead>\n",
       "  <tbody>\n",
       "    <tr>\n",
       "      <th>0</th>\n",
       "      <td>2025-04-29 15:46:10</td>\n",
       "      <td>https://www.wayfair.com/furniture/pdp/hokku-de...</td>\n",
       "      <td>$539.99</td>\n",
       "      <td>27.46</td>\n",
       "      <td>wayfair_price_tracking_20250429_1602.csv</td>\n",
       "    </tr>\n",
       "    <tr>\n",
       "      <th>1</th>\n",
       "      <td>2025-04-29 15:46:37</td>\n",
       "      <td>https://www.wayfair.com/furniture/pdp/august-g...</td>\n",
       "      <td>$259.99</td>\n",
       "      <td>28.91</td>\n",
       "      <td>wayfair_price_tracking_20250429_1602.csv</td>\n",
       "    </tr>\n",
       "    <tr>\n",
       "      <th>2</th>\n",
       "      <td>2025-04-29 15:47:06</td>\n",
       "      <td>https://www.wayfair.com/furniture/pdp/inbox-ze...</td>\n",
       "      <td>NaN</td>\n",
       "      <td>290.83</td>\n",
       "      <td>wayfair_price_tracking_20250429_1602.csv</td>\n",
       "    </tr>\n",
       "    <tr>\n",
       "      <th>3</th>\n",
       "      <td>2025-04-29 15:51:57</td>\n",
       "      <td>https://www.wayfair.com/furniture/pdp/george-o...</td>\n",
       "      <td>NaN</td>\n",
       "      <td>314.16</td>\n",
       "      <td>wayfair_price_tracking_20250429_1602.csv</td>\n",
       "    </tr>\n",
       "    <tr>\n",
       "      <th>4</th>\n",
       "      <td>2025-04-29 15:57:11</td>\n",
       "      <td>https://www.wayfair.com/furniture/pdp/wade-log...</td>\n",
       "      <td>NaN</td>\n",
       "      <td>174.94</td>\n",
       "      <td>wayfair_price_tracking_20250429_1602.csv</td>\n",
       "    </tr>\n",
       "  </tbody>\n",
       "</table>\n",
       "</div>"
      ],
      "text/plain": [
       "             timestamp                                                url  \\\n",
       "0  2025-04-29 15:46:10  https://www.wayfair.com/furniture/pdp/hokku-de...   \n",
       "1  2025-04-29 15:46:37  https://www.wayfair.com/furniture/pdp/august-g...   \n",
       "2  2025-04-29 15:47:06  https://www.wayfair.com/furniture/pdp/inbox-ze...   \n",
       "3  2025-04-29 15:51:57  https://www.wayfair.com/furniture/pdp/george-o...   \n",
       "4  2025-04-29 15:57:11  https://www.wayfair.com/furniture/pdp/wade-log...   \n",
       "\n",
       "     price  time_spent_sec                               source_file  \n",
       "0  $539.99           27.46  wayfair_price_tracking_20250429_1602.csv  \n",
       "1  $259.99           28.91  wayfair_price_tracking_20250429_1602.csv  \n",
       "2      NaN          290.83  wayfair_price_tracking_20250429_1602.csv  \n",
       "3      NaN          314.16  wayfair_price_tracking_20250429_1602.csv  \n",
       "4      NaN          174.94  wayfair_price_tracking_20250429_1602.csv  "
      ]
     },
     "execution_count": 10,
     "metadata": {},
     "output_type": "execute_result"
    }
   ],
   "source": [
    "# Set folder path and target date\n",
    "folder_path = \"../dat\"\n",
    "target_date = \"20250429\"\n",
    "\n",
    "# List all CSV files in the folder\n",
    "all_files = os.listdir(folder_path)\n",
    "\n",
    "# Filter files that match the target date\n",
    "target_files = [f for f in all_files if f.endswith(\".csv\") and target_date in f]\n",
    "\n",
    "# Read and concatenate all matching files\n",
    "df_list = []\n",
    "for file in target_files:\n",
    "    full_path = os.path.join(folder_path, file)\n",
    "    temp_df = pd.read_csv(full_path)  # ← avoid overwriting existing 'df'\n",
    "    temp_df[\"source_file\"] = file\n",
    "    df_list.append(temp_df)\n",
    "\n",
    "# Combine into a single DataFrame\n",
    "combined_df = pd.concat(df_list, ignore_index=True)\n",
    "\n",
    "print(f\"Loaded {len(combined_df)} rows from {len(target_files)} files.\")\n",
    "combined_df.head()\n"
   ]
  },
  {
   "cell_type": "code",
   "execution_count": 11,
   "id": "16454f24",
   "metadata": {},
   "outputs": [
    {
     "name": "stderr",
     "output_type": "stream",
     "text": [
      "<>:3: SyntaxWarning:\n",
      "\n",
      "invalid escape sequence '\\$'\n",
      "\n",
      "<>:3: SyntaxWarning:\n",
      "\n",
      "invalid escape sequence '\\$'\n",
      "\n",
      "/var/folders/r2/cp8kvql56lj6nt9f91f925tm0000gn/T/ipykernel_10202/1327830988.py:3: SyntaxWarning:\n",
      "\n",
      "invalid escape sequence '\\$'\n",
      "\n"
     ]
    }
   ],
   "source": [
    "# --- 3. Clean and format data ---\n",
    "# Clean price column (remove $ and convert to float)\n",
    "combined_df[\"price\"] = combined_df[\"price\"].replace('[\\$,]', '', regex=True).astype(float)\n",
    "\n",
    "# Convert timestamp to datetime\n",
    "combined_df[\"timestamp\"] = pd.to_datetime(combined_df[\"timestamp\"])"
   ]
  },
  {
   "cell_type": "code",
   "execution_count": 12,
   "id": "cb670f92",
   "metadata": {},
   "outputs": [
    {
     "data": {
      "text/html": [
       "<div>\n",
       "<style scoped>\n",
       "    .dataframe tbody tr th:only-of-type {\n",
       "        vertical-align: middle;\n",
       "    }\n",
       "\n",
       "    .dataframe tbody tr th {\n",
       "        vertical-align: top;\n",
       "    }\n",
       "\n",
       "    .dataframe thead th {\n",
       "        text-align: right;\n",
       "    }\n",
       "</style>\n",
       "<table border=\"1\" class=\"dataframe\">\n",
       "  <thead>\n",
       "    <tr style=\"text-align: right;\">\n",
       "      <th></th>\n",
       "      <th>timestamp</th>\n",
       "      <th>url</th>\n",
       "      <th>price</th>\n",
       "      <th>time_spent_sec</th>\n",
       "      <th>source_file</th>\n",
       "      <th>title</th>\n",
       "    </tr>\n",
       "  </thead>\n",
       "  <tbody>\n",
       "    <tr>\n",
       "      <th>0</th>\n",
       "      <td>2025-04-29 15:46:10</td>\n",
       "      <td>https://www.wayfair.com/furniture/pdp/hokku-de...</td>\n",
       "      <td>539.99</td>\n",
       "      <td>27.46</td>\n",
       "      <td>wayfair_price_tracking_20250429_1602.csv</td>\n",
       "      <td>63\" L Shaped Office Executive Standing Desk wi...</td>\n",
       "    </tr>\n",
       "    <tr>\n",
       "      <th>1</th>\n",
       "      <td>2025-04-29 15:46:37</td>\n",
       "      <td>https://www.wayfair.com/furniture/pdp/august-g...</td>\n",
       "      <td>259.99</td>\n",
       "      <td>28.91</td>\n",
       "      <td>wayfair_price_tracking_20250429_1602.csv</td>\n",
       "      <td>Dediu Farmhouse Computer Desk With Charging St...</td>\n",
       "    </tr>\n",
       "    <tr>\n",
       "      <th>2</th>\n",
       "      <td>2025-04-29 15:47:06</td>\n",
       "      <td>https://www.wayfair.com/furniture/pdp/inbox-ze...</td>\n",
       "      <td>NaN</td>\n",
       "      <td>290.83</td>\n",
       "      <td>wayfair_price_tracking_20250429_1602.csv</td>\n",
       "      <td>Koree Standing &amp; Height-Adjustable Desks</td>\n",
       "    </tr>\n",
       "    <tr>\n",
       "      <th>3</th>\n",
       "      <td>2025-04-29 15:51:57</td>\n",
       "      <td>https://www.wayfair.com/furniture/pdp/george-o...</td>\n",
       "      <td>NaN</td>\n",
       "      <td>314.16</td>\n",
       "      <td>wayfair_price_tracking_20250429_1602.csv</td>\n",
       "      <td>Caidence Computer Desk</td>\n",
       "    </tr>\n",
       "    <tr>\n",
       "      <th>4</th>\n",
       "      <td>2025-04-29 15:57:11</td>\n",
       "      <td>https://www.wayfair.com/furniture/pdp/wade-log...</td>\n",
       "      <td>NaN</td>\n",
       "      <td>174.94</td>\n",
       "      <td>wayfair_price_tracking_20250429_1602.csv</td>\n",
       "      <td>Channay Writing Desk</td>\n",
       "    </tr>\n",
       "  </tbody>\n",
       "</table>\n",
       "</div>"
      ],
      "text/plain": [
       "            timestamp                                                url  \\\n",
       "0 2025-04-29 15:46:10  https://www.wayfair.com/furniture/pdp/hokku-de...   \n",
       "1 2025-04-29 15:46:37  https://www.wayfair.com/furniture/pdp/august-g...   \n",
       "2 2025-04-29 15:47:06  https://www.wayfair.com/furniture/pdp/inbox-ze...   \n",
       "3 2025-04-29 15:51:57  https://www.wayfair.com/furniture/pdp/george-o...   \n",
       "4 2025-04-29 15:57:11  https://www.wayfair.com/furniture/pdp/wade-log...   \n",
       "\n",
       "    price  time_spent_sec                               source_file  \\\n",
       "0  539.99           27.46  wayfair_price_tracking_20250429_1602.csv   \n",
       "1  259.99           28.91  wayfair_price_tracking_20250429_1602.csv   \n",
       "2     NaN          290.83  wayfair_price_tracking_20250429_1602.csv   \n",
       "3     NaN          314.16  wayfair_price_tracking_20250429_1602.csv   \n",
       "4     NaN          174.94  wayfair_price_tracking_20250429_1602.csv   \n",
       "\n",
       "                                               title  \n",
       "0  63\" L Shaped Office Executive Standing Desk wi...  \n",
       "1  Dediu Farmhouse Computer Desk With Charging St...  \n",
       "2           Koree Standing & Height-Adjustable Desks  \n",
       "3                             Caidence Computer Desk  \n",
       "4                               Channay Writing Desk  "
      ]
     },
     "execution_count": 12,
     "metadata": {},
     "output_type": "execute_result"
    }
   ],
   "source": [
    "# Only merge 'title' column from df\n",
    "merged_df = pd.merge(\n",
    "    combined_df,\n",
    "    df[['url', 'title']],  # Use the original df to get the 'title' column\n",
    "    on='url',\n",
    "    how='left'\n",
    ")\n",
    "\n",
    "\n",
    "merged_df.head()"
   ]
  },
  {
   "cell_type": "code",
   "execution_count": 13,
   "id": "0eb2bb4e",
   "metadata": {},
   "outputs": [
    {
     "data": {
      "application/vnd.plotly.v1+json": {
       "config": {
        "plotlyServerURL": "https://plot.ly"
       },
       "data": [
        {
         "mode": "lines+markers",
         "name": "63\" L Shaped Office Executive Standing Desk with File Cabinet",
         "type": "scatter",
         "visible": true,
         "x": [
          "2025-04-29T15:46:10.000000000",
          "2025-04-29T16:00:31.000000000",
          "2025-04-29T18:09:21.000000000",
          "2025-04-29T18:19:47.000000000",
          "2025-04-29T23:31:42.000000000",
          "2025-04-29T23:41:15.000000000",
          "2025-04-29T19:09:16.000000000",
          "2025-04-29T19:22:08.000000000",
          "2025-04-29T22:24:37.000000000",
          "2025-04-29T22:34:01.000000000",
          "2025-04-29T17:09:09.000000000",
          "2025-04-29T17:22:58.000000000",
          "2025-04-29T18:28:14.000000000",
          "2025-04-29T18:37:00.000000000",
          "2025-04-29T20:48:51.000000000",
          "2025-04-29T21:03:52.000000000",
          "2025-04-29T16:11:06.000000000",
          "2025-04-29T16:22:26.000000000",
          "2025-04-29T15:22:54.000000000",
          "2025-04-29T15:36:52.000000000"
         ],
         "y": {
          "bdata": "UrgehevfgEBSuB6F69+AQFK4HoXr34BAUrgehevfgEBSuB6F69+AQFK4HoXr34BAUrgehevfgEBSuB6F69+AQFK4HoXr34BAUrgehevfgEBSuB6F69+AQFK4HoXr34BAUrgehevfgEBSuB6F69+AQFK4HoXr34BAUrgehevfgEBSuB6F69+AQFK4HoXr34BAUrgehevfgEBSuB6F69+AQA==",
          "dtype": "f8"
         }
        },
        {
         "mode": "lines+markers",
         "name": "Dediu Farmhouse Computer Desk With Charging Station, Wood Corner Desk With Monitor Stand & File Drawer",
         "type": "scatter",
         "visible": false,
         "x": [
          "2025-04-29T15:46:37.000000000",
          "2025-04-29T18:09:51.000000000",
          "2025-04-29T23:32:06.000000000",
          "2025-04-29T19:09:40.000000000",
          "2025-04-29T22:25:00.000000000",
          "2025-04-29T17:09:33.000000000",
          "2025-04-29T18:28:44.000000000",
          "2025-04-29T20:49:15.000000000",
          "2025-04-29T16:11:39.000000000",
          "2025-04-29T15:23:33.000000000"
         ],
         "y": {
          "bdata": "pHA9Ctc/cECkcD0K1z9wQKRwPQrXP3BApHA9Ctc/cECkcD0K1z9wQKRwPQrXP3BApHA9Ctc/cECkcD0K1z9wQKRwPQrXP3BApHA9Ctc/cEA=",
          "dtype": "f8"
         }
        },
        {
         "mode": "lines+markers",
         "name": "Koree Standing & Height-Adjustable Desks",
         "type": "scatter",
         "visible": false,
         "x": [
          "2025-04-29T15:47:06.000000000",
          "2025-04-29T18:10:23.000000000",
          "2025-04-29T23:32:39.000000000",
          "2025-04-29T19:10:05.000000000",
          "2025-04-29T22:25:36.000000000",
          "2025-04-29T17:10:13.000000000",
          "2025-04-29T18:29:30.000000000",
          "2025-04-29T20:49:46.000000000",
          "2025-04-29T16:12:12.000000000",
          "2025-04-29T15:24:02.000000000"
         ],
         "y": {
          "bdata": "AAAAAAAA+H8AAAAAAAD4fwAAAAAAAPh/AAAAAAAA+H8AAAAAAAD4fwAAAAAAAPh/AAAAAAAA+H8AAAAAAAD4fwAAAAAAAPh/AAAAAAAA+H8=",
          "dtype": "f8"
         }
        },
        {
         "mode": "lines+markers",
         "name": "Caidence Computer Desk",
         "type": "scatter",
         "visible": false,
         "x": [
          "2025-04-29T15:51:57.000000000",
          "2025-04-29T18:14:05.000000000",
          "2025-04-29T23:36:25.000000000",
          "2025-04-29T19:13:49.000000000",
          "2025-04-29T22:28:46.000000000",
          "2025-04-29T17:13:40.000000000",
          "2025-04-29T18:31:58.000000000",
          "2025-04-29T20:54:27.000000000",
          "2025-04-29T16:16:02.000000000",
          "2025-04-29T15:27:11.000000000"
         ],
         "y": {
          "bdata": "AAAAAAAA+H8AAAAAAAD4fwAAAAAAAPh/AAAAAAAA+H8AAAAAAAD4fwAAAAAAAPh/AAAAAAAA+H8AAAAAAAD4fwAAAAAAAPh/AAAAAAAA+H8=",
          "dtype": "f8"
         }
        },
        {
         "mode": "lines+markers",
         "name": "Channay Writing Desk",
         "type": "scatter",
         "visible": false,
         "x": [
          "2025-04-29T15:57:11.000000000",
          "2025-04-29T18:16:41.000000000",
          "2025-04-29T23:38:51.000000000",
          "2025-04-29T19:17:47.000000000",
          "2025-04-29T22:31:50.000000000",
          "2025-04-29T17:18:12.000000000",
          "2025-04-29T18:34:51.000000000",
          "2025-04-29T20:58:47.000000000",
          "2025-04-29T16:20:23.000000000",
          "2025-04-29T15:32:36.000000000"
         ],
         "y": {
          "bdata": "AAAAAAAA+H8AAAAAAAD4fwAAAAAAAPh/AAAAAAAA+H8AAAAAAAD4fwAAAAAAAPh/AAAAAAAA+H8AAAAAAAD4fwAAAAAAAPh/AAAAAAAA+H8=",
          "dtype": "f8"
         }
        },
        {
         "mode": "lines+markers",
         "name": "Luing 59'' Executive Desk with 2 File and Storage Drawers, Computer Writing Desk with Keyboard Tray and 2 Open Compartments for Home Office",
         "type": "scatter",
         "visible": false,
         "x": [
          "2025-04-29T16:00:06.000000000",
          "2025-04-29T18:19:22.000000000",
          "2025-04-29T23:40:44.000000000",
          "2025-04-29T19:21:41.000000000",
          "2025-04-29T22:33:39.000000000",
          "2025-04-29T17:22:38.000000000",
          "2025-04-29T18:36:28.000000000",
          "2025-04-29T21:03:25.000000000",
          "2025-04-29T16:21:42.000000000",
          "2025-04-29T15:36:28.000000000"
         ],
         "y": {
          "bdata": "SOF6FK7/aEBI4XoUrv9oQEjhehSu/2hASOF6FK7/aEBI4XoUrv9oQEjhehSu/2hASOF6FK7/aEBI4XoUrv9oQEjhehSu/2hASOF6FK7/aEA=",
          "dtype": "f8"
         }
        },
        {
         "mode": "lines+markers",
         "name": "55'' L Shaped Executive Computer Desk with File&Storage Drawers,Home Office Writing Desk with Monitor Stand and Open Compartments",
         "type": "scatter",
         "visible": false,
         "x": [
          "2025-04-29T16:01:04.000000000",
          "2025-04-29T18:20:26.000000000",
          "2025-04-29T23:41:39.000000000",
          "2025-04-29T19:22:50.000000000",
          "2025-04-29T22:34:34.000000000",
          "2025-04-29T17:23:23.000000000",
          "2025-04-29T18:37:27.000000000",
          "2025-04-29T21:04:23.000000000",
          "2025-04-29T16:23:00.000000000",
          "2025-04-29T15:41:46.000000000"
         ],
         "y": {
          "bdata": "SOF6FK5fZEBI4XoUrl9kQEjhehSuX2RASOF6FK5fZEBI4XoUrl9kQEjhehSuX2RASOF6FK5fZEBI4XoUrl9kQEjhehSuX2RASOF6FK5fZEA=",
          "dtype": "f8"
         }
        },
        {
         "mode": "lines+markers",
         "name": "Seila Glass Top Height Adjustable Standing Desk, Computer Desk with Drawer, USB Port and Type-C Port",
         "type": "scatter",
         "visible": false,
         "x": [
          "2025-04-29T16:01:33.000000000",
          "2025-04-29T18:20:58.000000000",
          "2025-04-29T23:42:11.000000000",
          "2025-04-29T19:23:24.000000000",
          "2025-04-29T22:35:03.000000000",
          "2025-04-29T17:23:56.000000000",
          "2025-04-29T18:37:47.000000000",
          "2025-04-29T21:04:55.000000000",
          "2025-04-29T16:23:27.000000000",
          "2025-04-29T15:44:46.000000000"
         ],
         "y": {
          "bdata": "pHA9Ctdfc0CkcD0K119zQKRwPQrXX3NApHA9Ctdfc0CkcD0K119zQKRwPQrXX3NApHA9Ctdfc0CkcD0K119zQKRwPQrXX3NApHA9Ctdfc0A=",
          "dtype": "f8"
         }
        },
        {
         "mode": "lines+markers",
         "name": "Kristee Adjustable and Movable Overbed Table with Hidden Casters",
         "type": "scatter",
         "visible": false,
         "x": [
          "2025-04-29T16:01:56.000000000",
          "2025-04-29T18:21:15.000000000",
          "2025-04-29T23:42:35.000000000",
          "2025-04-29T19:24:18.000000000",
          "2025-04-29T22:35:27.000000000",
          "2025-04-29T17:24:35.000000000",
          "2025-04-29T18:38:12.000000000",
          "2025-04-29T21:05:36.000000000",
          "2025-04-29T16:24:24.000000000",
          "2025-04-29T15:45:34.000000000"
         ],
         "y": {
          "bdata": "j8L1KFz/U0CPwvUoXP9TQI/C9Shc/1NAj8L1KFz/U0CPwvUoXP9TQI/C9Shc/1NAj8L1KFz/U0CPwvUoXP9TQI/C9Shc/1NAj8L1KFz/U0A=",
          "dtype": "f8"
         }
        }
       ],
       "layout": {
        "hovermode": "x unified",
        "template": {
         "data": {
          "bar": [
           {
            "error_x": {
             "color": "#2a3f5f"
            },
            "error_y": {
             "color": "#2a3f5f"
            },
            "marker": {
             "line": {
              "color": "#E5ECF6",
              "width": 0.5
             },
             "pattern": {
              "fillmode": "overlay",
              "size": 10,
              "solidity": 0.2
             }
            },
            "type": "bar"
           }
          ],
          "barpolar": [
           {
            "marker": {
             "line": {
              "color": "#E5ECF6",
              "width": 0.5
             },
             "pattern": {
              "fillmode": "overlay",
              "size": 10,
              "solidity": 0.2
             }
            },
            "type": "barpolar"
           }
          ],
          "carpet": [
           {
            "aaxis": {
             "endlinecolor": "#2a3f5f",
             "gridcolor": "white",
             "linecolor": "white",
             "minorgridcolor": "white",
             "startlinecolor": "#2a3f5f"
            },
            "baxis": {
             "endlinecolor": "#2a3f5f",
             "gridcolor": "white",
             "linecolor": "white",
             "minorgridcolor": "white",
             "startlinecolor": "#2a3f5f"
            },
            "type": "carpet"
           }
          ],
          "choropleth": [
           {
            "colorbar": {
             "outlinewidth": 0,
             "ticks": ""
            },
            "type": "choropleth"
           }
          ],
          "contour": [
           {
            "colorbar": {
             "outlinewidth": 0,
             "ticks": ""
            },
            "colorscale": [
             [
              0,
              "#0d0887"
             ],
             [
              0.1111111111111111,
              "#46039f"
             ],
             [
              0.2222222222222222,
              "#7201a8"
             ],
             [
              0.3333333333333333,
              "#9c179e"
             ],
             [
              0.4444444444444444,
              "#bd3786"
             ],
             [
              0.5555555555555556,
              "#d8576b"
             ],
             [
              0.6666666666666666,
              "#ed7953"
             ],
             [
              0.7777777777777778,
              "#fb9f3a"
             ],
             [
              0.8888888888888888,
              "#fdca26"
             ],
             [
              1,
              "#f0f921"
             ]
            ],
            "type": "contour"
           }
          ],
          "contourcarpet": [
           {
            "colorbar": {
             "outlinewidth": 0,
             "ticks": ""
            },
            "type": "contourcarpet"
           }
          ],
          "heatmap": [
           {
            "colorbar": {
             "outlinewidth": 0,
             "ticks": ""
            },
            "colorscale": [
             [
              0,
              "#0d0887"
             ],
             [
              0.1111111111111111,
              "#46039f"
             ],
             [
              0.2222222222222222,
              "#7201a8"
             ],
             [
              0.3333333333333333,
              "#9c179e"
             ],
             [
              0.4444444444444444,
              "#bd3786"
             ],
             [
              0.5555555555555556,
              "#d8576b"
             ],
             [
              0.6666666666666666,
              "#ed7953"
             ],
             [
              0.7777777777777778,
              "#fb9f3a"
             ],
             [
              0.8888888888888888,
              "#fdca26"
             ],
             [
              1,
              "#f0f921"
             ]
            ],
            "type": "heatmap"
           }
          ],
          "histogram": [
           {
            "marker": {
             "pattern": {
              "fillmode": "overlay",
              "size": 10,
              "solidity": 0.2
             }
            },
            "type": "histogram"
           }
          ],
          "histogram2d": [
           {
            "colorbar": {
             "outlinewidth": 0,
             "ticks": ""
            },
            "colorscale": [
             [
              0,
              "#0d0887"
             ],
             [
              0.1111111111111111,
              "#46039f"
             ],
             [
              0.2222222222222222,
              "#7201a8"
             ],
             [
              0.3333333333333333,
              "#9c179e"
             ],
             [
              0.4444444444444444,
              "#bd3786"
             ],
             [
              0.5555555555555556,
              "#d8576b"
             ],
             [
              0.6666666666666666,
              "#ed7953"
             ],
             [
              0.7777777777777778,
              "#fb9f3a"
             ],
             [
              0.8888888888888888,
              "#fdca26"
             ],
             [
              1,
              "#f0f921"
             ]
            ],
            "type": "histogram2d"
           }
          ],
          "histogram2dcontour": [
           {
            "colorbar": {
             "outlinewidth": 0,
             "ticks": ""
            },
            "colorscale": [
             [
              0,
              "#0d0887"
             ],
             [
              0.1111111111111111,
              "#46039f"
             ],
             [
              0.2222222222222222,
              "#7201a8"
             ],
             [
              0.3333333333333333,
              "#9c179e"
             ],
             [
              0.4444444444444444,
              "#bd3786"
             ],
             [
              0.5555555555555556,
              "#d8576b"
             ],
             [
              0.6666666666666666,
              "#ed7953"
             ],
             [
              0.7777777777777778,
              "#fb9f3a"
             ],
             [
              0.8888888888888888,
              "#fdca26"
             ],
             [
              1,
              "#f0f921"
             ]
            ],
            "type": "histogram2dcontour"
           }
          ],
          "mesh3d": [
           {
            "colorbar": {
             "outlinewidth": 0,
             "ticks": ""
            },
            "type": "mesh3d"
           }
          ],
          "parcoords": [
           {
            "line": {
             "colorbar": {
              "outlinewidth": 0,
              "ticks": ""
             }
            },
            "type": "parcoords"
           }
          ],
          "pie": [
           {
            "automargin": true,
            "type": "pie"
           }
          ],
          "scatter": [
           {
            "fillpattern": {
             "fillmode": "overlay",
             "size": 10,
             "solidity": 0.2
            },
            "type": "scatter"
           }
          ],
          "scatter3d": [
           {
            "line": {
             "colorbar": {
              "outlinewidth": 0,
              "ticks": ""
             }
            },
            "marker": {
             "colorbar": {
              "outlinewidth": 0,
              "ticks": ""
             }
            },
            "type": "scatter3d"
           }
          ],
          "scattercarpet": [
           {
            "marker": {
             "colorbar": {
              "outlinewidth": 0,
              "ticks": ""
             }
            },
            "type": "scattercarpet"
           }
          ],
          "scattergeo": [
           {
            "marker": {
             "colorbar": {
              "outlinewidth": 0,
              "ticks": ""
             }
            },
            "type": "scattergeo"
           }
          ],
          "scattergl": [
           {
            "marker": {
             "colorbar": {
              "outlinewidth": 0,
              "ticks": ""
             }
            },
            "type": "scattergl"
           }
          ],
          "scattermap": [
           {
            "marker": {
             "colorbar": {
              "outlinewidth": 0,
              "ticks": ""
             }
            },
            "type": "scattermap"
           }
          ],
          "scattermapbox": [
           {
            "marker": {
             "colorbar": {
              "outlinewidth": 0,
              "ticks": ""
             }
            },
            "type": "scattermapbox"
           }
          ],
          "scatterpolar": [
           {
            "marker": {
             "colorbar": {
              "outlinewidth": 0,
              "ticks": ""
             }
            },
            "type": "scatterpolar"
           }
          ],
          "scatterpolargl": [
           {
            "marker": {
             "colorbar": {
              "outlinewidth": 0,
              "ticks": ""
             }
            },
            "type": "scatterpolargl"
           }
          ],
          "scatterternary": [
           {
            "marker": {
             "colorbar": {
              "outlinewidth": 0,
              "ticks": ""
             }
            },
            "type": "scatterternary"
           }
          ],
          "surface": [
           {
            "colorbar": {
             "outlinewidth": 0,
             "ticks": ""
            },
            "colorscale": [
             [
              0,
              "#0d0887"
             ],
             [
              0.1111111111111111,
              "#46039f"
             ],
             [
              0.2222222222222222,
              "#7201a8"
             ],
             [
              0.3333333333333333,
              "#9c179e"
             ],
             [
              0.4444444444444444,
              "#bd3786"
             ],
             [
              0.5555555555555556,
              "#d8576b"
             ],
             [
              0.6666666666666666,
              "#ed7953"
             ],
             [
              0.7777777777777778,
              "#fb9f3a"
             ],
             [
              0.8888888888888888,
              "#fdca26"
             ],
             [
              1,
              "#f0f921"
             ]
            ],
            "type": "surface"
           }
          ],
          "table": [
           {
            "cells": {
             "fill": {
              "color": "#EBF0F8"
             },
             "line": {
              "color": "white"
             }
            },
            "header": {
             "fill": {
              "color": "#C8D4E3"
             },
             "line": {
              "color": "white"
             }
            },
            "type": "table"
           }
          ]
         },
         "layout": {
          "annotationdefaults": {
           "arrowcolor": "#2a3f5f",
           "arrowhead": 0,
           "arrowwidth": 1
          },
          "autotypenumbers": "strict",
          "coloraxis": {
           "colorbar": {
            "outlinewidth": 0,
            "ticks": ""
           }
          },
          "colorscale": {
           "diverging": [
            [
             0,
             "#8e0152"
            ],
            [
             0.1,
             "#c51b7d"
            ],
            [
             0.2,
             "#de77ae"
            ],
            [
             0.3,
             "#f1b6da"
            ],
            [
             0.4,
             "#fde0ef"
            ],
            [
             0.5,
             "#f7f7f7"
            ],
            [
             0.6,
             "#e6f5d0"
            ],
            [
             0.7,
             "#b8e186"
            ],
            [
             0.8,
             "#7fbc41"
            ],
            [
             0.9,
             "#4d9221"
            ],
            [
             1,
             "#276419"
            ]
           ],
           "sequential": [
            [
             0,
             "#0d0887"
            ],
            [
             0.1111111111111111,
             "#46039f"
            ],
            [
             0.2222222222222222,
             "#7201a8"
            ],
            [
             0.3333333333333333,
             "#9c179e"
            ],
            [
             0.4444444444444444,
             "#bd3786"
            ],
            [
             0.5555555555555556,
             "#d8576b"
            ],
            [
             0.6666666666666666,
             "#ed7953"
            ],
            [
             0.7777777777777778,
             "#fb9f3a"
            ],
            [
             0.8888888888888888,
             "#fdca26"
            ],
            [
             1,
             "#f0f921"
            ]
           ],
           "sequentialminus": [
            [
             0,
             "#0d0887"
            ],
            [
             0.1111111111111111,
             "#46039f"
            ],
            [
             0.2222222222222222,
             "#7201a8"
            ],
            [
             0.3333333333333333,
             "#9c179e"
            ],
            [
             0.4444444444444444,
             "#bd3786"
            ],
            [
             0.5555555555555556,
             "#d8576b"
            ],
            [
             0.6666666666666666,
             "#ed7953"
            ],
            [
             0.7777777777777778,
             "#fb9f3a"
            ],
            [
             0.8888888888888888,
             "#fdca26"
            ],
            [
             1,
             "#f0f921"
            ]
           ]
          },
          "colorway": [
           "#636efa",
           "#EF553B",
           "#00cc96",
           "#ab63fa",
           "#FFA15A",
           "#19d3f3",
           "#FF6692",
           "#B6E880",
           "#FF97FF",
           "#FECB52"
          ],
          "font": {
           "color": "#2a3f5f"
          },
          "geo": {
           "bgcolor": "white",
           "lakecolor": "white",
           "landcolor": "#E5ECF6",
           "showlakes": true,
           "showland": true,
           "subunitcolor": "white"
          },
          "hoverlabel": {
           "align": "left"
          },
          "hovermode": "closest",
          "mapbox": {
           "style": "light"
          },
          "paper_bgcolor": "white",
          "plot_bgcolor": "#E5ECF6",
          "polar": {
           "angularaxis": {
            "gridcolor": "white",
            "linecolor": "white",
            "ticks": ""
           },
           "bgcolor": "#E5ECF6",
           "radialaxis": {
            "gridcolor": "white",
            "linecolor": "white",
            "ticks": ""
           }
          },
          "scene": {
           "xaxis": {
            "backgroundcolor": "#E5ECF6",
            "gridcolor": "white",
            "gridwidth": 2,
            "linecolor": "white",
            "showbackground": true,
            "ticks": "",
            "zerolinecolor": "white"
           },
           "yaxis": {
            "backgroundcolor": "#E5ECF6",
            "gridcolor": "white",
            "gridwidth": 2,
            "linecolor": "white",
            "showbackground": true,
            "ticks": "",
            "zerolinecolor": "white"
           },
           "zaxis": {
            "backgroundcolor": "#E5ECF6",
            "gridcolor": "white",
            "gridwidth": 2,
            "linecolor": "white",
            "showbackground": true,
            "ticks": "",
            "zerolinecolor": "white"
           }
          },
          "shapedefaults": {
           "line": {
            "color": "#2a3f5f"
           }
          },
          "ternary": {
           "aaxis": {
            "gridcolor": "white",
            "linecolor": "white",
            "ticks": ""
           },
           "baxis": {
            "gridcolor": "white",
            "linecolor": "white",
            "ticks": ""
           },
           "bgcolor": "#E5ECF6",
           "caxis": {
            "gridcolor": "white",
            "linecolor": "white",
            "ticks": ""
           }
          },
          "title": {
           "x": 0.05
          },
          "xaxis": {
           "automargin": true,
           "gridcolor": "white",
           "linecolor": "white",
           "ticks": "",
           "title": {
            "standoff": 15
           },
           "zerolinecolor": "white",
           "zerolinewidth": 2
          },
          "yaxis": {
           "automargin": true,
           "gridcolor": "white",
           "linecolor": "white",
           "ticks": "",
           "title": {
            "standoff": 15
           },
           "zerolinecolor": "white",
           "zerolinewidth": 2
          }
         }
        },
        "title": {
         "text": "Price Trend for: 63\" L Shaped Office Executive Standing Desk with File Cabinet"
        },
        "updatemenus": [
         {
          "active": 0,
          "buttons": [
           {
            "args": [
             {
              "visible": [
               true,
               false,
               false,
               false,
               false,
               false,
               false,
               false,
               false
              ]
             },
             {
              "title": "Price Trend for: 63\" L Shaped Office Executive Standing Desk with File Cabinet"
             }
            ],
            "label": "63\" L Shaped Office Executive Standing Desk with File Cabinet",
            "method": "update"
           },
           {
            "args": [
             {
              "visible": [
               false,
               true,
               false,
               false,
               false,
               false,
               false,
               false,
               false
              ]
             },
             {
              "title": "Price Trend for: Dediu Farmhouse Computer Desk With Charging Station, Wood Corner Desk With Monitor Stand & File Drawer"
             }
            ],
            "label": "Dediu Farmhouse Computer Desk With Charging Station, Wood Corner Desk With Monitor Stand & File Drawer",
            "method": "update"
           },
           {
            "args": [
             {
              "visible": [
               false,
               false,
               true,
               false,
               false,
               false,
               false,
               false,
               false
              ]
             },
             {
              "title": "Price Trend for: Koree Standing & Height-Adjustable Desks"
             }
            ],
            "label": "Koree Standing & Height-Adjustable Desks",
            "method": "update"
           },
           {
            "args": [
             {
              "visible": [
               false,
               false,
               false,
               true,
               false,
               false,
               false,
               false,
               false
              ]
             },
             {
              "title": "Price Trend for: Caidence Computer Desk"
             }
            ],
            "label": "Caidence Computer Desk",
            "method": "update"
           },
           {
            "args": [
             {
              "visible": [
               false,
               false,
               false,
               false,
               true,
               false,
               false,
               false,
               false
              ]
             },
             {
              "title": "Price Trend for: Channay Writing Desk"
             }
            ],
            "label": "Channay Writing Desk",
            "method": "update"
           },
           {
            "args": [
             {
              "visible": [
               false,
               false,
               false,
               false,
               false,
               true,
               false,
               false,
               false
              ]
             },
             {
              "title": "Price Trend for: Luing 59'' Executive Desk with 2 File and Storage Drawers, Computer Writing Desk with Keyboard Tray and 2 Open Compartments for Home Office"
             }
            ],
            "label": "Luing 59'' Executive Desk with 2 File and Storage Drawers, Computer Writing Desk with Keyboard Tray and 2 Open Compartments for Home Office",
            "method": "update"
           },
           {
            "args": [
             {
              "visible": [
               false,
               false,
               false,
               false,
               false,
               false,
               true,
               false,
               false
              ]
             },
             {
              "title": "Price Trend for: 55'' L Shaped Executive Computer Desk with File&Storage Drawers,Home Office Writing Desk with Monitor Stand and Open Compartments"
             }
            ],
            "label": "55'' L Shaped Executive Computer Desk with File&Storage Drawers,Home Office Writing Desk with Monitor Stand and Open Compartments",
            "method": "update"
           },
           {
            "args": [
             {
              "visible": [
               false,
               false,
               false,
               false,
               false,
               false,
               false,
               true,
               false
              ]
             },
             {
              "title": "Price Trend for: Seila Glass Top Height Adjustable Standing Desk, Computer Desk with Drawer, USB Port and Type-C Port"
             }
            ],
            "label": "Seila Glass Top Height Adjustable Standing Desk, Computer Desk with Drawer, USB Port and Type-C Port",
            "method": "update"
           },
           {
            "args": [
             {
              "visible": [
               false,
               false,
               false,
               false,
               false,
               false,
               false,
               false,
               true
              ]
             },
             {
              "title": "Price Trend for: Kristee Adjustable and Movable Overbed Table with Hidden Casters"
             }
            ],
            "label": "Kristee Adjustable and Movable Overbed Table with Hidden Casters",
            "method": "update"
           }
          ],
          "x": 0.5,
          "xanchor": "center",
          "y": 1.15,
          "yanchor": "top"
         }
        ],
        "xaxis": {
         "title": {
          "text": "Time"
         }
        },
        "yaxis": {
         "title": {
          "text": "Price ($)"
         }
        }
       }
      }
     },
     "metadata": {},
     "output_type": "display_data"
    }
   ],
   "source": [
    "import plotly.graph_objects as go\n",
    "\n",
    "# Step 1: prepare all traces, one for each product\n",
    "titles = merged_df['title'].dropna().unique()\n",
    "fig = go.Figure()\n",
    "\n",
    "for i, title in enumerate(titles):\n",
    "    product_data = merged_df[merged_df['title'] == title]\n",
    "    fig.add_trace(go.Scatter(\n",
    "        x=product_data['timestamp'],\n",
    "        y=product_data['price'],\n",
    "        mode='lines+markers',\n",
    "        name=title,\n",
    "        visible=(i == 0)  # Only show the first product initially\n",
    "    ))\n",
    "\n",
    "# Step 2: Create dropdown menu\n",
    "dropdown_buttons = [\n",
    "    dict(\n",
    "        method=\"update\",\n",
    "        label=title,\n",
    "        args=[{\"visible\": [t == i for t in range(len(titles))]},\n",
    "              {\"title\": f\"Price Trend for: {title}\"}]\n",
    "    )\n",
    "    for i, title in enumerate(titles)\n",
    "]\n",
    "\n",
    "# Step 3: Update layout with dropdown\n",
    "fig.update_layout(\n",
    "    updatemenus=[dict(\n",
    "        active=0,\n",
    "        buttons=dropdown_buttons,\n",
    "        x=0.5,\n",
    "        xanchor=\"center\",\n",
    "        y=1.15,\n",
    "        yanchor=\"top\"\n",
    "    )],\n",
    "    title=f\"Price Trend for: {titles[0]}\",\n",
    "    xaxis_title=\"Time\",\n",
    "    yaxis_title=\"Price ($)\",\n",
    "    hovermode=\"x unified\"\n",
    ")\n",
    "\n",
    "fig.show()\n"
   ]
  },
  {
   "cell_type": "code",
   "execution_count": 14,
   "id": "b45c3f04",
   "metadata": {},
   "outputs": [
    {
     "data": {
      "application/vnd.plotly.v1+json": {
       "config": {
        "plotlyServerURL": "https://plot.ly"
       },
       "data": [
        {
         "mode": "lines+markers",
         "name": "63\" L Shaped Office Executive Standing Desk with File Cabinet",
         "type": "scatter",
         "visible": true,
         "x": [
          "2025-04-29T15:46:10.000000000",
          "2025-04-29T16:00:31.000000000",
          "2025-04-29T18:09:21.000000000",
          "2025-04-29T18:19:47.000000000",
          "2025-04-29T23:31:42.000000000",
          "2025-04-29T23:41:15.000000000",
          "2025-04-29T19:09:16.000000000",
          "2025-04-29T19:22:08.000000000",
          "2025-04-29T22:24:37.000000000",
          "2025-04-29T22:34:01.000000000",
          "2025-04-29T17:09:09.000000000",
          "2025-04-29T17:22:58.000000000",
          "2025-04-29T18:28:14.000000000",
          "2025-04-29T18:37:00.000000000",
          "2025-04-29T20:48:51.000000000",
          "2025-04-29T21:03:52.000000000",
          "2025-04-29T16:11:06.000000000",
          "2025-04-29T16:22:26.000000000",
          "2025-04-29T15:22:54.000000000",
          "2025-04-29T15:36:52.000000000"
         ],
         "y": {
          "bdata": "9ihcj8J1O0DD9Shcj4JAQB+F61G43j1AAAAAAACAQ0DXo3A9Clc3QIXrUbgeBThApHA9CtfjN0CPwvUoXC9FQGZmZmZmJjdA9ihcj8J1QEDD9Shcj8I3QIXrUbgexThAexSuR+H6PUCamZmZmRk7QI/C9ShcDzhACtejcD2KPkAzMzMzMzNAQI/C9Shc70BAmpmZmZm5Q0AfhetRuGJyQA==",
          "dtype": "f8"
         }
        },
        {
         "mode": "lines+markers",
         "name": "Dediu Farmhouse Computer Desk With Charging Station, Wood Corner Desk With Monitor Stand & File Drawer",
         "type": "scatter",
         "visible": false,
         "x": [
          "2025-04-29T15:46:37.000000000",
          "2025-04-29T18:09:51.000000000",
          "2025-04-29T23:32:06.000000000",
          "2025-04-29T19:09:40.000000000",
          "2025-04-29T22:25:00.000000000",
          "2025-04-29T17:09:33.000000000",
          "2025-04-29T18:28:44.000000000",
          "2025-04-29T20:49:15.000000000",
          "2025-04-29T16:11:39.000000000",
          "2025-04-29T15:23:33.000000000"
         ],
         "y": {
          "bdata": "KVyPwvXoPECPwvUoXM8/QHsUrkfhmkBAZmZmZmbmOUApXI/C9ehBQK5H4XoU7kNASOF6FK4nR0DhehSuR+E+QNejcD0K10BAZmZmZmamPEA=",
          "dtype": "f8"
         }
        },
        {
         "mode": "lines+markers",
         "name": "Koree Standing & Height-Adjustable Desks",
         "type": "scatter",
         "visible": false,
         "x": [
          "2025-04-29T15:47:06.000000000",
          "2025-04-29T18:10:23.000000000",
          "2025-04-29T23:32:39.000000000",
          "2025-04-29T19:10:05.000000000",
          "2025-04-29T22:25:36.000000000",
          "2025-04-29T17:10:13.000000000",
          "2025-04-29T18:29:30.000000000",
          "2025-04-29T20:49:46.000000000",
          "2025-04-29T16:12:12.000000000",
          "2025-04-29T15:24:02.000000000"
         ],
         "y": {
          "bdata": "4XoUrkctckBI4XoUrq9rQD0K16NwNWxA4XoUrkcBbEAUrkfhesxnQDMzMzMz62lApHA9CteDYkBcj8L1KJBxQArXo3A9wmxAj8L1KFyXZ0A=",
          "dtype": "f8"
         }
        },
        {
         "mode": "lines+markers",
         "name": "Caidence Computer Desk",
         "type": "scatter",
         "visible": false,
         "x": [
          "2025-04-29T15:51:57.000000000",
          "2025-04-29T18:14:05.000000000",
          "2025-04-29T23:36:25.000000000",
          "2025-04-29T19:13:49.000000000",
          "2025-04-29T22:28:46.000000000",
          "2025-04-29T17:13:40.000000000",
          "2025-04-29T18:31:58.000000000",
          "2025-04-29T20:54:27.000000000",
          "2025-04-29T16:16:02.000000000",
          "2025-04-29T15:27:11.000000000"
         ],
         "y": {
          "bdata": "w/UoXI+ic0DNzMzMzJRjQD0K16NwVWJAUrgeheu5bUB7FK5H4fpmQFyPwvUo/HBAZmZmZmaGZUDsUbgehUNwQNejcD0KS3BAexSuR+FadEA=",
          "dtype": "f8"
         }
        },
        {
         "mode": "lines+markers",
         "name": "Channay Writing Desk",
         "type": "scatter",
         "visible": false,
         "x": [
          "2025-04-29T15:57:11.000000000",
          "2025-04-29T18:16:41.000000000",
          "2025-04-29T23:38:51.000000000",
          "2025-04-29T19:17:47.000000000",
          "2025-04-29T22:31:50.000000000",
          "2025-04-29T17:18:12.000000000",
          "2025-04-29T18:34:51.000000000",
          "2025-04-29T20:58:47.000000000",
          "2025-04-29T16:20:23.000000000",
          "2025-04-29T15:32:36.000000000"
         ],
         "y": {
          "bdata": "rkfhehTeZUBSuB6F6yFkQHsUrkfhKlxA9ihcj8I9bUBI4XoUrjdbQFK4HoXroXBAZmZmZmZmWECuR+F6FF5xQGZmZmZm1lNAPQrXo3D1bEA=",
          "dtype": "f8"
         }
        },
        {
         "mode": "lines+markers",
         "name": "Luing 59'' Executive Desk with 2 File and Storage Drawers, Computer Writing Desk with Keyboard Tray and 2 Open Compartments for Home Office",
         "type": "scatter",
         "visible": false,
         "x": [
          "2025-04-29T16:00:06.000000000",
          "2025-04-29T18:19:22.000000000",
          "2025-04-29T23:40:44.000000000",
          "2025-04-29T19:21:41.000000000",
          "2025-04-29T22:33:39.000000000",
          "2025-04-29T17:22:38.000000000",
          "2025-04-29T18:36:28.000000000",
          "2025-04-29T21:03:25.000000000",
          "2025-04-29T16:21:42.000000000",
          "2025-04-29T15:36:28.000000000"
         ],
         "y": {
          "bdata": "cT0K16MwOUA9CtejcH04QGZmZmZm5j5ArkfhehRuOkAUrkfhehQ2QGZmZmZmpjNAj8L1KFyPP0D2KFyPwjU7QFK4HoXrsUVApHA9CtfjN0A=",
          "dtype": "f8"
         }
        },
        {
         "mode": "lines+markers",
         "name": "55'' L Shaped Executive Computer Desk with File&Storage Drawers,Home Office Writing Desk with Monitor Stand and Open Compartments",
         "type": "scatter",
         "visible": false,
         "x": [
          "2025-04-29T16:01:04.000000000",
          "2025-04-29T18:20:26.000000000",
          "2025-04-29T23:41:39.000000000",
          "2025-04-29T19:22:50.000000000",
          "2025-04-29T22:34:34.000000000",
          "2025-04-29T17:23:23.000000000",
          "2025-04-29T18:37:27.000000000",
          "2025-04-29T21:04:23.000000000",
          "2025-04-29T16:23:00.000000000",
          "2025-04-29T15:41:46.000000000"
         ],
         "y": {
          "bdata": "UrgehetRPEA9CtejcP0/QArXo3A9KkBAZmZmZmbmQEBI4XoUrsc8QClcj8L1yEBAXI/C9SjcM0AAAAAAAMA/QK5H4XoUbjtA9ihcj8KFZkA=",
          "dtype": "f8"
         }
        },
        {
         "mode": "lines+markers",
         "name": "Seila Glass Top Height Adjustable Standing Desk, Computer Desk with Drawer, USB Port and Type-C Port",
         "type": "scatter",
         "visible": false,
         "x": [
          "2025-04-29T16:01:33.000000000",
          "2025-04-29T18:20:58.000000000",
          "2025-04-29T23:42:11.000000000",
          "2025-04-29T19:23:24.000000000",
          "2025-04-29T22:35:03.000000000",
          "2025-04-29T17:23:56.000000000",
          "2025-04-29T18:37:47.000000000",
          "2025-04-29T21:04:55.000000000",
          "2025-04-29T16:23:27.000000000",
          "2025-04-29T15:44:46.000000000"
         ],
         "y": {
          "bdata": "pHA9CtfjNkAzMzMzMzMxQOF6FK5HYTdAuB6F61EYS0AK16NwPUo4QGZmZmZmRkNAhetRuB5FOUBI4XoUrudEQMP1KFyPQkxAUrgeheuxR0A=",
          "dtype": "f8"
         }
        },
        {
         "mode": "lines+markers",
         "name": "Kristee Adjustable and Movable Overbed Table with Hidden Casters",
         "type": "scatter",
         "visible": false,
         "x": [
          "2025-04-29T16:01:56.000000000",
          "2025-04-29T18:21:15.000000000",
          "2025-04-29T23:42:35.000000000",
          "2025-04-29T19:24:18.000000000",
          "2025-04-29T22:35:27.000000000",
          "2025-04-29T17:24:35.000000000",
          "2025-04-29T18:38:12.000000000",
          "2025-04-29T21:05:36.000000000",
          "2025-04-29T16:24:24.000000000",
          "2025-04-29T15:45:34.000000000"
         ],
         "y": {
          "bdata": "w/UoXI8CQ0BmZmZmZkZAQDMzMzMzcz1ASOF6FK5HP0BSuB6F6zFBQGZmZmZmpj5AH4XrUbjeO0C4HoXrUfg7QKRwPQrXw0VAAAAAAADAPEA=",
          "dtype": "f8"
         }
        }
       ],
       "layout": {
        "hovermode": "x unified",
        "template": {
         "data": {
          "bar": [
           {
            "error_x": {
             "color": "#2a3f5f"
            },
            "error_y": {
             "color": "#2a3f5f"
            },
            "marker": {
             "line": {
              "color": "#E5ECF6",
              "width": 0.5
             },
             "pattern": {
              "fillmode": "overlay",
              "size": 10,
              "solidity": 0.2
             }
            },
            "type": "bar"
           }
          ],
          "barpolar": [
           {
            "marker": {
             "line": {
              "color": "#E5ECF6",
              "width": 0.5
             },
             "pattern": {
              "fillmode": "overlay",
              "size": 10,
              "solidity": 0.2
             }
            },
            "type": "barpolar"
           }
          ],
          "carpet": [
           {
            "aaxis": {
             "endlinecolor": "#2a3f5f",
             "gridcolor": "white",
             "linecolor": "white",
             "minorgridcolor": "white",
             "startlinecolor": "#2a3f5f"
            },
            "baxis": {
             "endlinecolor": "#2a3f5f",
             "gridcolor": "white",
             "linecolor": "white",
             "minorgridcolor": "white",
             "startlinecolor": "#2a3f5f"
            },
            "type": "carpet"
           }
          ],
          "choropleth": [
           {
            "colorbar": {
             "outlinewidth": 0,
             "ticks": ""
            },
            "type": "choropleth"
           }
          ],
          "contour": [
           {
            "colorbar": {
             "outlinewidth": 0,
             "ticks": ""
            },
            "colorscale": [
             [
              0,
              "#0d0887"
             ],
             [
              0.1111111111111111,
              "#46039f"
             ],
             [
              0.2222222222222222,
              "#7201a8"
             ],
             [
              0.3333333333333333,
              "#9c179e"
             ],
             [
              0.4444444444444444,
              "#bd3786"
             ],
             [
              0.5555555555555556,
              "#d8576b"
             ],
             [
              0.6666666666666666,
              "#ed7953"
             ],
             [
              0.7777777777777778,
              "#fb9f3a"
             ],
             [
              0.8888888888888888,
              "#fdca26"
             ],
             [
              1,
              "#f0f921"
             ]
            ],
            "type": "contour"
           }
          ],
          "contourcarpet": [
           {
            "colorbar": {
             "outlinewidth": 0,
             "ticks": ""
            },
            "type": "contourcarpet"
           }
          ],
          "heatmap": [
           {
            "colorbar": {
             "outlinewidth": 0,
             "ticks": ""
            },
            "colorscale": [
             [
              0,
              "#0d0887"
             ],
             [
              0.1111111111111111,
              "#46039f"
             ],
             [
              0.2222222222222222,
              "#7201a8"
             ],
             [
              0.3333333333333333,
              "#9c179e"
             ],
             [
              0.4444444444444444,
              "#bd3786"
             ],
             [
              0.5555555555555556,
              "#d8576b"
             ],
             [
              0.6666666666666666,
              "#ed7953"
             ],
             [
              0.7777777777777778,
              "#fb9f3a"
             ],
             [
              0.8888888888888888,
              "#fdca26"
             ],
             [
              1,
              "#f0f921"
             ]
            ],
            "type": "heatmap"
           }
          ],
          "histogram": [
           {
            "marker": {
             "pattern": {
              "fillmode": "overlay",
              "size": 10,
              "solidity": 0.2
             }
            },
            "type": "histogram"
           }
          ],
          "histogram2d": [
           {
            "colorbar": {
             "outlinewidth": 0,
             "ticks": ""
            },
            "colorscale": [
             [
              0,
              "#0d0887"
             ],
             [
              0.1111111111111111,
              "#46039f"
             ],
             [
              0.2222222222222222,
              "#7201a8"
             ],
             [
              0.3333333333333333,
              "#9c179e"
             ],
             [
              0.4444444444444444,
              "#bd3786"
             ],
             [
              0.5555555555555556,
              "#d8576b"
             ],
             [
              0.6666666666666666,
              "#ed7953"
             ],
             [
              0.7777777777777778,
              "#fb9f3a"
             ],
             [
              0.8888888888888888,
              "#fdca26"
             ],
             [
              1,
              "#f0f921"
             ]
            ],
            "type": "histogram2d"
           }
          ],
          "histogram2dcontour": [
           {
            "colorbar": {
             "outlinewidth": 0,
             "ticks": ""
            },
            "colorscale": [
             [
              0,
              "#0d0887"
             ],
             [
              0.1111111111111111,
              "#46039f"
             ],
             [
              0.2222222222222222,
              "#7201a8"
             ],
             [
              0.3333333333333333,
              "#9c179e"
             ],
             [
              0.4444444444444444,
              "#bd3786"
             ],
             [
              0.5555555555555556,
              "#d8576b"
             ],
             [
              0.6666666666666666,
              "#ed7953"
             ],
             [
              0.7777777777777778,
              "#fb9f3a"
             ],
             [
              0.8888888888888888,
              "#fdca26"
             ],
             [
              1,
              "#f0f921"
             ]
            ],
            "type": "histogram2dcontour"
           }
          ],
          "mesh3d": [
           {
            "colorbar": {
             "outlinewidth": 0,
             "ticks": ""
            },
            "type": "mesh3d"
           }
          ],
          "parcoords": [
           {
            "line": {
             "colorbar": {
              "outlinewidth": 0,
              "ticks": ""
             }
            },
            "type": "parcoords"
           }
          ],
          "pie": [
           {
            "automargin": true,
            "type": "pie"
           }
          ],
          "scatter": [
           {
            "fillpattern": {
             "fillmode": "overlay",
             "size": 10,
             "solidity": 0.2
            },
            "type": "scatter"
           }
          ],
          "scatter3d": [
           {
            "line": {
             "colorbar": {
              "outlinewidth": 0,
              "ticks": ""
             }
            },
            "marker": {
             "colorbar": {
              "outlinewidth": 0,
              "ticks": ""
             }
            },
            "type": "scatter3d"
           }
          ],
          "scattercarpet": [
           {
            "marker": {
             "colorbar": {
              "outlinewidth": 0,
              "ticks": ""
             }
            },
            "type": "scattercarpet"
           }
          ],
          "scattergeo": [
           {
            "marker": {
             "colorbar": {
              "outlinewidth": 0,
              "ticks": ""
             }
            },
            "type": "scattergeo"
           }
          ],
          "scattergl": [
           {
            "marker": {
             "colorbar": {
              "outlinewidth": 0,
              "ticks": ""
             }
            },
            "type": "scattergl"
           }
          ],
          "scattermap": [
           {
            "marker": {
             "colorbar": {
              "outlinewidth": 0,
              "ticks": ""
             }
            },
            "type": "scattermap"
           }
          ],
          "scattermapbox": [
           {
            "marker": {
             "colorbar": {
              "outlinewidth": 0,
              "ticks": ""
             }
            },
            "type": "scattermapbox"
           }
          ],
          "scatterpolar": [
           {
            "marker": {
             "colorbar": {
              "outlinewidth": 0,
              "ticks": ""
             }
            },
            "type": "scatterpolar"
           }
          ],
          "scatterpolargl": [
           {
            "marker": {
             "colorbar": {
              "outlinewidth": 0,
              "ticks": ""
             }
            },
            "type": "scatterpolargl"
           }
          ],
          "scatterternary": [
           {
            "marker": {
             "colorbar": {
              "outlinewidth": 0,
              "ticks": ""
             }
            },
            "type": "scatterternary"
           }
          ],
          "surface": [
           {
            "colorbar": {
             "outlinewidth": 0,
             "ticks": ""
            },
            "colorscale": [
             [
              0,
              "#0d0887"
             ],
             [
              0.1111111111111111,
              "#46039f"
             ],
             [
              0.2222222222222222,
              "#7201a8"
             ],
             [
              0.3333333333333333,
              "#9c179e"
             ],
             [
              0.4444444444444444,
              "#bd3786"
             ],
             [
              0.5555555555555556,
              "#d8576b"
             ],
             [
              0.6666666666666666,
              "#ed7953"
             ],
             [
              0.7777777777777778,
              "#fb9f3a"
             ],
             [
              0.8888888888888888,
              "#fdca26"
             ],
             [
              1,
              "#f0f921"
             ]
            ],
            "type": "surface"
           }
          ],
          "table": [
           {
            "cells": {
             "fill": {
              "color": "#EBF0F8"
             },
             "line": {
              "color": "white"
             }
            },
            "header": {
             "fill": {
              "color": "#C8D4E3"
             },
             "line": {
              "color": "white"
             }
            },
            "type": "table"
           }
          ]
         },
         "layout": {
          "annotationdefaults": {
           "arrowcolor": "#2a3f5f",
           "arrowhead": 0,
           "arrowwidth": 1
          },
          "autotypenumbers": "strict",
          "coloraxis": {
           "colorbar": {
            "outlinewidth": 0,
            "ticks": ""
           }
          },
          "colorscale": {
           "diverging": [
            [
             0,
             "#8e0152"
            ],
            [
             0.1,
             "#c51b7d"
            ],
            [
             0.2,
             "#de77ae"
            ],
            [
             0.3,
             "#f1b6da"
            ],
            [
             0.4,
             "#fde0ef"
            ],
            [
             0.5,
             "#f7f7f7"
            ],
            [
             0.6,
             "#e6f5d0"
            ],
            [
             0.7,
             "#b8e186"
            ],
            [
             0.8,
             "#7fbc41"
            ],
            [
             0.9,
             "#4d9221"
            ],
            [
             1,
             "#276419"
            ]
           ],
           "sequential": [
            [
             0,
             "#0d0887"
            ],
            [
             0.1111111111111111,
             "#46039f"
            ],
            [
             0.2222222222222222,
             "#7201a8"
            ],
            [
             0.3333333333333333,
             "#9c179e"
            ],
            [
             0.4444444444444444,
             "#bd3786"
            ],
            [
             0.5555555555555556,
             "#d8576b"
            ],
            [
             0.6666666666666666,
             "#ed7953"
            ],
            [
             0.7777777777777778,
             "#fb9f3a"
            ],
            [
             0.8888888888888888,
             "#fdca26"
            ],
            [
             1,
             "#f0f921"
            ]
           ],
           "sequentialminus": [
            [
             0,
             "#0d0887"
            ],
            [
             0.1111111111111111,
             "#46039f"
            ],
            [
             0.2222222222222222,
             "#7201a8"
            ],
            [
             0.3333333333333333,
             "#9c179e"
            ],
            [
             0.4444444444444444,
             "#bd3786"
            ],
            [
             0.5555555555555556,
             "#d8576b"
            ],
            [
             0.6666666666666666,
             "#ed7953"
            ],
            [
             0.7777777777777778,
             "#fb9f3a"
            ],
            [
             0.8888888888888888,
             "#fdca26"
            ],
            [
             1,
             "#f0f921"
            ]
           ]
          },
          "colorway": [
           "#636efa",
           "#EF553B",
           "#00cc96",
           "#ab63fa",
           "#FFA15A",
           "#19d3f3",
           "#FF6692",
           "#B6E880",
           "#FF97FF",
           "#FECB52"
          ],
          "font": {
           "color": "#2a3f5f"
          },
          "geo": {
           "bgcolor": "white",
           "lakecolor": "white",
           "landcolor": "#E5ECF6",
           "showlakes": true,
           "showland": true,
           "subunitcolor": "white"
          },
          "hoverlabel": {
           "align": "left"
          },
          "hovermode": "closest",
          "mapbox": {
           "style": "light"
          },
          "paper_bgcolor": "white",
          "plot_bgcolor": "#E5ECF6",
          "polar": {
           "angularaxis": {
            "gridcolor": "white",
            "linecolor": "white",
            "ticks": ""
           },
           "bgcolor": "#E5ECF6",
           "radialaxis": {
            "gridcolor": "white",
            "linecolor": "white",
            "ticks": ""
           }
          },
          "scene": {
           "xaxis": {
            "backgroundcolor": "#E5ECF6",
            "gridcolor": "white",
            "gridwidth": 2,
            "linecolor": "white",
            "showbackground": true,
            "ticks": "",
            "zerolinecolor": "white"
           },
           "yaxis": {
            "backgroundcolor": "#E5ECF6",
            "gridcolor": "white",
            "gridwidth": 2,
            "linecolor": "white",
            "showbackground": true,
            "ticks": "",
            "zerolinecolor": "white"
           },
           "zaxis": {
            "backgroundcolor": "#E5ECF6",
            "gridcolor": "white",
            "gridwidth": 2,
            "linecolor": "white",
            "showbackground": true,
            "ticks": "",
            "zerolinecolor": "white"
           }
          },
          "shapedefaults": {
           "line": {
            "color": "#2a3f5f"
           }
          },
          "ternary": {
           "aaxis": {
            "gridcolor": "white",
            "linecolor": "white",
            "ticks": ""
           },
           "baxis": {
            "gridcolor": "white",
            "linecolor": "white",
            "ticks": ""
           },
           "bgcolor": "#E5ECF6",
           "caxis": {
            "gridcolor": "white",
            "linecolor": "white",
            "ticks": ""
           }
          },
          "title": {
           "x": 0.05
          },
          "xaxis": {
           "automargin": true,
           "gridcolor": "white",
           "linecolor": "white",
           "ticks": "",
           "title": {
            "standoff": 15
           },
           "zerolinecolor": "white",
           "zerolinewidth": 2
          },
          "yaxis": {
           "automargin": true,
           "gridcolor": "white",
           "linecolor": "white",
           "ticks": "",
           "title": {
            "standoff": 15
           },
           "zerolinecolor": "white",
           "zerolinewidth": 2
          }
         }
        },
        "title": {
         "text": "Time Spent Trend for: 63\" L Shaped Office Executive Standing Desk with File Cabinet"
        },
        "updatemenus": [
         {
          "active": 0,
          "buttons": [
           {
            "args": [
             {
              "visible": [
               true,
               false,
               false,
               false,
               false,
               false,
               false,
               false,
               false
              ]
             },
             {
              "title": "Time Spent Trend for: 63\" L Shaped Office Executive Standing Desk with File Cabinet"
             }
            ],
            "label": "63\" L Shaped Office Executive Standing Desk with File Cabinet",
            "method": "update"
           },
           {
            "args": [
             {
              "visible": [
               false,
               true,
               false,
               false,
               false,
               false,
               false,
               false,
               false
              ]
             },
             {
              "title": "Time Spent Trend for: Dediu Farmhouse Computer Desk With Charging Station, Wood Corner Desk With Monitor Stand & File Drawer"
             }
            ],
            "label": "Dediu Farmhouse Computer Desk With Charging Station, Wood Corner Desk With Monitor Stand & File Drawer",
            "method": "update"
           },
           {
            "args": [
             {
              "visible": [
               false,
               false,
               true,
               false,
               false,
               false,
               false,
               false,
               false
              ]
             },
             {
              "title": "Time Spent Trend for: Koree Standing & Height-Adjustable Desks"
             }
            ],
            "label": "Koree Standing & Height-Adjustable Desks",
            "method": "update"
           },
           {
            "args": [
             {
              "visible": [
               false,
               false,
               false,
               true,
               false,
               false,
               false,
               false,
               false
              ]
             },
             {
              "title": "Time Spent Trend for: Caidence Computer Desk"
             }
            ],
            "label": "Caidence Computer Desk",
            "method": "update"
           },
           {
            "args": [
             {
              "visible": [
               false,
               false,
               false,
               false,
               true,
               false,
               false,
               false,
               false
              ]
             },
             {
              "title": "Time Spent Trend for: Channay Writing Desk"
             }
            ],
            "label": "Channay Writing Desk",
            "method": "update"
           },
           {
            "args": [
             {
              "visible": [
               false,
               false,
               false,
               false,
               false,
               true,
               false,
               false,
               false
              ]
             },
             {
              "title": "Time Spent Trend for: Luing 59'' Executive Desk with 2 File and Storage Drawers, Computer Writing Desk with Keyboard Tray and 2 Open Compartments for Home Office"
             }
            ],
            "label": "Luing 59'' Executive Desk with 2 File and Storage Drawers, Computer Writing Desk with Keyboard Tray and 2 Open Compartments for Home Office",
            "method": "update"
           },
           {
            "args": [
             {
              "visible": [
               false,
               false,
               false,
               false,
               false,
               false,
               true,
               false,
               false
              ]
             },
             {
              "title": "Time Spent Trend for: 55'' L Shaped Executive Computer Desk with File&Storage Drawers,Home Office Writing Desk with Monitor Stand and Open Compartments"
             }
            ],
            "label": "55'' L Shaped Executive Computer Desk with File&Storage Drawers,Home Office Writing Desk with Monitor Stand and Open Compartments",
            "method": "update"
           },
           {
            "args": [
             {
              "visible": [
               false,
               false,
               false,
               false,
               false,
               false,
               false,
               true,
               false
              ]
             },
             {
              "title": "Time Spent Trend for: Seila Glass Top Height Adjustable Standing Desk, Computer Desk with Drawer, USB Port and Type-C Port"
             }
            ],
            "label": "Seila Glass Top Height Adjustable Standing Desk, Computer Desk with Drawer, USB Port and Type-C Port",
            "method": "update"
           },
           {
            "args": [
             {
              "visible": [
               false,
               false,
               false,
               false,
               false,
               false,
               false,
               false,
               true
              ]
             },
             {
              "title": "Time Spent Trend for: Kristee Adjustable and Movable Overbed Table with Hidden Casters"
             }
            ],
            "label": "Kristee Adjustable and Movable Overbed Table with Hidden Casters",
            "method": "update"
           }
          ],
          "x": 0.5,
          "xanchor": "center",
          "y": 1.15,
          "yanchor": "top"
         }
        ],
        "xaxis": {
         "title": {
          "text": "Time"
         }
        },
        "yaxis": {
         "title": {
          "text": "Time Spent (Seconds)"
         }
        }
       }
      }
     },
     "metadata": {},
     "output_type": "display_data"
    }
   ],
   "source": [
    "# Step 1: prepare traces for time_spent_sec\n",
    "titles = merged_df['title'].dropna().unique()\n",
    "fig = go.Figure()\n",
    "\n",
    "for i, title in enumerate(titles):\n",
    "    product_data = merged_df[merged_df['title'] == title]\n",
    "    fig.add_trace(go.Scatter(\n",
    "        x=product_data['timestamp'],\n",
    "        y=product_data['time_spent_sec'],\n",
    "        mode='lines+markers',\n",
    "        name=title,\n",
    "        visible=(i == 0)  # Show only the first product by default\n",
    "    ))\n",
    "\n",
    "# Step 2: create dropdown buttons\n",
    "dropdown_buttons = [\n",
    "    dict(\n",
    "        method=\"update\",\n",
    "        label=title,\n",
    "        args=[{\"visible\": [t == i for t in range(len(titles))]},\n",
    "              {\"title\": f\"Time Spent Trend for: {title}\"}]\n",
    "    )\n",
    "    for i, title in enumerate(titles)\n",
    "]\n",
    "\n",
    "# Step 3: apply layout\n",
    "fig.update_layout(\n",
    "    updatemenus=[dict(\n",
    "        active=0,\n",
    "        buttons=dropdown_buttons,\n",
    "        x=0.5,\n",
    "        xanchor=\"center\",\n",
    "        y=1.15,\n",
    "        yanchor=\"top\"\n",
    "    )],\n",
    "    title=f\"Time Spent Trend for: {titles[0]}\",\n",
    "    xaxis_title=\"Time\",\n",
    "    yaxis_title=\"Time Spent (Seconds)\",\n",
    "    hovermode=\"x unified\"\n",
    ")\n",
    "\n",
    "fig.show()\n"
   ]
  },
  {
   "cell_type": "code",
   "execution_count": 15,
   "id": "4487b988",
   "metadata": {},
   "outputs": [
    {
     "data": {
      "text/html": [
       "<div>\n",
       "<style scoped>\n",
       "    .dataframe tbody tr th:only-of-type {\n",
       "        vertical-align: middle;\n",
       "    }\n",
       "\n",
       "    .dataframe tbody tr th {\n",
       "        vertical-align: top;\n",
       "    }\n",
       "\n",
       "    .dataframe thead th {\n",
       "        text-align: right;\n",
       "    }\n",
       "</style>\n",
       "<table border=\"1\" class=\"dataframe\">\n",
       "  <thead>\n",
       "    <tr style=\"text-align: right;\">\n",
       "      <th></th>\n",
       "      <th>timestamp</th>\n",
       "      <th>total</th>\n",
       "      <th>success</th>\n",
       "      <th>failed</th>\n",
       "      <th>success_rate</th>\n",
       "      <th>avg_time_sec</th>\n",
       "    </tr>\n",
       "  </thead>\n",
       "  <tbody>\n",
       "    <tr>\n",
       "      <th>2</th>\n",
       "      <td>2025-04-29 15:46:02</td>\n",
       "      <td>10</td>\n",
       "      <td>7</td>\n",
       "      <td>3</td>\n",
       "      <td>70.0</td>\n",
       "      <td>138.85</td>\n",
       "    </tr>\n",
       "    <tr>\n",
       "      <th>0</th>\n",
       "      <td>2025-04-29 16:02:34</td>\n",
       "      <td>10</td>\n",
       "      <td>7</td>\n",
       "      <td>3</td>\n",
       "      <td>70.0</td>\n",
       "      <td>98.37</td>\n",
       "    </tr>\n",
       "    <tr>\n",
       "      <th>3</th>\n",
       "      <td>2025-04-29 16:25:07</td>\n",
       "      <td>10</td>\n",
       "      <td>7</td>\n",
       "      <td>3</td>\n",
       "      <td>70.0</td>\n",
       "      <td>84.09</td>\n",
       "    </tr>\n",
       "    <tr>\n",
       "      <th>4</th>\n",
       "      <td>2025-04-29 17:25:05</td>\n",
       "      <td>10</td>\n",
       "      <td>7</td>\n",
       "      <td>3</td>\n",
       "      <td>70.0</td>\n",
       "      <td>95.61</td>\n",
       "    </tr>\n",
       "    <tr>\n",
       "      <th>5</th>\n",
       "      <td>2025-04-29 18:21:48</td>\n",
       "      <td>10</td>\n",
       "      <td>7</td>\n",
       "      <td>3</td>\n",
       "      <td>70.0</td>\n",
       "      <td>74.61</td>\n",
       "    </tr>\n",
       "  </tbody>\n",
       "</table>\n",
       "</div>"
      ],
      "text/plain": [
       "            timestamp  total  success  failed  success_rate  avg_time_sec\n",
       "2 2025-04-29 15:46:02     10        7       3          70.0        138.85\n",
       "0 2025-04-29 16:02:34     10        7       3          70.0         98.37\n",
       "3 2025-04-29 16:25:07     10        7       3          70.0         84.09\n",
       "4 2025-04-29 17:25:05     10        7       3          70.0         95.61\n",
       "5 2025-04-29 18:21:48     10        7       3          70.0         74.61"
      ]
     },
     "execution_count": 15,
     "metadata": {},
     "output_type": "execute_result"
    }
   ],
   "source": [
    "import re\n",
    "from datetime import datetime\n",
    "\n",
    "\n",
    "# Read log file\n",
    "with open(\"../dat/wayfair_scrape_log.txt\", \"r\") as f:\n",
    "    raw_log = f.read()\n",
    "\n",
    "# Split by each log run\n",
    "log_blocks = raw_log.strip().split(\"========================================\")\n",
    "\n",
    "records = []\n",
    "\n",
    "for block in log_blocks:\n",
    "    lines = block.strip().split(\"\\n\")\n",
    "    if len(lines) < 2:\n",
    "        continue\n",
    "\n",
    "    timestamp = re.search(r\"\\[(.*?)\\]\", lines[0]).group(1)\n",
    "    timestamp = datetime.strptime(timestamp, \"%Y-%m-%d %H:%M:%S\")\n",
    "\n",
    "    total = int(re.search(r\"Total URLs: (\\d+)\", block).group(1))\n",
    "    success = int(re.search(r\"Successful fetches: (\\d+)\", block).group(1))\n",
    "    failed = int(re.search(r\"Failed fetches: (\\d+)\", block).group(1))\n",
    "    rate = float(re.search(r\"Success rate: ([\\d\\.]+)\", block).group(1))\n",
    "    avg_time = float(re.search(r\"Average time per URL: ([\\d\\.]+)\", block).group(1))\n",
    "\n",
    "    records.append({\n",
    "        \"timestamp\": timestamp,\n",
    "        \"total\": total,\n",
    "        \"success\": success,\n",
    "        \"failed\": failed,\n",
    "        \"success_rate\": rate,\n",
    "        \"avg_time_sec\": avg_time\n",
    "    })\n",
    "\n",
    "log_df = pd.DataFrame(records)\n",
    "log_df = log_df.sort_values(\"timestamp\")  # Optional: sort by time\n",
    "log_df.head()\n"
   ]
  },
  {
   "cell_type": "code",
   "execution_count": 16,
   "id": "858200bd",
   "metadata": {},
   "outputs": [
    {
     "data": {
      "application/vnd.plotly.v1+json": {
       "config": {
        "plotlyServerURL": "https://plot.ly"
       },
       "data": [
        {
         "hovertemplate": "Time=%{x}<br>Avg. Time (sec)=%{y}<extra></extra>",
         "legendgroup": "",
         "line": {
          "color": "#636efa",
          "dash": "solid"
         },
         "marker": {
          "symbol": "circle"
         },
         "mode": "lines+markers",
         "name": "",
         "orientation": "v",
         "showlegend": false,
         "type": "scatter",
         "x": [
          "2025-04-29T15:46:02.000000000",
          "2025-04-29T16:02:34.000000000",
          "2025-04-29T16:25:07.000000000",
          "2025-04-29T17:25:05.000000000",
          "2025-04-29T18:21:48.000000000",
          "2025-04-29T18:38:40.000000000",
          "2025-04-29T19:24:49.000000000",
          "2025-04-29T21:06:04.000000000",
          "2025-04-29T22:36:01.000000000",
          "2025-04-29T23:43:04.000000000",
          "2025-04-30T00:25:13.000000000",
          "2025-04-30T02:28:44.000000000",
          "2025-04-30T03:21:14.000000000",
          "2025-04-30T04:25:00.000000000",
          "2025-04-30T05:23:28.000000000",
          "2025-04-30T06:26:57.000000000",
          "2025-04-30T07:26:33.000000000",
          "2025-04-30T08:28:01.000000000",
          "2025-04-30T09:39:33.000000000",
          "2025-04-30T10:19:32.000000000",
          "2025-04-30T11:21:35.000000000",
          "2025-04-30T12:20:36.000000000",
          "2025-04-30T13:24:13.000000000",
          "2025-04-30T14:29:34.000000000",
          "2025-04-30T15:21:00.000000000"
         ],
         "xaxis": "x",
         "y": {
          "bdata": "MzMzMzNbYUBI4XoUrpdYQPYoXI/CBVVA16NwPQrnV0DXo3A9CqdSQOxRuB6FS09A16NwPQpXV0CF61G4HtVZQM3MzMzMHFFACtejcD0KUUDNzMzMzJxTQOF6FK5HMVVAcT0K16OQUEBI4XoUrodQQFyPwvUovFJArkfhehQuWEAAAAAAANBaQIXrUbgeRU1APQrXo3D9WkDXo3A9CtdLQFyPwvUofE9AhetRuB7lSEDsUbgehftWQArXo3A9mldAZmZmZmZmU0A=",
          "dtype": "f8"
         },
         "yaxis": "y"
        }
       ],
       "layout": {
        "hovermode": "x unified",
        "legend": {
         "tracegroupgap": 0
        },
        "template": {
         "data": {
          "bar": [
           {
            "error_x": {
             "color": "#2a3f5f"
            },
            "error_y": {
             "color": "#2a3f5f"
            },
            "marker": {
             "line": {
              "color": "#E5ECF6",
              "width": 0.5
             },
             "pattern": {
              "fillmode": "overlay",
              "size": 10,
              "solidity": 0.2
             }
            },
            "type": "bar"
           }
          ],
          "barpolar": [
           {
            "marker": {
             "line": {
              "color": "#E5ECF6",
              "width": 0.5
             },
             "pattern": {
              "fillmode": "overlay",
              "size": 10,
              "solidity": 0.2
             }
            },
            "type": "barpolar"
           }
          ],
          "carpet": [
           {
            "aaxis": {
             "endlinecolor": "#2a3f5f",
             "gridcolor": "white",
             "linecolor": "white",
             "minorgridcolor": "white",
             "startlinecolor": "#2a3f5f"
            },
            "baxis": {
             "endlinecolor": "#2a3f5f",
             "gridcolor": "white",
             "linecolor": "white",
             "minorgridcolor": "white",
             "startlinecolor": "#2a3f5f"
            },
            "type": "carpet"
           }
          ],
          "choropleth": [
           {
            "colorbar": {
             "outlinewidth": 0,
             "ticks": ""
            },
            "type": "choropleth"
           }
          ],
          "contour": [
           {
            "colorbar": {
             "outlinewidth": 0,
             "ticks": ""
            },
            "colorscale": [
             [
              0,
              "#0d0887"
             ],
             [
              0.1111111111111111,
              "#46039f"
             ],
             [
              0.2222222222222222,
              "#7201a8"
             ],
             [
              0.3333333333333333,
              "#9c179e"
             ],
             [
              0.4444444444444444,
              "#bd3786"
             ],
             [
              0.5555555555555556,
              "#d8576b"
             ],
             [
              0.6666666666666666,
              "#ed7953"
             ],
             [
              0.7777777777777778,
              "#fb9f3a"
             ],
             [
              0.8888888888888888,
              "#fdca26"
             ],
             [
              1,
              "#f0f921"
             ]
            ],
            "type": "contour"
           }
          ],
          "contourcarpet": [
           {
            "colorbar": {
             "outlinewidth": 0,
             "ticks": ""
            },
            "type": "contourcarpet"
           }
          ],
          "heatmap": [
           {
            "colorbar": {
             "outlinewidth": 0,
             "ticks": ""
            },
            "colorscale": [
             [
              0,
              "#0d0887"
             ],
             [
              0.1111111111111111,
              "#46039f"
             ],
             [
              0.2222222222222222,
              "#7201a8"
             ],
             [
              0.3333333333333333,
              "#9c179e"
             ],
             [
              0.4444444444444444,
              "#bd3786"
             ],
             [
              0.5555555555555556,
              "#d8576b"
             ],
             [
              0.6666666666666666,
              "#ed7953"
             ],
             [
              0.7777777777777778,
              "#fb9f3a"
             ],
             [
              0.8888888888888888,
              "#fdca26"
             ],
             [
              1,
              "#f0f921"
             ]
            ],
            "type": "heatmap"
           }
          ],
          "histogram": [
           {
            "marker": {
             "pattern": {
              "fillmode": "overlay",
              "size": 10,
              "solidity": 0.2
             }
            },
            "type": "histogram"
           }
          ],
          "histogram2d": [
           {
            "colorbar": {
             "outlinewidth": 0,
             "ticks": ""
            },
            "colorscale": [
             [
              0,
              "#0d0887"
             ],
             [
              0.1111111111111111,
              "#46039f"
             ],
             [
              0.2222222222222222,
              "#7201a8"
             ],
             [
              0.3333333333333333,
              "#9c179e"
             ],
             [
              0.4444444444444444,
              "#bd3786"
             ],
             [
              0.5555555555555556,
              "#d8576b"
             ],
             [
              0.6666666666666666,
              "#ed7953"
             ],
             [
              0.7777777777777778,
              "#fb9f3a"
             ],
             [
              0.8888888888888888,
              "#fdca26"
             ],
             [
              1,
              "#f0f921"
             ]
            ],
            "type": "histogram2d"
           }
          ],
          "histogram2dcontour": [
           {
            "colorbar": {
             "outlinewidth": 0,
             "ticks": ""
            },
            "colorscale": [
             [
              0,
              "#0d0887"
             ],
             [
              0.1111111111111111,
              "#46039f"
             ],
             [
              0.2222222222222222,
              "#7201a8"
             ],
             [
              0.3333333333333333,
              "#9c179e"
             ],
             [
              0.4444444444444444,
              "#bd3786"
             ],
             [
              0.5555555555555556,
              "#d8576b"
             ],
             [
              0.6666666666666666,
              "#ed7953"
             ],
             [
              0.7777777777777778,
              "#fb9f3a"
             ],
             [
              0.8888888888888888,
              "#fdca26"
             ],
             [
              1,
              "#f0f921"
             ]
            ],
            "type": "histogram2dcontour"
           }
          ],
          "mesh3d": [
           {
            "colorbar": {
             "outlinewidth": 0,
             "ticks": ""
            },
            "type": "mesh3d"
           }
          ],
          "parcoords": [
           {
            "line": {
             "colorbar": {
              "outlinewidth": 0,
              "ticks": ""
             }
            },
            "type": "parcoords"
           }
          ],
          "pie": [
           {
            "automargin": true,
            "type": "pie"
           }
          ],
          "scatter": [
           {
            "fillpattern": {
             "fillmode": "overlay",
             "size": 10,
             "solidity": 0.2
            },
            "type": "scatter"
           }
          ],
          "scatter3d": [
           {
            "line": {
             "colorbar": {
              "outlinewidth": 0,
              "ticks": ""
             }
            },
            "marker": {
             "colorbar": {
              "outlinewidth": 0,
              "ticks": ""
             }
            },
            "type": "scatter3d"
           }
          ],
          "scattercarpet": [
           {
            "marker": {
             "colorbar": {
              "outlinewidth": 0,
              "ticks": ""
             }
            },
            "type": "scattercarpet"
           }
          ],
          "scattergeo": [
           {
            "marker": {
             "colorbar": {
              "outlinewidth": 0,
              "ticks": ""
             }
            },
            "type": "scattergeo"
           }
          ],
          "scattergl": [
           {
            "marker": {
             "colorbar": {
              "outlinewidth": 0,
              "ticks": ""
             }
            },
            "type": "scattergl"
           }
          ],
          "scattermap": [
           {
            "marker": {
             "colorbar": {
              "outlinewidth": 0,
              "ticks": ""
             }
            },
            "type": "scattermap"
           }
          ],
          "scattermapbox": [
           {
            "marker": {
             "colorbar": {
              "outlinewidth": 0,
              "ticks": ""
             }
            },
            "type": "scattermapbox"
           }
          ],
          "scatterpolar": [
           {
            "marker": {
             "colorbar": {
              "outlinewidth": 0,
              "ticks": ""
             }
            },
            "type": "scatterpolar"
           }
          ],
          "scatterpolargl": [
           {
            "marker": {
             "colorbar": {
              "outlinewidth": 0,
              "ticks": ""
             }
            },
            "type": "scatterpolargl"
           }
          ],
          "scatterternary": [
           {
            "marker": {
             "colorbar": {
              "outlinewidth": 0,
              "ticks": ""
             }
            },
            "type": "scatterternary"
           }
          ],
          "surface": [
           {
            "colorbar": {
             "outlinewidth": 0,
             "ticks": ""
            },
            "colorscale": [
             [
              0,
              "#0d0887"
             ],
             [
              0.1111111111111111,
              "#46039f"
             ],
             [
              0.2222222222222222,
              "#7201a8"
             ],
             [
              0.3333333333333333,
              "#9c179e"
             ],
             [
              0.4444444444444444,
              "#bd3786"
             ],
             [
              0.5555555555555556,
              "#d8576b"
             ],
             [
              0.6666666666666666,
              "#ed7953"
             ],
             [
              0.7777777777777778,
              "#fb9f3a"
             ],
             [
              0.8888888888888888,
              "#fdca26"
             ],
             [
              1,
              "#f0f921"
             ]
            ],
            "type": "surface"
           }
          ],
          "table": [
           {
            "cells": {
             "fill": {
              "color": "#EBF0F8"
             },
             "line": {
              "color": "white"
             }
            },
            "header": {
             "fill": {
              "color": "#C8D4E3"
             },
             "line": {
              "color": "white"
             }
            },
            "type": "table"
           }
          ]
         },
         "layout": {
          "annotationdefaults": {
           "arrowcolor": "#2a3f5f",
           "arrowhead": 0,
           "arrowwidth": 1
          },
          "autotypenumbers": "strict",
          "coloraxis": {
           "colorbar": {
            "outlinewidth": 0,
            "ticks": ""
           }
          },
          "colorscale": {
           "diverging": [
            [
             0,
             "#8e0152"
            ],
            [
             0.1,
             "#c51b7d"
            ],
            [
             0.2,
             "#de77ae"
            ],
            [
             0.3,
             "#f1b6da"
            ],
            [
             0.4,
             "#fde0ef"
            ],
            [
             0.5,
             "#f7f7f7"
            ],
            [
             0.6,
             "#e6f5d0"
            ],
            [
             0.7,
             "#b8e186"
            ],
            [
             0.8,
             "#7fbc41"
            ],
            [
             0.9,
             "#4d9221"
            ],
            [
             1,
             "#276419"
            ]
           ],
           "sequential": [
            [
             0,
             "#0d0887"
            ],
            [
             0.1111111111111111,
             "#46039f"
            ],
            [
             0.2222222222222222,
             "#7201a8"
            ],
            [
             0.3333333333333333,
             "#9c179e"
            ],
            [
             0.4444444444444444,
             "#bd3786"
            ],
            [
             0.5555555555555556,
             "#d8576b"
            ],
            [
             0.6666666666666666,
             "#ed7953"
            ],
            [
             0.7777777777777778,
             "#fb9f3a"
            ],
            [
             0.8888888888888888,
             "#fdca26"
            ],
            [
             1,
             "#f0f921"
            ]
           ],
           "sequentialminus": [
            [
             0,
             "#0d0887"
            ],
            [
             0.1111111111111111,
             "#46039f"
            ],
            [
             0.2222222222222222,
             "#7201a8"
            ],
            [
             0.3333333333333333,
             "#9c179e"
            ],
            [
             0.4444444444444444,
             "#bd3786"
            ],
            [
             0.5555555555555556,
             "#d8576b"
            ],
            [
             0.6666666666666666,
             "#ed7953"
            ],
            [
             0.7777777777777778,
             "#fb9f3a"
            ],
            [
             0.8888888888888888,
             "#fdca26"
            ],
            [
             1,
             "#f0f921"
            ]
           ]
          },
          "colorway": [
           "#636efa",
           "#EF553B",
           "#00cc96",
           "#ab63fa",
           "#FFA15A",
           "#19d3f3",
           "#FF6692",
           "#B6E880",
           "#FF97FF",
           "#FECB52"
          ],
          "font": {
           "color": "#2a3f5f"
          },
          "geo": {
           "bgcolor": "white",
           "lakecolor": "white",
           "landcolor": "#E5ECF6",
           "showlakes": true,
           "showland": true,
           "subunitcolor": "white"
          },
          "hoverlabel": {
           "align": "left"
          },
          "hovermode": "closest",
          "mapbox": {
           "style": "light"
          },
          "paper_bgcolor": "white",
          "plot_bgcolor": "#E5ECF6",
          "polar": {
           "angularaxis": {
            "gridcolor": "white",
            "linecolor": "white",
            "ticks": ""
           },
           "bgcolor": "#E5ECF6",
           "radialaxis": {
            "gridcolor": "white",
            "linecolor": "white",
            "ticks": ""
           }
          },
          "scene": {
           "xaxis": {
            "backgroundcolor": "#E5ECF6",
            "gridcolor": "white",
            "gridwidth": 2,
            "linecolor": "white",
            "showbackground": true,
            "ticks": "",
            "zerolinecolor": "white"
           },
           "yaxis": {
            "backgroundcolor": "#E5ECF6",
            "gridcolor": "white",
            "gridwidth": 2,
            "linecolor": "white",
            "showbackground": true,
            "ticks": "",
            "zerolinecolor": "white"
           },
           "zaxis": {
            "backgroundcolor": "#E5ECF6",
            "gridcolor": "white",
            "gridwidth": 2,
            "linecolor": "white",
            "showbackground": true,
            "ticks": "",
            "zerolinecolor": "white"
           }
          },
          "shapedefaults": {
           "line": {
            "color": "#2a3f5f"
           }
          },
          "ternary": {
           "aaxis": {
            "gridcolor": "white",
            "linecolor": "white",
            "ticks": ""
           },
           "baxis": {
            "gridcolor": "white",
            "linecolor": "white",
            "ticks": ""
           },
           "bgcolor": "#E5ECF6",
           "caxis": {
            "gridcolor": "white",
            "linecolor": "white",
            "ticks": ""
           }
          },
          "title": {
           "x": 0.05
          },
          "xaxis": {
           "automargin": true,
           "gridcolor": "white",
           "linecolor": "white",
           "ticks": "",
           "title": {
            "standoff": 15
           },
           "zerolinecolor": "white",
           "zerolinewidth": 2
          },
          "yaxis": {
           "automargin": true,
           "gridcolor": "white",
           "linecolor": "white",
           "ticks": "",
           "title": {
            "standoff": 15
           },
           "zerolinecolor": "white",
           "zerolinewidth": 2
          }
         }
        },
        "title": {
         "text": "Average Time per URL (by Run)"
        },
        "xaxis": {
         "anchor": "y",
         "domain": [
          0,
          1
         ],
         "title": {
          "text": "Time"
         }
        },
        "yaxis": {
         "anchor": "x",
         "domain": [
          0,
          1
         ],
         "title": {
          "text": "Avg. Time (sec)"
         }
        }
       }
      }
     },
     "metadata": {},
     "output_type": "display_data"
    }
   ],
   "source": [
    "fig = px.line(\n",
    "    log_df,\n",
    "    x=\"timestamp\",\n",
    "    y=\"avg_time_sec\",\n",
    "    markers=True,\n",
    "    title=\"Average Time per URL (by Run)\",\n",
    "    labels={\"timestamp\": \"Time\", \"avg_time_sec\": \"Avg. Time (sec)\"}\n",
    ")\n",
    "fig.update_layout(hovermode=\"x unified\")\n",
    "fig.show()\n"
   ]
  },
  {
   "cell_type": "code",
   "execution_count": 17,
   "id": "902717eb",
   "metadata": {},
   "outputs": [
    {
     "data": {
      "application/vnd.plotly.v1+json": {
       "config": {
        "plotlyServerURL": "https://plot.ly"
       },
       "data": [
        {
         "hovertemplate": "Time=%{x}<br>Success Rate (%)=%{y}<extra></extra>",
         "legendgroup": "",
         "line": {
          "color": "#636efa",
          "dash": "solid"
         },
         "marker": {
          "symbol": "circle"
         },
         "mode": "lines+markers",
         "name": "",
         "orientation": "v",
         "showlegend": false,
         "type": "scatter",
         "x": [
          "2025-04-29T15:46:02.000000000",
          "2025-04-29T16:02:34.000000000",
          "2025-04-29T16:25:07.000000000",
          "2025-04-29T17:25:05.000000000",
          "2025-04-29T18:21:48.000000000",
          "2025-04-29T18:38:40.000000000",
          "2025-04-29T19:24:49.000000000",
          "2025-04-29T21:06:04.000000000",
          "2025-04-29T22:36:01.000000000",
          "2025-04-29T23:43:04.000000000",
          "2025-04-30T00:25:13.000000000",
          "2025-04-30T02:28:44.000000000",
          "2025-04-30T03:21:14.000000000",
          "2025-04-30T04:25:00.000000000",
          "2025-04-30T05:23:28.000000000",
          "2025-04-30T06:26:57.000000000",
          "2025-04-30T07:26:33.000000000",
          "2025-04-30T08:28:01.000000000",
          "2025-04-30T09:39:33.000000000",
          "2025-04-30T10:19:32.000000000",
          "2025-04-30T11:21:35.000000000",
          "2025-04-30T12:20:36.000000000",
          "2025-04-30T13:24:13.000000000",
          "2025-04-30T14:29:34.000000000",
          "2025-04-30T15:21:00.000000000"
         ],
         "xaxis": "x",
         "y": {
          "bdata": "AAAAAACAUUAAAAAAAIBRQAAAAAAAgFFAAAAAAACAUUAAAAAAAIBRQAAAAAAAgFFAAAAAAACAUUAAAAAAAIBRQAAAAAAAgFFAAAAAAACAUUAAAAAAAIBRQAAAAAAAgFFAAAAAAACAUUAAAAAAAIBRQAAAAAAAgFFAAAAAAACAUUAAAAAAAIBRQAAAAAAAgFFAAAAAAACAUUAAAAAAAIBRQAAAAAAAgFFAAAAAAACAUUAAAAAAAIBRQAAAAAAAgFFAAAAAAACAUUA=",
          "dtype": "f8"
         },
         "yaxis": "y"
        }
       ],
       "layout": {
        "hovermode": "x unified",
        "legend": {
         "tracegroupgap": 0
        },
        "template": {
         "data": {
          "bar": [
           {
            "error_x": {
             "color": "#2a3f5f"
            },
            "error_y": {
             "color": "#2a3f5f"
            },
            "marker": {
             "line": {
              "color": "#E5ECF6",
              "width": 0.5
             },
             "pattern": {
              "fillmode": "overlay",
              "size": 10,
              "solidity": 0.2
             }
            },
            "type": "bar"
           }
          ],
          "barpolar": [
           {
            "marker": {
             "line": {
              "color": "#E5ECF6",
              "width": 0.5
             },
             "pattern": {
              "fillmode": "overlay",
              "size": 10,
              "solidity": 0.2
             }
            },
            "type": "barpolar"
           }
          ],
          "carpet": [
           {
            "aaxis": {
             "endlinecolor": "#2a3f5f",
             "gridcolor": "white",
             "linecolor": "white",
             "minorgridcolor": "white",
             "startlinecolor": "#2a3f5f"
            },
            "baxis": {
             "endlinecolor": "#2a3f5f",
             "gridcolor": "white",
             "linecolor": "white",
             "minorgridcolor": "white",
             "startlinecolor": "#2a3f5f"
            },
            "type": "carpet"
           }
          ],
          "choropleth": [
           {
            "colorbar": {
             "outlinewidth": 0,
             "ticks": ""
            },
            "type": "choropleth"
           }
          ],
          "contour": [
           {
            "colorbar": {
             "outlinewidth": 0,
             "ticks": ""
            },
            "colorscale": [
             [
              0,
              "#0d0887"
             ],
             [
              0.1111111111111111,
              "#46039f"
             ],
             [
              0.2222222222222222,
              "#7201a8"
             ],
             [
              0.3333333333333333,
              "#9c179e"
             ],
             [
              0.4444444444444444,
              "#bd3786"
             ],
             [
              0.5555555555555556,
              "#d8576b"
             ],
             [
              0.6666666666666666,
              "#ed7953"
             ],
             [
              0.7777777777777778,
              "#fb9f3a"
             ],
             [
              0.8888888888888888,
              "#fdca26"
             ],
             [
              1,
              "#f0f921"
             ]
            ],
            "type": "contour"
           }
          ],
          "contourcarpet": [
           {
            "colorbar": {
             "outlinewidth": 0,
             "ticks": ""
            },
            "type": "contourcarpet"
           }
          ],
          "heatmap": [
           {
            "colorbar": {
             "outlinewidth": 0,
             "ticks": ""
            },
            "colorscale": [
             [
              0,
              "#0d0887"
             ],
             [
              0.1111111111111111,
              "#46039f"
             ],
             [
              0.2222222222222222,
              "#7201a8"
             ],
             [
              0.3333333333333333,
              "#9c179e"
             ],
             [
              0.4444444444444444,
              "#bd3786"
             ],
             [
              0.5555555555555556,
              "#d8576b"
             ],
             [
              0.6666666666666666,
              "#ed7953"
             ],
             [
              0.7777777777777778,
              "#fb9f3a"
             ],
             [
              0.8888888888888888,
              "#fdca26"
             ],
             [
              1,
              "#f0f921"
             ]
            ],
            "type": "heatmap"
           }
          ],
          "histogram": [
           {
            "marker": {
             "pattern": {
              "fillmode": "overlay",
              "size": 10,
              "solidity": 0.2
             }
            },
            "type": "histogram"
           }
          ],
          "histogram2d": [
           {
            "colorbar": {
             "outlinewidth": 0,
             "ticks": ""
            },
            "colorscale": [
             [
              0,
              "#0d0887"
             ],
             [
              0.1111111111111111,
              "#46039f"
             ],
             [
              0.2222222222222222,
              "#7201a8"
             ],
             [
              0.3333333333333333,
              "#9c179e"
             ],
             [
              0.4444444444444444,
              "#bd3786"
             ],
             [
              0.5555555555555556,
              "#d8576b"
             ],
             [
              0.6666666666666666,
              "#ed7953"
             ],
             [
              0.7777777777777778,
              "#fb9f3a"
             ],
             [
              0.8888888888888888,
              "#fdca26"
             ],
             [
              1,
              "#f0f921"
             ]
            ],
            "type": "histogram2d"
           }
          ],
          "histogram2dcontour": [
           {
            "colorbar": {
             "outlinewidth": 0,
             "ticks": ""
            },
            "colorscale": [
             [
              0,
              "#0d0887"
             ],
             [
              0.1111111111111111,
              "#46039f"
             ],
             [
              0.2222222222222222,
              "#7201a8"
             ],
             [
              0.3333333333333333,
              "#9c179e"
             ],
             [
              0.4444444444444444,
              "#bd3786"
             ],
             [
              0.5555555555555556,
              "#d8576b"
             ],
             [
              0.6666666666666666,
              "#ed7953"
             ],
             [
              0.7777777777777778,
              "#fb9f3a"
             ],
             [
              0.8888888888888888,
              "#fdca26"
             ],
             [
              1,
              "#f0f921"
             ]
            ],
            "type": "histogram2dcontour"
           }
          ],
          "mesh3d": [
           {
            "colorbar": {
             "outlinewidth": 0,
             "ticks": ""
            },
            "type": "mesh3d"
           }
          ],
          "parcoords": [
           {
            "line": {
             "colorbar": {
              "outlinewidth": 0,
              "ticks": ""
             }
            },
            "type": "parcoords"
           }
          ],
          "pie": [
           {
            "automargin": true,
            "type": "pie"
           }
          ],
          "scatter": [
           {
            "fillpattern": {
             "fillmode": "overlay",
             "size": 10,
             "solidity": 0.2
            },
            "type": "scatter"
           }
          ],
          "scatter3d": [
           {
            "line": {
             "colorbar": {
              "outlinewidth": 0,
              "ticks": ""
             }
            },
            "marker": {
             "colorbar": {
              "outlinewidth": 0,
              "ticks": ""
             }
            },
            "type": "scatter3d"
           }
          ],
          "scattercarpet": [
           {
            "marker": {
             "colorbar": {
              "outlinewidth": 0,
              "ticks": ""
             }
            },
            "type": "scattercarpet"
           }
          ],
          "scattergeo": [
           {
            "marker": {
             "colorbar": {
              "outlinewidth": 0,
              "ticks": ""
             }
            },
            "type": "scattergeo"
           }
          ],
          "scattergl": [
           {
            "marker": {
             "colorbar": {
              "outlinewidth": 0,
              "ticks": ""
             }
            },
            "type": "scattergl"
           }
          ],
          "scattermap": [
           {
            "marker": {
             "colorbar": {
              "outlinewidth": 0,
              "ticks": ""
             }
            },
            "type": "scattermap"
           }
          ],
          "scattermapbox": [
           {
            "marker": {
             "colorbar": {
              "outlinewidth": 0,
              "ticks": ""
             }
            },
            "type": "scattermapbox"
           }
          ],
          "scatterpolar": [
           {
            "marker": {
             "colorbar": {
              "outlinewidth": 0,
              "ticks": ""
             }
            },
            "type": "scatterpolar"
           }
          ],
          "scatterpolargl": [
           {
            "marker": {
             "colorbar": {
              "outlinewidth": 0,
              "ticks": ""
             }
            },
            "type": "scatterpolargl"
           }
          ],
          "scatterternary": [
           {
            "marker": {
             "colorbar": {
              "outlinewidth": 0,
              "ticks": ""
             }
            },
            "type": "scatterternary"
           }
          ],
          "surface": [
           {
            "colorbar": {
             "outlinewidth": 0,
             "ticks": ""
            },
            "colorscale": [
             [
              0,
              "#0d0887"
             ],
             [
              0.1111111111111111,
              "#46039f"
             ],
             [
              0.2222222222222222,
              "#7201a8"
             ],
             [
              0.3333333333333333,
              "#9c179e"
             ],
             [
              0.4444444444444444,
              "#bd3786"
             ],
             [
              0.5555555555555556,
              "#d8576b"
             ],
             [
              0.6666666666666666,
              "#ed7953"
             ],
             [
              0.7777777777777778,
              "#fb9f3a"
             ],
             [
              0.8888888888888888,
              "#fdca26"
             ],
             [
              1,
              "#f0f921"
             ]
            ],
            "type": "surface"
           }
          ],
          "table": [
           {
            "cells": {
             "fill": {
              "color": "#EBF0F8"
             },
             "line": {
              "color": "white"
             }
            },
            "header": {
             "fill": {
              "color": "#C8D4E3"
             },
             "line": {
              "color": "white"
             }
            },
            "type": "table"
           }
          ]
         },
         "layout": {
          "annotationdefaults": {
           "arrowcolor": "#2a3f5f",
           "arrowhead": 0,
           "arrowwidth": 1
          },
          "autotypenumbers": "strict",
          "coloraxis": {
           "colorbar": {
            "outlinewidth": 0,
            "ticks": ""
           }
          },
          "colorscale": {
           "diverging": [
            [
             0,
             "#8e0152"
            ],
            [
             0.1,
             "#c51b7d"
            ],
            [
             0.2,
             "#de77ae"
            ],
            [
             0.3,
             "#f1b6da"
            ],
            [
             0.4,
             "#fde0ef"
            ],
            [
             0.5,
             "#f7f7f7"
            ],
            [
             0.6,
             "#e6f5d0"
            ],
            [
             0.7,
             "#b8e186"
            ],
            [
             0.8,
             "#7fbc41"
            ],
            [
             0.9,
             "#4d9221"
            ],
            [
             1,
             "#276419"
            ]
           ],
           "sequential": [
            [
             0,
             "#0d0887"
            ],
            [
             0.1111111111111111,
             "#46039f"
            ],
            [
             0.2222222222222222,
             "#7201a8"
            ],
            [
             0.3333333333333333,
             "#9c179e"
            ],
            [
             0.4444444444444444,
             "#bd3786"
            ],
            [
             0.5555555555555556,
             "#d8576b"
            ],
            [
             0.6666666666666666,
             "#ed7953"
            ],
            [
             0.7777777777777778,
             "#fb9f3a"
            ],
            [
             0.8888888888888888,
             "#fdca26"
            ],
            [
             1,
             "#f0f921"
            ]
           ],
           "sequentialminus": [
            [
             0,
             "#0d0887"
            ],
            [
             0.1111111111111111,
             "#46039f"
            ],
            [
             0.2222222222222222,
             "#7201a8"
            ],
            [
             0.3333333333333333,
             "#9c179e"
            ],
            [
             0.4444444444444444,
             "#bd3786"
            ],
            [
             0.5555555555555556,
             "#d8576b"
            ],
            [
             0.6666666666666666,
             "#ed7953"
            ],
            [
             0.7777777777777778,
             "#fb9f3a"
            ],
            [
             0.8888888888888888,
             "#fdca26"
            ],
            [
             1,
             "#f0f921"
            ]
           ]
          },
          "colorway": [
           "#636efa",
           "#EF553B",
           "#00cc96",
           "#ab63fa",
           "#FFA15A",
           "#19d3f3",
           "#FF6692",
           "#B6E880",
           "#FF97FF",
           "#FECB52"
          ],
          "font": {
           "color": "#2a3f5f"
          },
          "geo": {
           "bgcolor": "white",
           "lakecolor": "white",
           "landcolor": "#E5ECF6",
           "showlakes": true,
           "showland": true,
           "subunitcolor": "white"
          },
          "hoverlabel": {
           "align": "left"
          },
          "hovermode": "closest",
          "mapbox": {
           "style": "light"
          },
          "paper_bgcolor": "white",
          "plot_bgcolor": "#E5ECF6",
          "polar": {
           "angularaxis": {
            "gridcolor": "white",
            "linecolor": "white",
            "ticks": ""
           },
           "bgcolor": "#E5ECF6",
           "radialaxis": {
            "gridcolor": "white",
            "linecolor": "white",
            "ticks": ""
           }
          },
          "scene": {
           "xaxis": {
            "backgroundcolor": "#E5ECF6",
            "gridcolor": "white",
            "gridwidth": 2,
            "linecolor": "white",
            "showbackground": true,
            "ticks": "",
            "zerolinecolor": "white"
           },
           "yaxis": {
            "backgroundcolor": "#E5ECF6",
            "gridcolor": "white",
            "gridwidth": 2,
            "linecolor": "white",
            "showbackground": true,
            "ticks": "",
            "zerolinecolor": "white"
           },
           "zaxis": {
            "backgroundcolor": "#E5ECF6",
            "gridcolor": "white",
            "gridwidth": 2,
            "linecolor": "white",
            "showbackground": true,
            "ticks": "",
            "zerolinecolor": "white"
           }
          },
          "shapedefaults": {
           "line": {
            "color": "#2a3f5f"
           }
          },
          "ternary": {
           "aaxis": {
            "gridcolor": "white",
            "linecolor": "white",
            "ticks": ""
           },
           "baxis": {
            "gridcolor": "white",
            "linecolor": "white",
            "ticks": ""
           },
           "bgcolor": "#E5ECF6",
           "caxis": {
            "gridcolor": "white",
            "linecolor": "white",
            "ticks": ""
           }
          },
          "title": {
           "x": 0.05
          },
          "xaxis": {
           "automargin": true,
           "gridcolor": "white",
           "linecolor": "white",
           "ticks": "",
           "title": {
            "standoff": 15
           },
           "zerolinecolor": "white",
           "zerolinewidth": 2
          },
          "yaxis": {
           "automargin": true,
           "gridcolor": "white",
           "linecolor": "white",
           "ticks": "",
           "title": {
            "standoff": 15
           },
           "zerolinecolor": "white",
           "zerolinewidth": 2
          }
         }
        },
        "title": {
         "text": "Success Rate Over Time"
        },
        "xaxis": {
         "anchor": "y",
         "domain": [
          0,
          1
         ],
         "title": {
          "text": "Time"
         }
        },
        "yaxis": {
         "anchor": "x",
         "domain": [
          0,
          1
         ],
         "range": [
          0,
          100
         ],
         "title": {
          "text": "Success Rate (%)"
         }
        }
       }
      }
     },
     "metadata": {},
     "output_type": "display_data"
    }
   ],
   "source": [
    "fig = px.line(\n",
    "    log_df,\n",
    "    x=\"timestamp\",\n",
    "    y=\"success_rate\",\n",
    "    markers=True,\n",
    "    title=\"Success Rate Over Time\",\n",
    "    labels={\"timestamp\": \"Time\", \"success_rate\": \"Success Rate (%)\"}\n",
    ")\n",
    "fig.update_layout(hovermode=\"x unified\", yaxis_range=[0, 100])\n",
    "fig.show()\n"
   ]
  }
 ],
 "metadata": {
  "kernelspec": {
   "display_name": "Python 3",
   "language": "python",
   "name": "python3"
  },
  "language_info": {
   "codemirror_mode": {
    "name": "ipython",
    "version": 3
   },
   "file_extension": ".py",
   "mimetype": "text/x-python",
   "name": "python",
   "nbconvert_exporter": "python",
   "pygments_lexer": "ipython3",
   "version": "3.12.8"
  }
 },
 "nbformat": 4,
 "nbformat_minor": 5
}
