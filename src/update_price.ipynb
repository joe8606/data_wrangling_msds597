{
 "cells": [
  {
   "cell_type": "code",
   "execution_count": 5,
   "id": "c893b118",
   "metadata": {},
   "outputs": [
    {
     "name": "stdout",
     "output_type": "stream",
     "text": [
      "401\n"
     ]
    },
    {
     "ename": "KeyError",
     "evalue": "'results'",
     "output_type": "error",
     "traceback": [
      "\u001b[1;31m---------------------------------------------------------------------------\u001b[0m",
      "\u001b[1;31mKeyError\u001b[0m                                  Traceback (most recent call last)",
      "Cell \u001b[1;32mIn[5], line 35\u001b[0m\n\u001b[0;32m     27\u001b[0m response \u001b[38;5;241m=\u001b[39m requests\u001b[38;5;241m.\u001b[39mpost(\n\u001b[0;32m     28\u001b[0m     \u001b[38;5;124m\"\u001b[39m\u001b[38;5;124mhttps://realtime.oxylabs.io/v1/queries\u001b[39m\u001b[38;5;124m\"\u001b[39m,\n\u001b[0;32m     29\u001b[0m     auth\u001b[38;5;241m=\u001b[39m(username, password),\n\u001b[0;32m     30\u001b[0m     json\u001b[38;5;241m=\u001b[39mpayload,\n\u001b[0;32m     31\u001b[0m     timeout\u001b[38;5;241m=\u001b[39m\u001b[38;5;241m180\u001b[39m\n\u001b[0;32m     32\u001b[0m )\n\u001b[0;32m     33\u001b[0m \u001b[38;5;28mprint\u001b[39m(response\u001b[38;5;241m.\u001b[39mstatus_code)\n\u001b[1;32m---> 35\u001b[0m content \u001b[38;5;241m=\u001b[39m \u001b[43mresponse\u001b[49m\u001b[38;5;241;43m.\u001b[39;49m\u001b[43mjson\u001b[49m\u001b[43m(\u001b[49m\u001b[43m)\u001b[49m\u001b[43m[\u001b[49m\u001b[38;5;124;43m\"\u001b[39;49m\u001b[38;5;124;43mresults\u001b[39;49m\u001b[38;5;124;43m\"\u001b[39;49m\u001b[43m]\u001b[49m[\u001b[38;5;241m0\u001b[39m][\u001b[38;5;124m\"\u001b[39m\u001b[38;5;124mcontent\u001b[39m\u001b[38;5;124m\"\u001b[39m]\n\u001b[0;32m     36\u001b[0m soup \u001b[38;5;241m=\u001b[39m BeautifulSoup(content, \u001b[38;5;124m\"\u001b[39m\u001b[38;5;124mhtml.parser\u001b[39m\u001b[38;5;124m\"\u001b[39m)\n\u001b[0;32m     38\u001b[0m title \u001b[38;5;241m=\u001b[39m soup\u001b[38;5;241m.\u001b[39mfind(\u001b[38;5;124m\"\u001b[39m\u001b[38;5;124mh1\u001b[39m\u001b[38;5;124m\"\u001b[39m, {\u001b[38;5;124m\"\u001b[39m\u001b[38;5;124mdata-hb-id\u001b[39m\u001b[38;5;124m\"\u001b[39m: \u001b[38;5;124m\"\u001b[39m\u001b[38;5;124mHeading\u001b[39m\u001b[38;5;124m\"\u001b[39m})\u001b[38;5;241m.\u001b[39mtext\n",
      "\u001b[1;31mKeyError\u001b[0m: 'results'"
     ]
    }
   ],
   "source": [
    "import requests\n",
    "from bs4 import BeautifulSoup\n",
    "import pandas as pd\n",
    "\n",
    "product_url = \"https://www.wayfair.com/furniture/pdp/hokku-designs-63-l-shaped-office-executive-standing-desk-with-file-cabinet-w112715089.html?piid=1702143331&auctionId=9bdbad2e-226f-4574-890f-49c7ace6183d&adTypeId=1\"\n",
    "payload = {\n",
    "    \"source\": \"universal\",\n",
    "    \"url\": product_url,\n",
    "    \"user_agent_type\": \"desktop_safari\",\n",
    "    \"geo_location\": \"United States\",\n",
    "    \"render\": \"html\",\n",
    "    \"browser_instructions\": [\n",
    "        {\n",
    "            \"type\": \"wait_for_element\",\n",
    "            \"selector\": {\n",
    "                \"type\": \"css\",\n",
    "                \"value\": \"div.SFPrice span.oakhm64z_6112\"\n",
    "            },\n",
    "            \"timeout_s\": 10\n",
    "        }\n",
    "    ]\n",
    "}\n",
    "\n",
    "username = \"joe528491_EoLxB\"\n",
    "password = \"Adej24972497_02\"\n",
    "\n",
    "response = requests.post(\n",
    "    \"https://realtime.oxylabs.io/v1/queries\",\n",
    "    auth=(username, password),\n",
    "    json=payload,\n",
    "    timeout=180\n",
    ")\n",
    "print(response.status_code)\n",
    "\n",
    "content = response.json()[\"results\"][0][\"content\"]\n",
    "soup = BeautifulSoup(content, \"html.parser\")\n",
    "\n",
    "title = soup.find(\"h1\", {\"data-hb-id\": \"Heading\"}).text\n",
    "price = soup.find(\"div\", {\"class\": \"SFPrice\"}).find(\"span\", {\"class\": \"oakhm64z_6112\"}).text\n",
    "rating = soup.find(\"span\", {\"class\": \"ProductRatingNumberWithCount-rating\"}).text\n",
    "\n",
    "data = [{\n",
    "   \"Product Title\": title,\n",
    "   \"Price\": price,\n",
    "   \"Rating\": rating,\n",
    "   \"Link\": product_url,\n",
    "}]\n",
    "df = pd.DataFrame(data)\n",
    "# df.to_csv(\"product_data.csv\", index=False)\n",
    "# df.to_json(\"product_data.json\", orient=\"records\")"
   ]
  },
  {
   "cell_type": "code",
   "execution_count": 15,
   "id": "c5ac68eb",
   "metadata": {},
   "outputs": [
    {
     "name": "stdout",
     "output_type": "stream",
     "text": [
      "💲 Product Price: $539.99\n"
     ]
    }
   ],
   "source": [
    "import requests\n",
    "from bs4 import BeautifulSoup\n",
    "\n",
    "# Your Oxylabs API credentials\n",
    "USERNAME = \"joe528491_EoLxB\"\n",
    "PASSWORD = \"Adej24972497_01\"\n",
    "\n",
    "# Set up payload\n",
    "payload = {\n",
    "    \"source\": \"universal_ecommerce\",  # 或是 \"universal_ecommerce\"，看你要不要加 render\n",
    "    \"url\": \"https://www.wayfair.com/furniture/pdp/hokku-designs-63-l-shaped-office-executive-standing-desk-with-file-cabinet-w112715089.html\",\n",
    "    \"user_agent_type\": \"desktop_safari\",\n",
    "    \"geo_location\": \"United States\",\n",
    "    \"render\": \"html\"  # html代表要完整渲染\n",
    "}\n",
    "\n",
    "# Send POST request\n",
    "response = requests.post(\n",
    "    \"https://realtime.oxylabs.io/v1/queries\",\n",
    "    auth=(USERNAME, PASSWORD),\n",
    "    json=payload,\n",
    "    timeout=180\n",
    ")\n",
    "\n",
    "# Check response\n",
    "if response.status_code == 200:\n",
    "    result = response.json()\n",
    "    html_content = result[\"results\"][0][\"content\"]\n",
    "\n",
    "    # Optional: parse with BeautifulSoup\n",
    "    soup = BeautifulSoup(html_content, \"html.parser\")\n",
    "\n",
    "    # Example: find price\n",
    "    price_span = soup.find(\"span\", {\"data-test-id\": \"PriceDisplay\"})\n",
    "    if price_span:\n",
    "        price = price_span.get_text(strip=True)\n",
    "        print(f\"💲 Product Price: {price}\")\n",
    "    else:\n",
    "        print(\"⚠️ Price not found.\")\n",
    "\n",
    "else:\n",
    "    print(f\"❌ Request failed with status code {response.status_code}\")\n",
    "    print(response.text)\n"
   ]
  },
  {
   "cell_type": "code",
   "execution_count": 13,
   "id": "0e3b08c5",
   "metadata": {},
   "outputs": [
    {
     "name": "stdout",
     "output_type": "stream",
     "text": [
      "{'results': [{'content': '', 'created_at': '2025-04-28 00:58:15', 'updated_at': '2025-04-28 00:59:08', 'page': 1, 'url': 'https://www.wayfair.com/furniture/pdp/hokku-designs-63-l-shaped-office-executive-standing-desk-with-file-cabinet-w112715089.html', 'job_id': '7322423874488919042', 'is_render_forced': False, 'status_code': 613}], 'job': {'callback_url': None, 'client_id': 109838, 'context': [{'key': 'force_headers', 'value': False}, {'key': 'force_cookies', 'value': False}, {'key': 'hc_policy', 'value': True}, {'key': 'successful_status_codes', 'value': []}, {'key': 'follow_redirects', 'value': None}, {'key': 'cookies', 'value': []}, {'key': 'headers', 'value': []}, {'key': 'session_id', 'value': None}, {'key': 'http_method', 'value': 'get'}, {'key': 'content', 'value': None}, {'key': 'store_id', 'value': None}, {'key': 'proxy_location', 'value': None}, {'key': 'delivery_location', 'value': None}, {'key': 'fulfillment_type', 'value': None}], 'created_at': '2025-04-28 00:58:15', 'domain': 'com', 'geo_location': 'United States', 'id': '7322423874488919042', 'limit': 10, 'locale': None, 'pages': 1, 'parse': False, 'parser_type': None, 'parsing_instructions': None, 'browser_instructions': None, 'render': 'html', 'url': 'https://www.wayfair.com/furniture/pdp/hokku-designs-63-l-shaped-office-executive-standing-desk-with-file-cabinet-w112715089.html', 'query': '', 'source': 'universal_ecommerce', 'start_page': 1, 'status': 'faulted', 'storage_type': None, 'storage_url': None, 'subdomain': 'www', 'content_encoding': 'utf-8', 'updated_at': '2025-04-28 00:59:08', 'user_agent_type': 'desktop_safari', 'session_info': None, 'statuses': [], 'client_notes': None, '_links': [{'rel': 'self', 'href': 'http://data.oxylabs.io/v1/queries/7322423874488919042', 'method': 'GET'}, {'rel': 'results', 'href': 'http://data.oxylabs.io/v1/queries/7322423874488919042/results', 'method': 'GET'}, {'rel': 'results-content', 'href_list': ['http://data.oxylabs.io/v1/queries/7322423874488919042/results/1/content'], 'method': 'GET'}, {'rel': 'results-html', 'href': 'http://data.oxylabs.io/v1/queries/7322423874488919042/results?type=raw', 'method': 'GET'}, {'rel': 'results-content-html', 'href_list': ['http://data.oxylabs.io/v1/queries/7322423874488919042/results/1/content?type=raw'], 'method': 'GET'}]}}\n"
     ]
    }
   ],
   "source": [
    "print(result)"
   ]
  },
  {
   "cell_type": "code",
   "execution_count": 14,
   "id": "dd7cdee5",
   "metadata": {},
   "outputs": [
    {
     "name": "stdout",
     "output_type": "stream",
     "text": [
      "{'results': [{'content': '', 'created_at': '2025-04-28 00:58:15', 'updated_at': '2025-04-28 00:59:08', 'page': 1, 'url': 'https://www.wayfair.com/furniture/pdp/hokku-designs-63-l-shaped-office-executive-standing-desk-with-file-cabinet-w112715089.html', 'job_id': '7322423874488919042', 'is_render_forced': False, 'status_code': 613}], 'job': {'callback_url': None, 'client_id': 109838, 'context': [{'key': 'force_headers', 'value': False}, {'key': 'force_cookies', 'value': False}, {'key': 'hc_policy', 'value': True}, {'key': 'successful_status_codes', 'value': []}, {'key': 'follow_redirects', 'value': None}, {'key': 'cookies', 'value': []}, {'key': 'headers', 'value': []}, {'key': 'session_id', 'value': None}, {'key': 'http_method', 'value': 'get'}, {'key': 'content', 'value': None}, {'key': 'store_id', 'value': None}, {'key': 'proxy_location', 'value': None}, {'key': 'delivery_location', 'value': None}, {'key': 'fulfillment_type', 'value': None}], 'created_at': '2025-04-28 00:58:15', 'domain': 'com', 'geo_location': 'United States', 'id': '7322423874488919042', 'limit': 10, 'locale': None, 'pages': 1, 'parse': False, 'parser_type': None, 'parsing_instructions': None, 'browser_instructions': None, 'render': 'html', 'url': 'https://www.wayfair.com/furniture/pdp/hokku-designs-63-l-shaped-office-executive-standing-desk-with-file-cabinet-w112715089.html', 'query': '', 'source': 'universal_ecommerce', 'start_page': 1, 'status': 'faulted', 'storage_type': None, 'storage_url': None, 'subdomain': 'www', 'content_encoding': 'utf-8', 'updated_at': '2025-04-28 00:59:08', 'user_agent_type': 'desktop_safari', 'session_info': None, 'statuses': [], 'client_notes': None, '_links': [{'rel': 'self', 'href': 'http://data.oxylabs.io/v1/queries/7322423874488919042', 'method': 'GET'}, {'rel': 'results', 'href': 'http://data.oxylabs.io/v1/queries/7322423874488919042/results', 'method': 'GET'}, {'rel': 'results-content', 'href_list': ['http://data.oxylabs.io/v1/queries/7322423874488919042/results/1/content'], 'method': 'GET'}, {'rel': 'results-html', 'href': 'http://data.oxylabs.io/v1/queries/7322423874488919042/results?type=raw', 'method': 'GET'}, {'rel': 'results-content-html', 'href_list': ['http://data.oxylabs.io/v1/queries/7322423874488919042/results/1/content?type=raw'], 'method': 'GET'}]}}\n"
     ]
    }
   ],
   "source": [
    "print(response.json())\n"
   ]
  }
 ],
 "metadata": {
  "kernelspec": {
   "display_name": "msds597",
   "language": "python",
   "name": "python3"
  },
  "language_info": {
   "codemirror_mode": {
    "name": "ipython",
    "version": 3
   },
   "file_extension": ".py",
   "mimetype": "text/x-python",
   "name": "python",
   "nbconvert_exporter": "python",
   "pygments_lexer": "ipython3",
   "version": "3.12.8"
  }
 },
 "nbformat": 4,
 "nbformat_minor": 5
}
